{
 "cells": [
  {
   "cell_type": "markdown",
   "metadata": {
    "id": "AR3wtZo9vfKS"
   },
   "source": [
    "# Install Dependencies"
   ]
  },
  {
   "cell_type": "code",
   "execution_count": 1,
   "metadata": {
    "colab": {
     "base_uri": "https://localhost:8080/"
    },
    "id": "yuxqmLnAvcbG",
    "outputId": "34c3f2f7-543e-42b6-958a-1d259c29e0b0"
   },
   "outputs": [
    {
     "name": "stdout",
     "output_type": "stream",
     "text": [
      "Looking in indexes: https://pypi.org/simple, https://us-python.pkg.dev/colab-wheels/public/simple/\n",
      "Collecting torch==1.9.0\n",
      "  Downloading torch-1.9.0-cp38-cp38-manylinux1_x86_64.whl (831.4 MB)\n",
      "\u001B[2K     \u001B[90m━━━━━━━━━━━━━━━━━━━━━━━━━━━━━━━━━━━━━━━\u001B[0m \u001B[32m831.4/831.4 MB\u001B[0m \u001B[31m1.3 MB/s\u001B[0m eta \u001B[36m0:00:00\u001B[0m\n",
      "\u001B[?25hCollecting torchtext==0.10.0\n",
      "  Downloading torchtext-0.10.0-cp38-cp38-manylinux1_x86_64.whl (7.6 MB)\n",
      "\u001B[2K     \u001B[90m━━━━━━━━━━━━━━━━━━━━━━━━━━━━━━━━━━━━━━━━\u001B[0m \u001B[32m7.6/7.6 MB\u001B[0m \u001B[31m70.2 MB/s\u001B[0m eta \u001B[36m0:00:00\u001B[0m\n",
      "\u001B[?25hRequirement already satisfied: typing-extensions in /usr/local/lib/python3.8/dist-packages (from torch==1.9.0) (4.4.0)\n",
      "Requirement already satisfied: numpy in /usr/local/lib/python3.8/dist-packages (from torchtext==0.10.0) (1.21.6)\n",
      "Requirement already satisfied: requests in /usr/local/lib/python3.8/dist-packages (from torchtext==0.10.0) (2.25.1)\n",
      "Requirement already satisfied: tqdm in /usr/local/lib/python3.8/dist-packages (from torchtext==0.10.0) (4.64.1)\n",
      "Requirement already satisfied: urllib3<1.27,>=1.21.1 in /usr/local/lib/python3.8/dist-packages (from requests->torchtext==0.10.0) (1.24.3)\n",
      "Requirement already satisfied: idna<3,>=2.5 in /usr/local/lib/python3.8/dist-packages (from requests->torchtext==0.10.0) (2.10)\n",
      "Requirement already satisfied: chardet<5,>=3.0.2 in /usr/local/lib/python3.8/dist-packages (from requests->torchtext==0.10.0) (4.0.0)\n",
      "Requirement already satisfied: certifi>=2017.4.17 in /usr/local/lib/python3.8/dist-packages (from requests->torchtext==0.10.0) (2022.12.7)\n",
      "Installing collected packages: torch, torchtext\n",
      "  Attempting uninstall: torch\n",
      "    Found existing installation: torch 1.13.1+cu116\n",
      "    Uninstalling torch-1.13.1+cu116:\n",
      "      Successfully uninstalled torch-1.13.1+cu116\n",
      "  Attempting uninstall: torchtext\n",
      "    Found existing installation: torchtext 0.14.1\n",
      "    Uninstalling torchtext-0.14.1:\n",
      "      Successfully uninstalled torchtext-0.14.1\n",
      "\u001B[31mERROR: pip's dependency resolver does not currently take into account all the packages that are installed. This behaviour is the source of the following dependency conflicts.\n",
      "torchvision 0.14.1+cu116 requires torch==1.13.1, but you have torch 1.9.0 which is incompatible.\n",
      "torchaudio 0.13.1+cu116 requires torch==1.13.1, but you have torch 1.9.0 which is incompatible.\u001B[0m\u001B[31m\n",
      "\u001B[0mSuccessfully installed torch-1.9.0 torchtext-0.10.0\n"
     ]
    }
   ],
   "source": [
    "!pip install torch==1.9.0 torchtext==0.10.0"
   ]
  },
  {
   "cell_type": "markdown",
   "metadata": {
    "id": "lt-beZdsvQtS"
   },
   "source": [
    "# Import Necessary Libraries"
   ]
  },
  {
   "cell_type": "code",
   "execution_count": 27,
   "metadata": {
    "id": "-FZ7C3f-UGx4"
   },
   "outputs": [],
   "source": [
    "import torch\n",
    "import torch.nn as nn\n",
    "\n",
    "import random\n",
    "import argparse\n",
    "\n",
    "import numpy as np\n",
    "\n",
    "import matplotlib.pyplot as plt\n",
    "%matplotlib inline\n",
    "\n",
    "from torchtext.legacy import data\n",
    "from torchtext.legacy import datasets\n",
    "\n",
    "from torch.utils.data import Dataset, DataLoader\n",
    "from torch.nn.utils.rnn import pad_sequence\n",
    "\n",
    "from sklearn.model_selection import train_test_split\n",
    "from tqdm import tqdm\n",
    "\n",
    "import time\n",
    "from datetime import datetime\n",
    "\n",
    "import spacy\n",
    "nlp = spacy.load('en_core_web_sm')"
   ]
  },
  {
   "cell_type": "markdown",
   "metadata": {
    "id": "MosGAaTuxk9V"
   },
   "source": [
    "# Use GPU\n",
    "Set Device = CUDA if available"
   ]
  },
  {
   "cell_type": "code",
   "execution_count": 3,
   "metadata": {
    "colab": {
     "base_uri": "https://localhost:8080/"
    },
    "id": "LhceMWPHxaKn",
    "outputId": "889cff49-cad0-4988-a2fe-f273ddec8533"
   },
   "outputs": [
    {
     "name": "stdout",
     "output_type": "stream",
     "text": [
      "cuda\n"
     ]
    }
   ],
   "source": [
    "device = torch.device('cuda' if torch.cuda.is_available() else 'cpu')\n",
    "print(device)"
   ]
  },
  {
   "cell_type": "markdown",
   "metadata": {
    "id": "pTH9yhaY-B1i"
   },
   "source": [
    "# Hyper-Parameters"
   ]
  },
  {
   "cell_type": "code",
   "execution_count": 4,
   "metadata": {
    "id": "3ECvGdEx98Gf"
   },
   "outputs": [],
   "source": [
    "argument_parser = argparse.ArgumentParser()\n",
    "argument_parser.add_argument(\"--epochs\", dest = \"EPOCHS\", type = int, default = 5)\n",
    "argument_parser.add_argument(\"--batch_size\", dest = \"BATCH_SIZE\", type = int, default = 64)\n",
    "argument_parser.add_argument(\"--embed_dim\", dest = \"EMBED_DIM\", type = int, default = 100)\n",
    "argument_parser.add_argument(\"--hidden_dim\", dest = \"HIDDEN_DIM\", type = int, default = 256)\n",
    "argument_parser.add_argument(\"--num_layers\", dest = \"NUM_LAYERS\", type = int, default = 2)\n",
    "argument_parser.add_argument(\"--bidirectional\", dest = \"BIDIRECTIONAL\", type = bool, default = True)\n",
    "argument_parser.add_argument(\"--optimizer\", dest = \"OPTIMIZER\", type = str, default = 'Adam')\n",
    "argument_parser.add_argument(\"--loss_fn\", dest = \"LOSS_FN\", type = str, default = 'BCELoss')\n",
    "argument_parser.add_argument(\"--learning_rate\", dest = \"LEARNING_RATE\", type = float, default =  1e-2)\n",
    "argument_parser.add_argument(\"--dropout\", dest = \"DROPOUT\", type = float, default =  0.2)\n",
    "arguments, unknown = argument_parser.parse_known_args()"
   ]
  },
  {
   "cell_type": "markdown",
   "metadata": {
    "id": "Jj3T-frfwB9t"
   },
   "source": [
    "# Set SEED value for reproducible results\n",
    "# and\n",
    "# Load Dataset"
   ]
  },
  {
   "cell_type": "code",
   "execution_count": 5,
   "metadata": {
    "id": "YkxM4l7Cvm3G"
   },
   "outputs": [],
   "source": [
    "SEED = 1234\n",
    "\n",
    "torch.manual_seed(SEED)\n",
    "torch.backends.cudnn.deterministic = True\n",
    "\n",
    "TEXT = data.Field(tokenize = 'spacy',\n",
    "                  tokenizer_language = 'en_core_web_sm')\n",
    "LABEL = data.LabelField(dtype = torch.float)"
   ]
  },
  {
   "cell_type": "markdown",
   "metadata": {
    "id": "N03biksPb-zy"
   },
   "source": [
    "# Create Dataset Splits and Build Vocab"
   ]
  },
  {
   "cell_type": "code",
   "execution_count": 6,
   "metadata": {
    "colab": {
     "base_uri": "https://localhost:8080/"
    },
    "id": "D3SulDgksO_G",
    "outputId": "a9533e0a-5605-4ab8-ae47-a08088cf32cc"
   },
   "outputs": [
    {
     "name": "stdout",
     "output_type": "stream",
     "text": [
      "downloading aclImdb_v1.tar.gz\n"
     ]
    },
    {
     "name": "stderr",
     "output_type": "stream",
     "text": [
      "aclImdb_v1.tar.gz: 100%|██████████| 84.1M/84.1M [00:07<00:00, 10.5MB/s]\n"
     ]
    },
    {
     "name": "stdout",
     "output_type": "stream",
     "text": [
      "Number of training examples: 25000\n",
      "Number of testing examples: 25000\n"
     ]
    }
   ],
   "source": [
    "train_data, test_data = datasets.IMDB.splits(TEXT, LABEL)\n",
    "print(f'Number of training examples: {len(train_data)}')\n",
    "print(f'Number of testing examples: {len(test_data)}')"
   ]
  },
  {
   "cell_type": "code",
   "execution_count": 7,
   "metadata": {
    "colab": {
     "base_uri": "https://localhost:8080/"
    },
    "id": "Mnb-rchBtY9Y",
    "outputId": "23aa5685-7b93-45c8-e0d7-dd8d0778b20d"
   },
   "outputs": [
    {
     "name": "stdout",
     "output_type": "stream",
     "text": [
      "Number of training examples: 17500\n",
      "Number of validation examples: 7500\n",
      "Number of testing examples: 25000\n"
     ]
    }
   ],
   "source": [
    "train_data, valid_data = train_data.split(random_state = random.seed(SEED))\n",
    "print(f'Number of training examples: {len(train_data)}')\n",
    "print(f'Number of validation examples: {len(valid_data)}')\n",
    "print(f'Number of testing examples: {len(test_data)}')"
   ]
  },
  {
   "cell_type": "code",
   "execution_count": 8,
   "metadata": {
    "colab": {
     "base_uri": "https://localhost:8080/"
    },
    "id": "uLjGElXQvE1A",
    "outputId": "36f4840c-4a51-480c-dc78-3edf28e94cfb"
   },
   "outputs": [
    {
     "name": "stdout",
     "output_type": "stream",
     "text": [
      "Unique tokens in TEXT vocabulary: 25002\n",
      "Unique tokens in LABEL vocabulary: 2\n",
      "Most common 20 tokens in TEXT vocabulary: [('the', 204529), (',', 194102), ('.', 166563), ('a', 110287), ('and', 110143), ('of', 101580), ('to', 94293), ('is', 76990), ('in', 61616), ('I', 54577), ('it', 53786), ('that', 49458), ('\"', 44570), (\"'s\", 43600), ('this', 42568), ('-', 37811), ('/><br', 35793), ('was', 34872), ('as', 30541), ('with', 30138)]\n"
     ]
    }
   ],
   "source": [
    "MAX_VOCAB_SIZE = 25_000\n",
    "\n",
    "TEXT.build_vocab(train_data, max_size = MAX_VOCAB_SIZE)\n",
    "LABEL.build_vocab(train_data)\n",
    "print(f\"Unique tokens in TEXT vocabulary: {len(TEXT.vocab)}\")\n",
    "print(f\"Unique tokens in LABEL vocabulary: {len(LABEL.vocab)}\")\n",
    "print(f\"Most common 20 tokens in TEXT vocabulary: {TEXT.vocab.freqs.most_common(20)}\")"
   ]
  },
  {
   "cell_type": "markdown",
   "metadata": {
    "id": "N-4fcNkY2GyS"
   },
   "source": [
    "# Dictionary for words (Vocabulary)\n"
   ]
  },
  {
   "cell_type": "code",
   "execution_count": 9,
   "metadata": {
    "colab": {
     "base_uri": "https://localhost:8080/"
    },
    "id": "jB4s88LI1CiN",
    "outputId": "500c1c93-ca22-4dd8-c483-94a7f2ea2d43"
   },
   "outputs": [
    {
     "name": "stdout",
     "output_type": "stream",
     "text": [
      "UNK Token: 0\n",
      "PAD Token: 1\n"
     ]
    }
   ],
   "source": [
    "word2idx = TEXT.vocab.stoi\n",
    "\n",
    "idx2word = { idx: word for word, idx in word2idx.items() }\n",
    "\n",
    "unk_token = word2idx['<unk>']\n",
    "padding_token = word2idx['<pad>']\n",
    "print(f'UNK Token: {unk_token}')\n",
    "print(f'PAD Token: {padding_token}')"
   ]
  },
  {
   "cell_type": "markdown",
   "metadata": {
    "id": "w3Tcodq6x35S"
   },
   "source": [
    "# Add Input Dim and Output Dim to arguments"
   ]
  },
  {
   "cell_type": "code",
   "execution_count": 10,
   "metadata": {
    "colab": {
     "base_uri": "https://localhost:8080/"
    },
    "id": "r-ql7ubIuZvn",
    "outputId": "35d3d681-0e62-4905-9046-a36937a7bad9"
   },
   "outputs": [
    {
     "name": "stdout",
     "output_type": "stream",
     "text": [
      "Namespace(BATCH_SIZE=64, BIDIRECTIONAL=True, DROPOUT=0.2, EMBED_DIM=100, EPOCHS=5, HIDDEN_DIM=256, INPUT_DIM=25002, LEARNING_RATE=0.01, LOSS_FN='BCELoss', NUM_LAYERS=2, OPTIMIZER='Adam', OUTPUT_DIM=1)\n"
     ]
    }
   ],
   "source": [
    "argument_parser.add_argument(\"--input_dim\", dest = \"INPUT_DIM\", type = int, default = len(word2idx))\n",
    "argument_parser.add_argument(\"--output_dim\", dest = \"OUTPUT_DIM\", type = int, default = 1)\n",
    "arguments, unknown = argument_parser.parse_known_args()\n",
    "print(arguments)"
   ]
  },
  {
   "cell_type": "markdown",
   "metadata": {
    "id": "qhxw72fT28JR"
   },
   "source": [
    "# IMDB Dataset Class"
   ]
  },
  {
   "cell_type": "code",
   "execution_count": 11,
   "metadata": {
    "id": "4gnkQBdc2AKj"
   },
   "outputs": [],
   "source": [
    "class IMDBDataset(Dataset):\n",
    "\n",
    "  def __init__(self, \n",
    "               data):\n",
    "      self.data = data.examples\n",
    "\n",
    "  def __len__(self):\n",
    "      return len(self.data)\n",
    "\n",
    "  def __getitem__(self, \n",
    "                  idx: int):\n",
    "      \"\"\"\n",
    "      Returns\n",
    "      -------\n",
    "      tuple\n",
    "            a tuple of encoded text and encoded label from the \n",
    "            dataset (an instance from a dataset given by idx)\n",
    "      \"\"\"\n",
    "      # Encoding Text\n",
    "      encoded_text = self.encode_text(self.data[idx].text)\n",
    "      # Encoding Label\n",
    "      encoded_label = self.encode_label(self.data[idx].label)\n",
    "      return encoded_text, encoded_label\n",
    "\n",
    "  def encode_text(self, \n",
    "                  text: list):\n",
    "      text_vector = list()\n",
    "      for word in text:\n",
    "          if word in word2idx:\n",
    "              text_vector.append(word2idx[word])\n",
    "          else:\n",
    "              text_vector.append(1)\n",
    "      return text_vector\n",
    "\n",
    "  def encode_label(self, \n",
    "                   label: int):\n",
    "      label = 0 if label == 'pos' else 1\n",
    "      return label"
   ]
  },
  {
   "cell_type": "markdown",
   "metadata": {
    "id": "zdj1Fmrv2mnR"
   },
   "source": [
    "# Datset Object for DataLoader"
   ]
  },
  {
   "cell_type": "code",
   "execution_count": 12,
   "metadata": {
    "id": "VRbq-Rqd2kTO"
   },
   "outputs": [],
   "source": [
    "train_ds = IMDBDataset(train_data)\n",
    "\n",
    "val_ds = IMDBDataset(valid_data)\n",
    "\n",
    "test_ds = IMDBDataset(test_data)"
   ]
  },
  {
   "cell_type": "markdown",
   "metadata": {
    "id": "vSQLZHQM8m0X"
   },
   "source": [
    "# Custom Collate function"
   ]
  },
  {
   "cell_type": "code",
   "execution_count": 13,
   "metadata": {
    "id": "82Rsdstp8mgV"
   },
   "outputs": [],
   "source": [
    "def custom_collate_fn(batch):\n",
    "    \"\"\"\n",
    "    Adds padding token '0' at the end of each text vector to make it\n",
    "    of the same length as the maximum length input in the batch.\n",
    "\n",
    "    Returns\n",
    "    -------\n",
    "    tuple\n",
    "        a tuple of padded text tensors, label tensors and text lengths tensor in a batch\n",
    "    \"\"\"\n",
    "    texts, labels = zip(*batch)\n",
    "    \n",
    "    texts_tensor = [torch.tensor(text, device = device) for text in texts]\n",
    "    labels_tensor = torch.tensor(labels, device = device)\n",
    "\n",
    "    lengths = [len(text) for text in texts]\n",
    "    lengths = torch.tensor(lengths, device = 'cpu') # Lengths need to be on CPU\n",
    "    \n",
    "    texts_padded = pad_sequence(texts_tensor, batch_first = False, padding_value = padding_token)\n",
    "    \n",
    "    return texts_padded, labels_tensor, lengths"
   ]
  },
  {
   "cell_type": "markdown",
   "metadata": {
    "id": "PYe_DC6B86X2"
   },
   "source": [
    "# PyTorch Data Loaders"
   ]
  },
  {
   "cell_type": "code",
   "execution_count": 14,
   "metadata": {
    "id": "EY-oSGvx85MM"
   },
   "outputs": [],
   "source": [
    "train_loader = DataLoader(train_ds, \n",
    "                          batch_size = arguments.BATCH_SIZE, \n",
    "                          shuffle = True, \n",
    "                          collate_fn = custom_collate_fn)\n",
    "\n",
    "val_loader = DataLoader(val_ds, \n",
    "                        batch_size = arguments.BATCH_SIZE, \n",
    "                        shuffle = True, \n",
    "                        collate_fn = custom_collate_fn)\n",
    "\n",
    "test_loader = DataLoader(test_ds, \n",
    "                         batch_size = arguments.BATCH_SIZE, \n",
    "                         shuffle = False, \n",
    "                         collate_fn = custom_collate_fn)"
   ]
  },
  {
   "cell_type": "markdown",
   "metadata": {
    "id": "ajZ1zvWZDu_b"
   },
   "source": [
    "# LSTM Model"
   ]
  },
  {
   "cell_type": "code",
   "execution_count": 15,
   "metadata": {
    "id": "G2Q_691xD-5j"
   },
   "outputs": [],
   "source": [
    "class LSTM(nn.Module):\n",
    "\n",
    "    def __init__(self, \n",
    "                 input_dim, \n",
    "                 embedding_dim, \n",
    "                 hidden_dim, \n",
    "                 output_dim, \n",
    "                 n_layers, \n",
    "                 bidirectional, \n",
    "                 dropout):\n",
    "        super(LSTM, self).__init__()\n",
    "        # Initialize Embedding Layer\n",
    "        self.embedding = nn.Embedding(input_dim, embedding_dim)\n",
    "        # Initialzie LSTM layer to process the vector sequences \n",
    "        self.lstm = nn.LSTM(embedding_dim, \n",
    "                            hidden_dim,\n",
    "                            num_layers = n_layers,\n",
    "                            bidirectional = bidirectional,\n",
    "                            dropout = dropout,\n",
    "                            batch_first = False)\n",
    "        num_directions = 2 if bidirectional else 1\n",
    "        # Initialize Dense layer to predict\n",
    "        self.fc = nn.Linear(hidden_dim * num_directions, output_dim)\n",
    "        # Initialize dropout to improve with regularization\n",
    "        self.dropout = nn.Dropout(dropout)\n",
    "\n",
    "    def forward(self, \n",
    "                x, \n",
    "                x_lengths):\n",
    "        # Embedding Layer\n",
    "        embedded = self.embedding(x)\n",
    "        # Dropout Layer before LSTM Layer\n",
    "        embedded = self.dropout(embedded)\n",
    "        # Packed Sequence\n",
    "        packed_embedded = nn.utils.rnn.pack_padded_sequence(embedded, \n",
    "                                                            x_lengths, \n",
    "                                                            batch_first = False, \n",
    "                                                            enforce_sorted = False)\n",
    "        # LSTM Layer\n",
    "        packed_output, (hidden, cell) = self.lstm(packed_embedded)\n",
    "        # Unpack sequence\n",
    "        output, output_lengths = nn.utils.rnn.pad_packed_sequence(packed_output, \n",
    "                                                                  batch_first = False)\n",
    "        # Concat the final forward (hidden[-2,:,:]) and backward (hidden[-1,:,:]) hidden layers and Apply Dropout\n",
    "        hidden = self.dropout(torch.cat((hidden[-2,:,:], hidden[-1,:,:]), dim = 1))\n",
    "        # Fully Connected Layer\n",
    "        output = self.fc(hidden)\n",
    "        return output"
   ]
  },
  {
   "cell_type": "code",
   "execution_count": 16,
   "metadata": {
    "colab": {
     "base_uri": "https://localhost:8080/"
    },
    "id": "AIEuo8BxjrUN",
    "outputId": "08d4d5f7-b664-46d8-b192-8e07a6471cfa"
   },
   "outputs": [
    {
     "name": "stdout",
     "output_type": "stream",
     "text": [
      "LSTM Model:  LSTM(\n",
      "  (embedding): Embedding(25002, 100)\n",
      "  (lstm): LSTM(100, 256, num_layers=2, dropout=0.2, bidirectional=True)\n",
      "  (fc): Linear(in_features=512, out_features=1, bias=True)\n",
      "  (dropout): Dropout(p=0.2, inplace=False)\n",
      ")\n"
     ]
    }
   ],
   "source": [
    "model = LSTM(arguments.INPUT_DIM, \n",
    "             arguments.EMBED_DIM, \n",
    "             arguments.HIDDEN_DIM, \n",
    "             arguments.OUTPUT_DIM, \n",
    "             arguments.NUM_LAYERS, \n",
    "             arguments.BIDIRECTIONAL, \n",
    "             arguments.DROPOUT).to(device)\n",
    "\n",
    "print('LSTM Model: ', model)"
   ]
  },
  {
   "cell_type": "markdown",
   "metadata": {
    "id": "LWM47UEJAfaa"
   },
   "source": [
    "# Total Trainable parameters for LSTM Model"
   ]
  },
  {
   "cell_type": "code",
   "execution_count": 17,
   "metadata": {
    "colab": {
     "base_uri": "https://localhost:8080/"
    },
    "id": "lSvcy8SP2Ue4",
    "outputId": "6d638d82-ce75-47ff-86a0-7c4d42ea611f"
   },
   "outputs": [
    {
     "name": "stdout",
     "output_type": "stream",
     "text": [
      "The model has 4,810,857 trainable parameters\n"
     ]
    }
   ],
   "source": [
    "def count_parameters(model):\n",
    "    return sum(p.numel() for p in model.parameters() if p.requires_grad)\n",
    "\n",
    "print(f'The model has {count_parameters(model):,} trainable parameters')"
   ]
  },
  {
   "cell_type": "markdown",
   "metadata": {
    "id": "4l10esx9EJTD"
   },
   "source": [
    "# Train and Validation Functions for the Model"
   ]
  },
  {
   "cell_type": "code",
   "execution_count": 18,
   "metadata": {
    "id": "KwgIMB4Ijowz"
   },
   "outputs": [],
   "source": [
    "def binary_accuracy(preds, y):\n",
    "    \"\"\"\n",
    "    Returns accuracy per batch, i.e. if you get 8/10 right, this returns 0.8, NOT 8\n",
    "    \"\"\"\n",
    "    #round predictions to the closest integer\n",
    "    rounded_preds = torch.round(torch.sigmoid(preds))\n",
    "    correct = (rounded_preds == y).float() #convert into float for division \n",
    "    acc = correct.sum() / len(correct)\n",
    "    return acc\n",
    "\n",
    "# Model Train Function\n",
    "def train(loader, \n",
    "          model, \n",
    "          optimizer, \n",
    "          loss_fn):\n",
    "    model.train()\n",
    "    losses = []\n",
    "    pbar = tqdm(loader, desc = 'Training...', colour = 'red')\n",
    "    for x, y, x_lengths in pbar:\n",
    "        optimizer.zero_grad()\n",
    "        \n",
    "        # Calculate y_pred\n",
    "        y_pred = model(x, x_lengths).squeeze(1)\n",
    "        \n",
    "        loss = loss_fn(y_pred, y.float())\n",
    "        pbar.set_postfix({'Loss': loss.item()})\n",
    "        losses.append(loss.item())\n",
    "\n",
    "        acc = binary_accuracy(y_pred, y)\n",
    "        \n",
    "        # Calculate gradients for w/b\n",
    "        loss.backward()  \n",
    "        # Update weights according to optimizer rules\n",
    "        optimizer.step()          \n",
    "    return sum(losses) / len(losses), acc\n",
    "\n",
    "# Model Evaluate Function\n",
    "def evaluate(loader, \n",
    "             model, \n",
    "             loss_fn):\n",
    "    model.eval()\n",
    "    losses = []\n",
    "    pbar = tqdm(loader, desc = 'Evaluation...', colour = 'green')\n",
    "    for x, y, x_lengths in pbar:\n",
    "\n",
    "        # Calculate y_pred\n",
    "        y_pred = model(x, x_lengths).squeeze(1)\n",
    "        \n",
    "        loss = loss_fn(y_pred, y.float())\n",
    "        pbar.set_postfix({'Loss': loss.item()})\n",
    "        losses.append(loss.item())\n",
    "\n",
    "        acc = binary_accuracy(y_pred, y)\n",
    "              \n",
    "    return sum(losses) / len(losses), acc"
   ]
  },
  {
   "cell_type": "code",
   "execution_count": 19,
   "metadata": {
    "id": "N_hiVcRO-sTI"
   },
   "outputs": [],
   "source": [
    "def epoch_time(start_time, end_time):\n",
    "    elapsed_time = end_time - start_time\n",
    "    elapsed_mins = int(elapsed_time / 60)\n",
    "    elapsed_secs = int(elapsed_time - (elapsed_mins * 60))\n",
    "    return elapsed_mins, elapsed_secs"
   ]
  },
  {
   "cell_type": "markdown",
   "metadata": {
    "id": "sEQuEEGfEE8o"
   },
   "source": [
    "# Model Training and Validation"
   ]
  },
  {
   "cell_type": "code",
   "execution_count": 20,
   "metadata": {
    "colab": {
     "base_uri": "https://localhost:8080/"
    },
    "id": "n6eJQmsmAy0_",
    "outputId": "112f43a0-3021-472e-a23c-a71eeab448a1"
   },
   "outputs": [
    {
     "name": "stderr",
     "output_type": "stream",
     "text": [
      "Training...: 100%|\u001B[31m██████████\u001B[0m| 274/274 [01:05<00:00,  4.20it/s, Loss=0.659]\n",
      "Evaluation...: 100%|\u001B[32m██████████\u001B[0m| 118/118 [00:09<00:00, 12.03it/s, Loss=0.674]\n"
     ]
    },
    {
     "name": "stdout",
     "output_type": "stream",
     "text": [
      "\n",
      "\tEpoch: 01 | Epoch Time: 1m 15s\n",
      "\tTrain Loss: 0.691 | Train Acc: 64.29%\n",
      "\tValidation Loss: 0.681 | Validation Acc: 58.33%\n",
      "\n"
     ]
    },
    {
     "name": "stderr",
     "output_type": "stream",
     "text": [
      "Training...: 100%|\u001B[31m██████████\u001B[0m| 274/274 [01:05<00:00,  4.17it/s, Loss=0.582]\n",
      "Evaluation...: 100%|\u001B[32m██████████\u001B[0m| 118/118 [00:10<00:00, 10.76it/s, Loss=0.653]\n"
     ]
    },
    {
     "name": "stdout",
     "output_type": "stream",
     "text": [
      "\n",
      "\tEpoch: 02 | Epoch Time: 1m 16s\n",
      "\tTrain Loss: 0.673 | Train Acc: 78.57%\n",
      "\tValidation Loss: 0.668 | Validation Acc: 66.67%\n",
      "\n"
     ]
    },
    {
     "name": "stderr",
     "output_type": "stream",
     "text": [
      "Training...: 100%|\u001B[31m██████████\u001B[0m| 274/274 [01:05<00:00,  4.18it/s, Loss=0.322]\n",
      "Evaluation...: 100%|\u001B[32m██████████\u001B[0m| 118/118 [00:09<00:00, 12.07it/s, Loss=0.503]\n"
     ]
    },
    {
     "name": "stdout",
     "output_type": "stream",
     "text": [
      "\n",
      "\tEpoch: 03 | Epoch Time: 1m 15s\n",
      "\tTrain Loss: 0.598 | Train Acc: 89.29%\n",
      "\tValidation Loss: 0.528 | Validation Acc: 75.00%\n",
      "\n"
     ]
    },
    {
     "name": "stderr",
     "output_type": "stream",
     "text": [
      "Training...: 100%|\u001B[31m██████████\u001B[0m| 274/274 [01:05<00:00,  4.18it/s, Loss=0.506]\n",
      "Evaluation...: 100%|\u001B[32m██████████\u001B[0m| 118/118 [00:10<00:00, 10.92it/s, Loss=0.328]\n"
     ]
    },
    {
     "name": "stdout",
     "output_type": "stream",
     "text": [
      "\n",
      "\tEpoch: 04 | Epoch Time: 1m 16s\n",
      "\tTrain Loss: 0.495 | Train Acc: 78.57%\n",
      "\tValidation Loss: 0.497 | Validation Acc: 83.33%\n",
      "\n"
     ]
    },
    {
     "name": "stderr",
     "output_type": "stream",
     "text": [
      "Training...: 100%|\u001B[31m██████████\u001B[0m| 274/274 [01:05<00:00,  4.16it/s, Loss=0.217]\n",
      "Evaluation...: 100%|\u001B[32m██████████\u001B[0m| 118/118 [00:09<00:00, 11.98it/s, Loss=0.11]"
     ]
    },
    {
     "name": "stdout",
     "output_type": "stream",
     "text": [
      "\n",
      "\tEpoch: 05 | Epoch Time: 1m 15s\n",
      "\tTrain Loss: 0.421 | Train Acc: 96.43%\n",
      "\tValidation Loss: 0.472 | Validation Acc: 100.00%\n",
      "\n",
      "Training Time for Batch Size: 64 -> 379.71s\n"
     ]
    },
    {
     "name": "stderr",
     "output_type": "stream",
     "text": [
      "\n"
     ]
    }
   ],
   "source": [
    "# Optimizer\n",
    "if arguments.OPTIMIZER == 'Adam':\n",
    "    optimizer = torch.optim.Adam(model.parameters(), \n",
    "                                 lr = arguments.LEARNING_RATE)\n",
    "\n",
    "# Loss Function\n",
    "if arguments.LOSS_FN == 'BCELoss':\n",
    "    loss_fn = nn.BCEWithLogitsLoss().to(device)\n",
    "\n",
    "# Initialize Best Validation Loss\n",
    "best_valid_loss = float('inf')\n",
    "    \n",
    "# Path to Save Best Model\n",
    "PATH = f'lstm-best-model.pt'\n",
    "\n",
    "train_loss_list = []\n",
    "train_acc_list = []\n",
    "val_loss_list = []\n",
    "val_acc_list = []\n",
    "\n",
    "batch_start_time = time.time()\n",
    "\n",
    "for epoch in range(arguments.EPOCHS):\n",
    "\n",
    "    start_time = time.time()\n",
    "    \n",
    "    # Avg Train Loss, Train Accuracy\n",
    "    train_loss, train_acc = train(train_loader, \n",
    "                                  model, \n",
    "                                  optimizer, \n",
    "                                  loss_fn)\n",
    "    train_loss_list.append(train_loss)\n",
    "    train_acc_list.append(train_acc.detach().cpu().numpy())\n",
    "\n",
    "    # Avg Val Loss, Val Accuracy\n",
    "    val_loss, val_acc = evaluate(val_loader, \n",
    "                                 model, \n",
    "                                 loss_fn)\n",
    "    val_loss_list.append(val_loss)\n",
    "    val_acc_list.append(val_acc.detach().cpu().numpy())\n",
    "\n",
    "    end_time = time.time()\n",
    "\n",
    "    epoch_mins, epoch_secs = epoch_time(start_time, end_time)\n",
    "\n",
    "    print(f'\\n\\tEpoch: {epoch+1:02} | Epoch Time: {epoch_mins}m {epoch_secs}s')\n",
    "    print(f'\\tTrain Loss: {train_loss:.3f} | Train Acc: {train_acc*100:.2f}%')\n",
    "    print(f'\\tValidation Loss: {val_loss:.3f} | Validation Acc: {val_acc*100:.2f}%\\n')\n",
    "\n",
    "    if val_loss < best_valid_loss:\n",
    "        best_valid_loss = val_loss\n",
    "        torch.save(model.state_dict(), PATH)\n",
    "\n",
    "batch_end_time = time.time()\n",
    "batch_elapsed_time = batch_end_time - batch_start_time\n",
    "print(f'Training Time for Batch Size: {arguments.BATCH_SIZE} -> {batch_elapsed_time:.2f}s')"
   ]
  },
  {
   "cell_type": "markdown",
   "metadata": {
    "id": "N2OxDip6BHeC"
   },
   "source": [
    "# Line Plot Comparison: \n",
    "1. Training vs Val Loss\n",
    "2. Training vs Val Accuracy\n",
    "\n"
   ]
  },
  {
   "cell_type": "code",
   "execution_count": 21,
   "metadata": {
    "colab": {
     "base_uri": "https://localhost:8080/",
     "height": 581
    },
    "id": "qpUykMYVsuOs",
    "outputId": "af98c72a-9b60-4f5f-b605-4fc53eaf32de"
   },
   "outputs": [
    {
     "data": {
      "image/png": "[encoded data removed]",
      "text/plain": [
       "<Figure size 432x288 with 1 Axes>"
      ]
     },
     "metadata": {},
     "output_type": "display_data"
    },
    {
     "data": {
      "image/png": "[encoded data removed]",
      "text/plain": [
       "<Figure size 432x288 with 1 Axes>"
      ]
     },
     "metadata": {},
     "output_type": "display_data"
    }
   ],
   "source": [
    "epochs = np.arange(arguments.EPOCHS) + 1\n",
    "\n",
    "def plot_line(line_A_vals, \n",
    "              line_B_vals, \n",
    "              line_A_label, \n",
    "              line_B_label, \n",
    "              xlabel, \n",
    "              ylabel, \n",
    "              title):\n",
    "    plt.style.use('ggplot')\n",
    "    plt.plot(epochs, line_A_vals, label = line_A_label, color = \"red\", linewidth = '3')\n",
    "    plt.plot(epochs, line_B_vals, label = line_B_label, color = \"green\", linewidth = '3')\n",
    "    plt.xlabel(xlabel)\n",
    "    plt.xticks(epochs)\n",
    "    plt.ylabel(ylabel)\n",
    "    plt.title(title, color = 'black')\n",
    "    plt.legend(shadow = True)\n",
    "    plt.show()\n",
    "    \n",
    "# Training vs Val Loss Plot\n",
    "plot_line(train_loss_list, \n",
    "          val_loss_list, \n",
    "          'Training Loss', \n",
    "          'Val Loss', \n",
    "          'Epoch', \n",
    "          'Loss', \n",
    "          'Training Loss vs Val Loss')\n",
    "\n",
    "# Training vs Val Acc Plot\n",
    "plot_line(train_acc_list, \n",
    "          val_acc_list, \n",
    "          'Training Acc', \n",
    "          'Val Acc', \n",
    "          'Epoch', \n",
    "          'Accuracy', \n",
    "          'Training Acc vs Val Acc')"
   ]
  },
  {
   "cell_type": "markdown",
   "metadata": {
    "id": "fY2M8Sfh5k9u"
   },
   "source": [
    "## Load the saved model"
   ]
  },
  {
   "cell_type": "code",
   "execution_count": 22,
   "metadata": {
    "colab": {
     "base_uri": "https://localhost:8080/"
    },
    "id": "6PkRH2CF5kIp",
    "outputId": "0d961eb7-aa78-463a-a67b-aeac4f2e4215"
   },
   "outputs": [
    {
     "data": {
      "text/plain": [
       "LSTM(\n",
       "  (embedding): Embedding(25002, 100)\n",
       "  (lstm): LSTM(100, 256, num_layers=2, dropout=0.2, bidirectional=True)\n",
       "  (fc): Linear(in_features=512, out_features=1, bias=True)\n",
       "  (dropout): Dropout(p=0.2, inplace=False)\n",
       ")"
      ]
     },
     "execution_count": 22,
     "metadata": {},
     "output_type": "execute_result"
    }
   ],
   "source": [
    "saved_model = LSTM(arguments.INPUT_DIM, \n",
    "                   arguments.EMBED_DIM, \n",
    "                   arguments.HIDDEN_DIM, \n",
    "                   arguments.OUTPUT_DIM, \n",
    "                   arguments.NUM_LAYERS, \n",
    "                   arguments.BIDIRECTIONAL, \n",
    "                   arguments.DROPOUT).to(device)\n",
    "\n",
    "saved_model.load_state_dict(torch.load(PATH))\n",
    "saved_model.eval()"
   ]
  },
  {
   "cell_type": "markdown",
   "metadata": {
    "id": "oBZ6wNnJ7L_h"
   },
   "source": [
    "## Test Loss and Accuracy"
   ]
  },
  {
   "cell_type": "code",
   "execution_count": 23,
   "metadata": {
    "colab": {
     "base_uri": "https://localhost:8080/"
    },
    "id": "8pIG1usf509F",
    "outputId": "7dfceb73-36dd-4052-fa8c-4a09d9522ca3"
   },
   "outputs": [
    {
     "name": "stderr",
     "output_type": "stream",
     "text": [
      "Evaluation...: 100%|\u001B[32m██████████\u001B[0m| 391/391 [00:35<00:00, 11.08it/s, Loss=0.491]"
     ]
    },
    {
     "name": "stdout",
     "output_type": "stream",
     "text": [
      "\n",
      "\tTest Loss: 0.495 | Test Acc: 80.00%\n"
     ]
    },
    {
     "name": "stderr",
     "output_type": "stream",
     "text": [
      "\n"
     ]
    }
   ],
   "source": [
    "# Avg Test Loss, Test Accuracy\n",
    "test_loss, test_acc = evaluate(test_loader, \n",
    "                               saved_model, \n",
    "                               loss_fn)\n",
    "print(f'\\n\\tTest Loss: {test_loss:.3f} | Test Acc: {test_acc*100:.2f}%')"
   ]
  },
  {
   "cell_type": "markdown",
   "metadata": {
    "id": "2zCcnIeKbaWS"
   },
   "source": [
    "# Deliverable Plots"
   ]
  },
  {
   "cell_type": "code",
   "execution_count": 24,
   "metadata": {
    "colab": {
     "base_uri": "https://localhost:8080/",
     "height": 863
    },
    "id": "0R4r2-8jy3Fd",
    "outputId": "5c914ba0-fda6-4bfb-ce4d-fbfaade4abe7"
   },
   "outputs": [
    {
     "data": {
      "image/png": "[encoded data removed]",
      "text/plain": [
       "<Figure size 432x288 with 1 Axes>"
      ]
     },
     "metadata": {},
     "output_type": "display_data"
    },
    {
     "data": {
      "image/png": "[encoded data removed]",
      "text/plain": [
       "<Figure size 432x288 with 1 Axes>"
      ]
     },
     "metadata": {},
     "output_type": "display_data"
    },
    {
     "data": {
      "image/png": "[encoded data removed]",
      "text/plain": [
       "<Figure size 432x288 with 1 Axes>"
      ]
     },
     "metadata": {},
     "output_type": "display_data"
    }
   ],
   "source": [
    "batch_size = [32, 64, 128, 256]\n",
    "training_time = [545.12, 382.94, 286.81, 227.46]\n",
    "val_set_acc = [0.91, 0.917, 0.75, 0.894]\n",
    "learning_rate_vals = [0.01, 0.001, 0.0001, 0.00001]\n",
    "val_set_acc_lr = [0.917, 0.833, 0.75, 0.50]\n",
    "\n",
    "def plot_comp_line(x_vals, \n",
    "              y_vals,\n",
    "              line_label,\n",
    "              xlabel, \n",
    "              ylabel, \n",
    "              title, \n",
    "              line_color):\n",
    "    plt.style.use('ggplot')\n",
    "    plt.plot(x_vals, y_vals, label = line_label, color = line_color, linewidth = '3')\n",
    "    plt.xlabel(xlabel)\n",
    "    plt.xticks(x_vals)\n",
    "    plt.ylabel(ylabel)\n",
    "    plt.title(title, color = 'black')\n",
    "    plt.legend(shadow = True)\n",
    "    plt.show()\n",
    "\n",
    "# Batch Size vs Training Time Plot\n",
    "plot_comp_line(batch_size, \n",
    "               training_time, \n",
    "               'Batch Size vs Training Time',  \n",
    "               'Batch Size', \n",
    "               'Training Time',\n",
    "               'Batch Size vs Training Time', \n",
    "               'blue')\n",
    "\n",
    "# Batch Size vs Val Acc Plot\n",
    "plot_comp_line(batch_size, val_set_acc, \n",
    "               'Batch Size vs Validation Accuracy', \n",
    "               'Batch Size', \n",
    "               'Validation Acc',\n",
    "               'Batch Size vs Validation Accuracy', \n",
    "               'purple')\n",
    "\n",
    "# Learning Rate vs Val Acc Plot\n",
    "plot_comp_line(learning_rate_vals, val_set_acc_lr, \n",
    "               'Learning Rate vs Validation Accuracy', \n",
    "               'Learning Rate', \n",
    "               'Validation Acc',\n",
    "               'Learning Rate vs Validation Accuracy', \n",
    "               'brown')"
   ]
  },
  {
   "cell_type": "markdown",
   "metadata": {
    "id": "_aHa2IgZRJD4"
   },
   "source": [
    "# Test for Model Correctness"
   ]
  },
  {
   "cell_type": "code",
   "execution_count": 25,
   "metadata": {
    "colab": {
     "base_uri": "https://localhost:8080/"
    },
    "id": "lt_Xftd9RIBG",
    "outputId": "cf265300-4096-47ae-84dd-fbd25b065e9b"
   },
   "outputs": [
    {
     "name": "stdout",
     "output_type": "stream",
     "text": [
      "tensor([ 3.0870,  0.9603, -1.3595, -2.1795,  1.4163,  1.9596,  1.1898,  3.0208,\n",
      "         2.7511,  3.3190, -3.1601, -4.1265, -1.8978,  1.1842,  2.7568, -0.7485,\n",
      "         0.5536, -3.2794,  0.6370,  2.2355, -2.7464, -1.3944, -1.4907, -1.5337,\n",
      "         5.1682, -2.8805, -1.5846,  3.9179,  2.0945, -1.1521,  4.1228, -1.3395,\n",
      "        -2.2316, -1.6095, -2.9479,  0.5423, -1.6015,  1.7884, -0.5046, -1.6289,\n",
      "         0.1246, -1.2271, -3.0610, -0.2646, -2.0419, -2.3358,  1.7000,  2.8786,\n",
      "        -3.7736, -0.6439, -2.0342, -1.8706,  2.0506, -2.1195,  1.8233, -2.4538,\n",
      "         5.8686,  3.0798, -0.2680, -1.2010, -2.2113, -1.7547,  2.8502, -2.9275],\n",
      "       device='cuda:0', grad_fn=<SqueezeBackward1>)\n",
      "tensor([ 0.0201,  4.6470,  1.0993,  3.5044, -1.9578, -1.6108,  0.4699,  4.2364,\n",
      "         1.0928, -0.9416,  2.1714,  3.6820,  4.2633,  0.8771, -1.6315,  5.6076,\n",
      "         3.2560,  2.4721,  4.0353, -2.6405,  2.8408,  2.2235, -2.5343, -1.0575,\n",
      "         0.7230,  1.3994,  4.3804, -2.4219, -3.3372,  0.8787,  5.2812,  2.9357,\n",
      "         1.0681,  5.1233, -1.3484,  0.4967, -1.0742, -1.5347,  3.2580, -1.3153,\n",
      "        -3.3806,  2.1846, -2.3041, -3.5308, -1.5435, -5.3276, -1.4017,  3.8481,\n",
      "        -2.5534, -2.1526, -1.9417,  1.2578,  0.4978, -2.1692, -2.3785,  0.4452,\n",
      "        -1.8625, -3.6079,  0.3186,  2.2168,  1.7599,  2.0125,  3.3759,  2.2117],\n",
      "       device='cuda:0', grad_fn=<SqueezeBackward1>)\n",
      "tensor([ 2.0401,  0.8451,  3.9012,  4.9615, -0.8979,  2.1924,  2.4690, -2.8884,\n",
      "        -2.1329,  1.9624,  2.6013,  4.6047,  2.7141, -1.6584,  0.9290, -3.3213,\n",
      "        -0.2431, -0.5239, -2.4126, -1.7571,  2.1956,  0.1815,  0.9616,  3.2129,\n",
      "        -0.6883, -0.2902, -0.2223, -0.3105,  3.9890,  1.2123, -1.4187, -0.0356,\n",
      "         3.3107,  2.7607, -1.3867,  4.4088, -3.1165, -3.0049, -1.6236, -1.0921,\n",
      "        -0.9472,  1.8105,  0.1843, -1.5993,  2.8985, -0.5159,  2.5074, -1.7122,\n",
      "        -1.3842, -2.9288,  5.0181,  0.3472, -1.9313, -2.0286,  4.0766,  3.2428,\n",
      "        -2.4910, -1.9065, -3.1192,  5.5257,  1.9953,  1.6932,  2.4419,  2.4176],\n",
      "       device='cuda:0', grad_fn=<SqueezeBackward1>)\n",
      "tensor([ 2.5165, -1.2953,  1.6676, -2.9606,  1.6916,  1.9588, -3.5659, -1.4006,\n",
      "         1.6772, -1.2638, -1.2440,  0.1257, -5.3706,  1.5884, -2.9258,  1.0011,\n",
      "         3.4351,  0.4321, -1.8917,  2.0968,  0.1664, -2.3101, -2.3548,  2.1281,\n",
      "         4.0560,  4.0703,  4.2565, -1.4792, -1.2079,  3.9798, -1.2590, -1.2449,\n",
      "         3.7619,  0.3838,  0.4692,  3.1930,  2.3848, -2.6812,  3.2828,  2.5485,\n",
      "         3.4396,  2.0114, -2.2871, -1.6953, -0.4899, -0.9909,  0.0544,  3.3494,\n",
      "         2.3359, -2.7343,  2.4960, -3.1646, -1.6977,  2.5500, -1.3246,  0.0865,\n",
      "         1.6838,  4.1651, -1.5949, -0.1626, -3.0021,  1.1266,  0.2398, -2.0942],\n",
      "       device='cuda:0', grad_fn=<SqueezeBackward1>)\n",
      "tensor([ 6.3663e-01,  5.0140e+00,  3.3777e+00, -4.8877e-01, -1.8016e+00,\n",
      "        -1.0205e+00,  1.0443e+00,  4.0568e+00, -1.8202e+00,  3.4877e-04,\n",
      "         2.1075e+00, -1.0748e+00,  1.9741e+00,  3.4935e+00, -2.9522e+00,\n",
      "         7.2302e-01,  3.6143e+00,  8.2846e-01,  1.7121e+00, -1.9510e+00,\n",
      "         6.8158e-01, -2.1504e+00,  1.0440e+00, -1.0044e+00, -5.1149e+00,\n",
      "        -1.6905e+00,  2.5961e+00, -2.3431e+00, -2.8734e+00,  2.8603e+00,\n",
      "         2.0759e+00,  7.3806e-01, -2.9188e-01, -6.6387e-01,  4.2077e+00,\n",
      "         2.9887e+00, -3.7966e-01,  1.4821e+00, -1.1801e+00,  5.5453e+00,\n",
      "         1.6795e+00, -1.9834e+00,  3.2912e+00, -2.5535e+00, -2.1804e+00,\n",
      "        -2.0591e+00,  2.6699e+00, -2.2886e+00, -3.1619e+00,  2.9183e+00,\n",
      "         1.9208e+00, -8.2154e-01,  2.2244e-01,  3.0755e+00, -2.2440e+00,\n",
      "         5.7038e-01,  1.4515e+00, -2.3496e-01, -1.4605e+00,  8.8360e-01,\n",
      "        -2.2710e+00, -2.6096e+00, -1.9292e+00, -3.0499e-01], device='cuda:0',\n",
      "       grad_fn=<SqueezeBackward1>)\n"
     ]
    }
   ],
   "source": [
    "max_n_test_instances = 5\n",
    "i = 1\n",
    "for x, _, x_lengths in val_loader:\n",
    "  score = saved_model(x, x_lengths).squeeze(1)\n",
    "  print(score)\n",
    "  if i >= max_n_test_instances:\n",
    "    break\n",
    "  else:\n",
    "    i += 1"
   ]
  },
  {
   "cell_type": "markdown",
   "metadata": {
    "id": "gV0WTO2OMmRM"
   },
   "source": [
    "# Observation for the errors that LSTM makes\n",
    "For first 50 sentences in the Dev(validation) set"
   ]
  },
  {
   "cell_type": "code",
   "execution_count": 38,
   "metadata": {
    "colab": {
     "base_uri": "https://localhost:8080/"
    },
    "id": "-MtcZzWUMNwM",
    "outputId": "9670d007-bcb9-4ebf-cfd7-77807baa9048"
   },
   "outputs": [
    {
     "name": "stdout",
     "output_type": "stream",
     "text": [
      "Input Sentence: I 'm a pretty old dude , old enough to remember the taste of Oreos and Coke as they were 50 - 55 years ago , when every taste for a kid was fresh . I wish I have somehow set some aside then is some magical suspended locker , so that I could taste those things today . This magical locker might even have adjusted the fabric of the food to account for how I 've drifted , physically and otherwise , a sort of dynamic chemistry of expectations . Over the half century , they would have had to adjust quite a bit , because you see I would have known that I set them aside . Eating one now would be a celebration of self and past , and story , and sense that would almost make the intervening years an anticipated reward.<br /><br />I did n't have enough sense to do that with original Coke . And I could n't have invented one of those magical psychic lockers  not then . But I did something almost as good . In the seventies , I really tuned into Roman Polanski . He was a strange and exotic pleasure  you know , movies smuggled out of the Soviet block . Movies so sensitive to beauty that you cry for weeks afterward . Movies that make you want to live with Polish women , one , and then deciding that they would be the last to get it.<br /><br />Here 's what I did . I took what I knew would be my favorite Polanski movie and set it aside . I did not watch it . I deferred until I thought I would be big enough to deserve it . Over the years , I would test myself , my ability to surround beauty and delineate it without occupying it . There probably are few Poles who have worked at this , practicing to deserve Chopin . Working to deserve womanness when I see it . Trying to get the inners from the edges.<br /><br />Recently , I achieved something like assurance that it was time to pull this out . I already knew that I was already past the time when this would work optimally , because I had already seen and understood \" 9th Gate . \"<br /><br />If you do not know this , it is about a man who innocently rents a room in which the previous tenant ( about whom the story is named ) jumped out the window , to die later after this man ( played by Polanski ) visits . What happens is that time folds and he becomes this woman . We are fooled into believing that he is merely mad . But the way we follow him , he is not . He merely has flashes that the world is normal , and that the surrounding people are not part of a coven warping his reality.<br /><br />The story hardly matters . What matters is how Polanksi shapes this thing , both in the way he inhabits the eye that only makes edges and in inhabiting the body that only consists of confused flesh . The two never meet . There is a dissonance that may haunt me for the next 30 years . Its the idea about and inside and an outside with no edges at all  at all except a redhead wig.<br /><br />I know of no one else that could do this , this sketch that remains a sketch , this horror that remains natural.<br /><br />To understand the genius of this , you have to know one of the greatest films ever made ; \" Rear Window . \" The genius of that film is the post - noir notion that the camera shapes the world ; that the viewer creates the story . What Roman does is take this movie and turn it inside out . In Rear Window , the idea was that the on - screen viewer ( Jimmy Stewart ) was the anchor and everything else was fiction , woven as we watched . Here , the on screen apartment dweller is the filmmaker . We know this . We know that everything we see is true because he is the narrator . We know it is true that bodies shift identity , that times shift , that causality is plastic . We know that the narrator will kill us . We know that the narrator will leave us in a perpetual horror , on that edge that he imputes but never shows us and lets us imagine . < br /><br />Ted 's Evaluation -- 4 of 3 : Every cineliterate person should experience this .\n",
      "Gold Label: 0\n",
      "Pred Label: 1\n",
      "Input Sentence: Somehow , this movie manages to be invigorating , bittersweet , and heartwarming at the same time . Stars like Tony Shalhoub ( from Providence ) bring the tale to life . The story itself is inspiring . We see a desperate , up - and - down life through the most innocent eyes imaginable : a bird's.<br /><br />Paulie begins his life as a baby parrot given to a little girl ( played by Hallie Eisenberg , also known as the Pepsi girl ) with a speech impediment . While she learns to speak correctly , so does Paulie . However , unlike most birds , he can speak and understand everything being said . The military father does n't like the bird , so he is sent to a pawn shop and bought by an aging artist , Ivy . She teaches him manners , etc . , while traveling across the country to find Paulie 's owner . The movie continues with several twists of fate , until Paulie ends up at a laboratory where he is eventually hidden away in a basement , and found by a Russian custodian , who is touched by the bird 's story . the plot is in keeping with the simple , metaphorical theme that language is a gift , and a curse . I would like to say that the soundtrack is astounding . A beautiful mixture of flute , digital base , and horns enhance the movie to the point of pure ecstasy . The sweeping camera angles and breathtaking scenery beautify the story even more . And , as a final remark , the puppetry is entirely believable . ( Unlike in star wars , where Yoda resembles a Muppet ) This film is one of my favorite movies , with the added remark that my wonderful parakeet of four years died recently . Overall , I give this movie * * * * out of four stars , two thumbs up , and a big hug .\n",
      "Gold Label: 0\n",
      "Pred Label: 1\n",
      "Input Sentence: Being a big fan of Corman 's horror movies I expected from his western a bit more than I got . Well , I was entertained all right . I had almost as many laughs as watching Mel Brooks ' Blazing Saddles.<br /><br />See the spectacle of mobile tire tracks on the prairie of the old west . You can kill time by counting them if there happens to be an otherwise boring scene going on . And the horses seem to have gears in them too , considered the fast - forward chases . See also the swinging bar room queens of the traditional wild west saloon doing a number that reminds of a certain fashionable dance from 1920 's , here decades before the style was invented . Hope the saloon around them wo n't crumple.<br /><br />In the middle of all this mayhem the main actors do a decent job . Ireland , Garland and Hayes are all truly fine . A special praise for them for doing the best they could with the material that seems mostly having been lifted from ' Johnny Guitar ' , but does n't quite impress the same way . But there is really nothing wrong with a laughable western like this . Just like a really bad old horror movie , it might fail one way but succeeds to give joy anyway . That is one of the reasons Corman 's work appeals to me and that is why I dare to recommend you to experience this movie if you get the chance .\n",
      "Gold Label: 1\n",
      "Pred Label: 0\n",
      "Input Sentence: Jason Alexander is a wonderful actor , but it 's ridiculous to cast him as a cuddly romantic lead . The fact that he dances so well , croons so effectively , and throws himself into the part so completely somehow just made him seem all the more creepy . In his more cutesy moments ( with the girl in the train station , in the final number with Rosie ) , I could n't take my eyes off him he was so repellent . You keep expecting him to drop the nice - guy act and start snarling . Vanessa Williams was the real star , the only performance that was better than the 1963 movie . By the way , if you see a production of the stage musical , the 1963 movie and this 1995 movie , you 'll see three versions that have more revisions ( different songs , same songs assigned to different characters and in different situations ) than any other musical I 've ever seen .\n",
      "Gold Label: 1\n",
      "Pred Label: 0\n",
      "Input Sentence: That movie was awesome ! I ca n't get over it 's songs . I think I 'm a little too old for musicals , but that movie deserves some credit here , guys ! My especial favorite was Jack Wild . Me , being a British actor lover , you ca n't restrain me from all those nice - looking fresh faced , young men . I never knew that when Jack was doing that movie he was sixteen ! He looks like an eleven- year old . He 's short , that 's what helps . Try posting up your replies , fellow posters , so I can relate to your experiences . Oh , and about Oliver Reed , that guy , Bill Sikes , I think that drone look is really familiar . Any idea where he 's starred in before ? If so , post it up , I 'd really like to know .\n",
      "Gold Label: 0\n",
      "Pred Label: 1\n",
      "Input Sentence: Even if you know absolutely nothing about Ireland , you have to love \" My Left Foot \" ( and especially Daniel Day - Lewis ' performance in it ) . He plays cerebral palsy - afflicted Christy Brown . Due to this , he has spent most of his life ostracized . Even when trying to warn people about something , they just laugh at him . The light in the darkness for him is that he has control over one body part : his left foot . He uses that appendage to paint and write poetry , bringing him to prominence.<br /><br />Daniel Day - Lewis and director Jim Sheridan did very well on this collaboration , and also on a later collaboration : \" In the Name of the Father \" ( but \" The Boxer \" was unnecessary ) . \" My Left Foot \" can make you feel many ways : sad , hopeful , or something else . But in any case , Daniel Day - Lewis gave the performance of a lifetime here . A great movie in every sense .\n",
      "Gold Label: 0\n",
      "Pred Label: 1\n",
      "Input Sentence: Its not sophisticated , and nobody in the credits had a great career , but taken as a whole , because there are no famous personalities ; the film seems more realistic than some high budget , well cast films.<br /><br />A film made for a few bucks , that is worthy of watching should give hope to all those would be film makers and wantabee actors.<br /><br />The problem with this film is it was made in the worst possible time . TV was taking over the revenues of the film industry , and this film could have easily been shown on TV . In 1950 , all the fare on TV would qualify for a \" G \" rating . The film industry began to make more \" adult \" films that could not be shown on TV during the days when TV would n't dare show the sex and skin of today 's commercials .\n",
      "Gold Label: 0\n",
      "Pred Label: 1\n",
      "Input Sentence: People do n't seem to be giving Lensman enough credit where its due . A few issues have been overlooked which are key to understanding the Lensman experience.<br /><br />The Year : For the year it was made in ( 1984 ) Lensman features some of the most stunning effects I 've ever seen . As a person who watches a lot of early 80 's animation Lensman is unique in it 's use of what appears to be computer - generated imagery at a time when computers were extremely primitive . Kim 's battle against the geometric cutter pods in the laser maze can be taken as an excellent example of this . Every time I watch that I have to keep repeating to myself that it was 1984 when it was made.<br /><br />The Soundtrack : Lensman has one of the most insane soundtracks that I 've heard , and this mad hysterical beat permeates every corner of the film . Lensman borrowed heavily on two western mistakes and managed to somewhat deal with the first one - the need to fill in every second of silence in a film with music and the need for a heroine . While the music is attuned well and galvanizes scenes such as the motorcycle battle in the Thionite Factory on Radelyx , the heroine theme fails due to the sheer annoyance value of Chris . It 's interesting to note that the constant music thwarted my attempts at noise removal when I was archiving lensman over from analog tape to digital format - since there was n't a single second of silence available to use as a reference point.<br /><br />Western Influences : Helmut - sounds like \" helmet \" and has roughly the same voice as Darth Vader . Clarissa Fairborn - has the same hairstyle as the princess of SW and her name sounds suspiciously similar to Marissa Fairborn of Transformers . Takes over Han Solos role by flying the ship and having some technical expertise . Buzzkirk - a definite improvement on Chewbaka . The lens - a nice concrete copy of the force that comes across less as a chance to preach Christianity at the audience than in the original SW . While the force relied on belief far more than concentration , the lens is a pure concentration tool . Theoretically , anyone could wield the lens . The lens is far more limited than the Force - being purely a defensive / offensive weapon.<br /><br />Technology : The boskone alliance have interesting meatball sponge ships . They look like stormtroopers only with red uniforms instead of white . The idea of a DNA weapon was nice if only it had been developed . The Galactic Alliance looked like Starblazers ( or whatever it was called - that 60 's series where they were battling the Xylons ) . There were n't enough ship to ship battles for me - this is much improved upon in the second Lensman film.<br /><br />Finally a note on Worzel . This character is a unique and very interesting character - design who fortunately continues on to the second film.<br /><br / >\n",
      "Gold Label: 0\n",
      "Pred Label: 1\n",
      "Input Sentence: I have to say as being a fan of the man who created Halloween / The Fog / Christine / The Thing - probably his best films.<br /><br />Then you got this POS . I ca n't logically think he put any effort at all into this like he did with Cigarette Burns . At least his son made a decent soundtrack.<br /><br />You have to look at this from the standpoint that it did n't seem like a movie . It looked as if someone else directed it for one thing . I wo n't believe Carpenter put any effort into this at all.<br /><br />I was just listening to his old school H2 / H3 / The Fog soundtrack and it was awesome , especially for the times.<br /><br />He was using a style that no one had and it worked so well for his films .\n",
      "Gold Label: 1\n",
      "Pred Label: 0\n"
     ]
    }
   ],
   "source": [
    "def predict_sentiment(model, \n",
    "                      sentence):\n",
    "    model.eval()\n",
    "    tokenized = [tok.text for tok in nlp.tokenizer(sentence)]\n",
    "    indexed = [TEXT.vocab.stoi[t] for t in tokenized]\n",
    "    length = [len(indexed)]\n",
    "    tensor = torch.LongTensor(indexed).to(device)\n",
    "    tensor = tensor.unsqueeze(1)\n",
    "    length_tensor = torch.LongTensor(length)\n",
    "    prediction = torch.sigmoid(model(tensor, length_tensor))\n",
    "    return prediction.item()\n",
    "\n",
    "\n",
    "num_sent = 50\n",
    "val_examples = valid_data.examples\n",
    "j = 0\n",
    "for i in range(len(val_examples)):\n",
    "  input_seq = ' '.join(val_examples[i].text)\n",
    "  gold_label = val_examples[i].label\n",
    "  gold_label = val_ds.encode_label(gold_label)\n",
    "  pred_label = round(predict_sentiment(saved_model, input_seq))\n",
    "  if gold_label != pred_label:\n",
    "    print(f'Input Sentence: {input_seq}')\n",
    "    print(f'Gold Label: {gold_label}')\n",
    "    print(f'Pred Label: {pred_label}')\n",
    "  j += 1\n",
    "  if j == num_sent:\n",
    "    break"
   ]
  }
 ],
 "metadata": {
  "accelerator": "GPU",
  "colab": {
   "provenance": []
  },
  "gpuClass": "standard",
  "kernelspec": {
   "display_name": "pvenv",
   "language": "python",
   "name": "python3"
  },
  "language_info": {
   "codemirror_mode": {
    "name": "ipython",
    "version": 3
   },
   "file_extension": ".py",
   "mimetype": "text/x-python",
   "name": "python",
   "nbconvert_exporter": "python",
   "pygments_lexer": "ipython3",
   "version": "3.10.9"
  },
  "orig_nbformat": 4,
  "vscode": {
   "interpreter": {
    "hash": "c2c87e16e3c5224f19fdcd75f65d952c55b5bf326ebfd42c1280c69b64e015be"
   }
  }
 },
 "nbformat": 4,
 "nbformat_minor": 0
}
