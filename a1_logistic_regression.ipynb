{
  "cells": [
    {
      "cell_type": "markdown",
      "metadata": {
        "id": "AR3wtZo9vfKS"
      },
      "source": [
        "# Install Dependencies"
      ]
    },
    {
      "cell_type": "code",
      "execution_count": 2,
      "metadata": {
        "colab": {
          "base_uri": "https://localhost:8080/"
        },
        "id": "yuxqmLnAvcbG",
        "outputId": "40b177be-60cd-4051-8686-fce9bc852424"
      },
      "outputs": [
        {
          "name": "stdout",
          "output_type": "stream",
          "text": [
            "Looking in indexes: https://pypi.org/simple, https://us-python.pkg.dev/colab-wheels/public/simple/\n",
            "Collecting torch==1.9.0\n",
            "  Downloading torch-1.9.0-cp38-cp38-manylinux1_x86_64.whl (831.4 MB)\n",
            "\u001b[2K     \u001b[90m━━━━━━━━━━━━━━━━━━━━━━━━━━━━━━━━━━━━━━━\u001b[0m \u001b[32m831.4/831.4 MB\u001b[0m \u001b[31m2.0 MB/s\u001b[0m eta \u001b[36m0:00:00\u001b[0m\n",
            "\u001b[?25hCollecting torchtext==0.10.0\n",
            "  Downloading torchtext-0.10.0-cp38-cp38-manylinux1_x86_64.whl (7.6 MB)\n",
            "\u001b[2K     \u001b[90m━━━━━━━━━━━━━━━━━━━━━━━━━━━━━━━━━━━━━━━━\u001b[0m \u001b[32m7.6/7.6 MB\u001b[0m \u001b[31m124.1 MB/s\u001b[0m eta \u001b[36m0:00:00\u001b[0m\n",
            "\u001b[?25hRequirement already satisfied: typing-extensions in /usr/local/lib/python3.8/dist-packages (from torch==1.9.0) (4.4.0)\n",
            "Requirement already satisfied: requests in /usr/local/lib/python3.8/dist-packages (from torchtext==0.10.0) (2.25.1)\n",
            "Requirement already satisfied: tqdm in /usr/local/lib/python3.8/dist-packages (from torchtext==0.10.0) (4.64.1)\n",
            "Requirement already satisfied: numpy in /usr/local/lib/python3.8/dist-packages (from torchtext==0.10.0) (1.21.6)\n",
            "Requirement already satisfied: certifi>=2017.4.17 in /usr/local/lib/python3.8/dist-packages (from requests->torchtext==0.10.0) (2022.12.7)\n",
            "Requirement already satisfied: urllib3<1.27,>=1.21.1 in /usr/local/lib/python3.8/dist-packages (from requests->torchtext==0.10.0) (1.24.3)\n",
            "Requirement already satisfied: idna<3,>=2.5 in /usr/local/lib/python3.8/dist-packages (from requests->torchtext==0.10.0) (2.10)\n",
            "Requirement already satisfied: chardet<5,>=3.0.2 in /usr/local/lib/python3.8/dist-packages (from requests->torchtext==0.10.0) (4.0.0)\n",
            "Installing collected packages: torch, torchtext\n",
            "  Attempting uninstall: torch\n",
            "    Found existing installation: torch 1.13.1+cu116\n",
            "    Uninstalling torch-1.13.1+cu116:\n",
            "      Successfully uninstalled torch-1.13.1+cu116\n",
            "  Attempting uninstall: torchtext\n",
            "    Found existing installation: torchtext 0.14.1\n",
            "    Uninstalling torchtext-0.14.1:\n",
            "      Successfully uninstalled torchtext-0.14.1\n",
            "\u001b[31mERROR: pip's dependency resolver does not currently take into account all the packages that are installed. This behaviour is the source of the following dependency conflicts.\n",
            "torchvision 0.14.1+cu116 requires torch==1.13.1, but you have torch 1.9.0 which is incompatible.\n",
            "torchaudio 0.13.1+cu116 requires torch==1.13.1, but you have torch 1.9.0 which is incompatible.\u001b[0m\u001b[31m\n",
            "\u001b[0mSuccessfully installed torch-1.9.0 torchtext-0.10.0\n"
          ]
        }
      ],
      "source": [
        "!pip install torch==1.9.0 torchtext==0.10.0"
      ]
    },
    {
      "cell_type": "markdown",
      "metadata": {
        "id": "lt-beZdsvQtS"
      },
      "source": [
        "# Import Necessary Libraries"
      ]
    },
    {
      "cell_type": "code",
      "execution_count": 3,
      "metadata": {
        "id": "-FZ7C3f-UGx4"
      },
      "outputs": [],
      "source": [
        "import torch\n",
        "import torch.nn as nn\n",
        "\n",
        "import random\n",
        "import argparse\n",
        "\n",
        "import numpy as np\n",
        "\n",
        "import matplotlib.pyplot as plt\n",
        "%matplotlib inline\n",
        "\n",
        "from torchtext.legacy import data\n",
        "from torchtext.legacy import datasets\n",
        "\n",
        "from torch.utils.data import Dataset, DataLoader\n",
        "from torch.nn.utils.rnn import pad_sequence\n",
        "\n",
        "from sklearn.model_selection import train_test_split\n",
        "from tqdm import tqdm\n",
        "\n",
        "import time\n",
        "from datetime import datetime\n",
        "\n",
        "import spacy\n",
        "nlp = spacy.load('en_core_web_sm')"
      ]
    },
    {
      "cell_type": "markdown",
      "metadata": {
        "id": "MosGAaTuxk9V"
      },
      "source": [
        "# Use GPU\n",
        "Set Device = CUDA if available"
      ]
    },
    {
      "cell_type": "code",
      "execution_count": 4,
      "metadata": {
        "colab": {
          "base_uri": "https://localhost:8080/"
        },
        "id": "LhceMWPHxaKn",
        "outputId": "de30721f-da9c-4206-9d26-0ec1adc77f84"
      },
      "outputs": [
        {
          "name": "stdout",
          "output_type": "stream",
          "text": [
            "cuda\n"
          ]
        }
      ],
      "source": [
        "device = torch.device('cuda' if torch.cuda.is_available() else 'cpu')\n",
        "print(device)"
      ]
    },
    {
      "cell_type": "markdown",
      "metadata": {
        "id": "pTH9yhaY-B1i"
      },
      "source": [
        "# Hyper-Parameters"
      ]
    },
    {
      "cell_type": "code",
      "execution_count": 5,
      "metadata": {
        "id": "3ECvGdEx98Gf"
      },
      "outputs": [],
      "source": [
        "argument_parser = argparse.ArgumentParser()\n",
        "argument_parser.add_argument(\"--epochs\", dest = \"EPOCHS\", type = int, default = 5)\n",
        "argument_parser.add_argument(\"--batch_size\", dest = \"BATCH_SIZE\", type = int, default = 16)\n",
        "argument_parser.add_argument(\"--embed_dim\", dest = \"EMBED_DIM\", type = int, default = 100)\n",
        "argument_parser.add_argument(\"--optimizer\", dest = \"OPTIMIZER\", type = str, default = 'Adam')\n",
        "argument_parser.add_argument(\"--loss_fn\", dest = \"LOSS_FN\", type = str, default = 'BCELoss')\n",
        "argument_parser.add_argument(\"--learning_rate\", dest = \"LEARNING_RATE\", type = float, default =  1e-2)\n",
        "arguments, unknown = argument_parser.parse_known_args()"
      ]
    },
    {
      "cell_type": "markdown",
      "metadata": {
        "id": "7MA4h06z_26K"
      },
      "source": [
        "# Set SEED value for reproducible results\n",
        "# and\n",
        "# Load Dataset"
      ]
    },
    {
      "cell_type": "code",
      "execution_count": 6,
      "metadata": {
        "id": "YkxM4l7Cvm3G"
      },
      "outputs": [],
      "source": [
        "SEED = 1234\n",
        "\n",
        "torch.manual_seed(SEED)\n",
        "torch.backends.cudnn.deterministic = True\n",
        "\n",
        "TEXT = data.Field(tokenize = 'spacy',\n",
        "                  tokenizer_language = 'en_core_web_sm')\n",
        "LABEL = data.LabelField(dtype = torch.float)"
      ]
    },
    {
      "cell_type": "markdown",
      "metadata": {
        "id": "UlAM61uzb3-M"
      },
      "source": [
        "# Create Dataset Splits and Build Vocab"
      ]
    },
    {
      "cell_type": "code",
      "execution_count": 7,
      "metadata": {
        "colab": {
          "base_uri": "https://localhost:8080/"
        },
        "id": "D3SulDgksO_G",
        "outputId": "f083c33c-f5cd-4ee9-b96a-9d24855feac5"
      },
      "outputs": [
        {
          "name": "stdout",
          "output_type": "stream",
          "text": [
            "downloading aclImdb_v1.tar.gz\n"
          ]
        },
        {
          "name": "stderr",
          "output_type": "stream",
          "text": [
            "aclImdb_v1.tar.gz: 100%|██████████| 84.1M/84.1M [00:02<00:00, 30.4MB/s]\n"
          ]
        },
        {
          "name": "stdout",
          "output_type": "stream",
          "text": [
            "Number of training examples: 25000\n",
            "Number of testing examples: 25000\n"
          ]
        }
      ],
      "source": [
        "train_data, test_data = datasets.IMDB.splits(TEXT, LABEL)\n",
        "print(f'Number of training examples: {len(train_data)}')\n",
        "print(f'Number of testing examples: {len(test_data)}')"
      ]
    },
    {
      "cell_type": "code",
      "execution_count": 8,
      "metadata": {
        "colab": {
          "base_uri": "https://localhost:8080/"
        },
        "id": "Mnb-rchBtY9Y",
        "outputId": "a5605954-90db-4968-d1c7-833ff5b7b5e0"
      },
      "outputs": [
        {
          "name": "stdout",
          "output_type": "stream",
          "text": [
            "Number of training examples: 17500\n",
            "Number of validation examples: 7500\n",
            "Number of testing examples: 25000\n"
          ]
        }
      ],
      "source": [
        "train_data, valid_data = train_data.split(random_state = random.seed(SEED))\n",
        "print(f'Number of training examples: {len(train_data)}')\n",
        "print(f'Number of validation examples: {len(valid_data)}')\n",
        "print(f'Number of testing examples: {len(test_data)}')"
      ]
    },
    {
      "cell_type": "code",
      "execution_count": 9,
      "metadata": {
        "colab": {
          "base_uri": "https://localhost:8080/"
        },
        "id": "uLjGElXQvE1A",
        "outputId": "a768393c-397f-407b-c7f4-3bbe6db58eec"
      },
      "outputs": [
        {
          "name": "stdout",
          "output_type": "stream",
          "text": [
            "Unique tokens in TEXT vocabulary: 25002\n",
            "Unique tokens in LABEL vocabulary: 2\n",
            "Most common 20 tokens in TEXT vocabulary: [('the', 204529), (',', 194102), ('.', 166563), ('a', 110287), ('and', 110143), ('of', 101580), ('to', 94293), ('is', 76990), ('in', 61616), ('I', 54577), ('it', 53786), ('that', 49458), ('\"', 44570), (\"'s\", 43600), ('this', 42568), ('-', 37811), ('/><br', 35793), ('was', 34872), ('as', 30541), ('with', 30138)]\n"
          ]
        }
      ],
      "source": [
        "MAX_VOCAB_SIZE = 25_000\n",
        "\n",
        "TEXT.build_vocab(train_data, max_size = MAX_VOCAB_SIZE)\n",
        "LABEL.build_vocab(train_data)\n",
        "print(f\"Unique tokens in TEXT vocabulary: {len(TEXT.vocab)}\")\n",
        "print(f\"Unique tokens in LABEL vocabulary: {len(LABEL.vocab)}\")\n",
        "print(f\"Most common 20 tokens in TEXT vocabulary: {TEXT.vocab.freqs.most_common(20)}\")"
      ]
    },
    {
      "cell_type": "markdown",
      "metadata": {
        "id": "N-4fcNkY2GyS"
      },
      "source": [
        "# Dictionary for words (Vocabulary)\n",
        "\n"
      ]
    },
    {
      "cell_type": "code",
      "execution_count": 10,
      "metadata": {
        "colab": {
          "base_uri": "https://localhost:8080/"
        },
        "id": "jB4s88LI1CiN",
        "outputId": "2f23907b-efc1-41e6-ccaf-792948087226"
      },
      "outputs": [
        {
          "name": "stdout",
          "output_type": "stream",
          "text": [
            "UNK Token: 0\n",
            "PAD Token: 1\n"
          ]
        }
      ],
      "source": [
        "word2idx = TEXT.vocab.stoi\n",
        "\n",
        "idx2word = { idx: word for word, idx in word2idx.items() }\n",
        "\n",
        "unk_token = word2idx['<unk>']\n",
        "padding_token = word2idx['<pad>']\n",
        "print(f'UNK Token: {unk_token}')\n",
        "print(f'PAD Token: {padding_token}')"
      ]
    },
    {
      "cell_type": "markdown",
      "metadata": {
        "id": "w3Tcodq6x35S"
      },
      "source": [
        "# Add Input Dim and Output Dim to arguments"
      ]
    },
    {
      "cell_type": "code",
      "execution_count": 11,
      "metadata": {
        "colab": {
          "base_uri": "https://localhost:8080/"
        },
        "id": "r-ql7ubIuZvn",
        "outputId": "ff511f91-64b7-4181-ea6f-cab695685546"
      },
      "outputs": [
        {
          "name": "stdout",
          "output_type": "stream",
          "text": [
            "Namespace(BATCH_SIZE=16, EMBED_DIM=100, EPOCHS=5, INPUT_DIM=25002, LEARNING_RATE=0.01, LOSS_FN='BCELoss', OPTIMIZER='Adam', OUTPUT_DIM=1)\n"
          ]
        }
      ],
      "source": [
        "argument_parser.add_argument(\"--input_dim\", dest = \"INPUT_DIM\", type = int, default = len(word2idx))\n",
        "argument_parser.add_argument(\"--output_dim\", dest = \"OUTPUT_DIM\", type = int, default = 1)\n",
        "arguments, unknown = argument_parser.parse_known_args()\n",
        "print(arguments)"
      ]
    },
    {
      "cell_type": "markdown",
      "metadata": {
        "id": "qhxw72fT28JR"
      },
      "source": [
        "# IMDB Dataset Class"
      ]
    },
    {
      "cell_type": "code",
      "execution_count": 12,
      "metadata": {
        "id": "4gnkQBdc2AKj"
      },
      "outputs": [],
      "source": [
        "class IMDBDataset(Dataset):\n",
        "\n",
        "  def __init__(self, \n",
        "               data):\n",
        "      self.data = data.examples\n",
        "\n",
        "  def __len__(self):\n",
        "      return len(self.data)\n",
        "\n",
        "  def __getitem__(self, \n",
        "                  idx: int):\n",
        "      \"\"\"\n",
        "      Returns\n",
        "      -------\n",
        "      tuple\n",
        "            a tuple of encoded text and encoded label from the \n",
        "            dataset (an instance from a dataset given by idx)\n",
        "      \"\"\"\n",
        "      # Encoding Text\n",
        "      encoded_text = self.encode_text(self.data[idx].text)\n",
        "      # Encoding Label\n",
        "      encoded_label = self.encode_label(self.data[idx].label)\n",
        "      return encoded_text, encoded_label\n",
        "\n",
        "  def encode_text(self, \n",
        "                  text: list):\n",
        "      text_vector = list()\n",
        "      for word in text:\n",
        "          if word in word2idx:\n",
        "              text_vector.append(word2idx[word])\n",
        "          else:\n",
        "              text_vector.append(1)\n",
        "      return text_vector\n",
        "\n",
        "  def encode_label(self, \n",
        "                   label: int):\n",
        "      label = 0 if label == 'pos' else 1\n",
        "      return label"
      ]
    },
    {
      "cell_type": "markdown",
      "metadata": {
        "id": "zdj1Fmrv2mnR"
      },
      "source": [
        "# Datset Object for DataLoader"
      ]
    },
    {
      "cell_type": "code",
      "execution_count": 13,
      "metadata": {
        "id": "VRbq-Rqd2kTO"
      },
      "outputs": [],
      "source": [
        "train_ds = IMDBDataset(train_data)\n",
        "\n",
        "val_ds = IMDBDataset(valid_data)\n",
        "\n",
        "test_ds = IMDBDataset(test_data)"
      ]
    },
    {
      "cell_type": "markdown",
      "metadata": {
        "id": "vSQLZHQM8m0X"
      },
      "source": [
        "# Custom Collate function"
      ]
    },
    {
      "cell_type": "code",
      "execution_count": 14,
      "metadata": {
        "id": "82Rsdstp8mgV"
      },
      "outputs": [],
      "source": [
        "def custom_collate_fn(batch):\n",
        "    \"\"\"\n",
        "    Adds padding token '0' at the end of each text vector to make it\n",
        "    of the same length as the maximum length input in the batch.\n",
        "\n",
        "    Returns\n",
        "    -------\n",
        "    tuple\n",
        "        a tuple of padded text tensors and label tensors in a batch\n",
        "    \"\"\"\n",
        "    texts, labels = zip(*batch)\n",
        "    \n",
        "    texts_tensor = [torch.tensor(text, device = device) for text in texts]\n",
        "    labels_tensor = torch.tensor(labels, device = device)\n",
        "    \n",
        "    texts_padded = pad_sequence(texts_tensor, batch_first = True, padding_value = padding_token)\n",
        "    \n",
        "    return texts_padded, labels_tensor"
      ]
    },
    {
      "cell_type": "markdown",
      "metadata": {
        "id": "PYe_DC6B86X2"
      },
      "source": [
        "# PyTorch Data Loaders"
      ]
    },
    {
      "cell_type": "code",
      "execution_count": 15,
      "metadata": {
        "id": "EY-oSGvx85MM"
      },
      "outputs": [],
      "source": [
        "train_loader = DataLoader(train_ds, \n",
        "                          batch_size = arguments.BATCH_SIZE, \n",
        "                          shuffle = True, \n",
        "                          collate_fn = custom_collate_fn)\n",
        "\n",
        "val_loader = DataLoader(val_ds, \n",
        "                        batch_size = arguments.BATCH_SIZE, \n",
        "                        shuffle = True, \n",
        "                        collate_fn = custom_collate_fn)\n",
        "\n",
        "test_loader = DataLoader(test_ds, \n",
        "                         batch_size = arguments.BATCH_SIZE, \n",
        "                         shuffle = False, \n",
        "                         collate_fn = custom_collate_fn)"
      ]
    },
    {
      "cell_type": "markdown",
      "metadata": {
        "id": "ajZ1zvWZDu_b"
      },
      "source": [
        "# Logistic Regression Model"
      ]
    },
    {
      "cell_type": "code",
      "execution_count": 16,
      "metadata": {
        "id": "G2Q_691xD-5j"
      },
      "outputs": [],
      "source": [
        "class LR(nn.Module):\n",
        "\n",
        "    def __init__(self, \n",
        "                 input_dim, \n",
        "                 embedding_dim, \n",
        "                 output_dim):\n",
        "        super(LR, self).__init__()\n",
        "        # Initialize Embedding Layer\n",
        "        self.embedding = nn.Embedding(input_dim, embedding_dim)\n",
        "        # Initialize Dense layer to predict\n",
        "        self.fc = nn.Linear(embedding_dim, output_dim)\n",
        "\n",
        "    def forward(self, \n",
        "                x):\n",
        "        # Embedding Layer\n",
        "        embedded = self.embedding(x).squeeze().sum(1)\n",
        "        # Fully Connected Layer\n",
        "        output = self.fc(embedded)\n",
        "        return output"
      ]
    },
    {
      "cell_type": "code",
      "execution_count": 17,
      "metadata": {
        "colab": {
          "base_uri": "https://localhost:8080/"
        },
        "id": "AIEuo8BxjrUN",
        "outputId": "6d9689d4-ebba-4b83-b539-0b9b6abaa63b"
      },
      "outputs": [
        {
          "name": "stdout",
          "output_type": "stream",
          "text": [
            "Logistic Regression Model:  LR(\n",
            "  (embedding): Embedding(25002, 100)\n",
            "  (fc): Linear(in_features=100, out_features=1, bias=True)\n",
            ")\n"
          ]
        }
      ],
      "source": [
        "model = LR(arguments.INPUT_DIM, \n",
        "           arguments.EMBED_DIM,\n",
        "           arguments.OUTPUT_DIM).to(device)\n",
        "\n",
        "print('Logistic Regression Model: ', model)"
      ]
    },
    {
      "cell_type": "markdown",
      "metadata": {
        "id": "5Zo3540bAVtN"
      },
      "source": [
        "# Total Trainable parameters for Logistic Regression Model"
      ]
    },
    {
      "cell_type": "code",
      "execution_count": 18,
      "metadata": {
        "colab": {
          "base_uri": "https://localhost:8080/"
        },
        "id": "lSvcy8SP2Ue4",
        "outputId": "55547780-1c29-44f9-950c-ca69add4ad46"
      },
      "outputs": [
        {
          "name": "stdout",
          "output_type": "stream",
          "text": [
            "The model has 2,500,301 trainable parameters\n"
          ]
        }
      ],
      "source": [
        "def count_parameters(model):\n",
        "    return sum(p.numel() for p in model.parameters() if p.requires_grad)\n",
        "\n",
        "print(f'The model has {count_parameters(model):,} trainable parameters')"
      ]
    },
    {
      "cell_type": "markdown",
      "metadata": {
        "id": "IxJ3wk_qDgmy"
      },
      "source": [
        "# Train and Validation Functions for the Model"
      ]
    },
    {
      "cell_type": "code",
      "execution_count": 19,
      "metadata": {
        "id": "KwgIMB4Ijowz"
      },
      "outputs": [],
      "source": [
        "def binary_accuracy(preds, y):\n",
        "    \"\"\"\n",
        "    Returns accuracy per batch, i.e. if you get 8/10 right, this returns 0.8, NOT 8\n",
        "    \"\"\"\n",
        "    #round predictions to the closest integer\n",
        "    rounded_preds = torch.round(torch.sigmoid(preds))\n",
        "    correct = (rounded_preds == y).float() #convert into float for division \n",
        "    acc = correct.sum() / len(correct)\n",
        "    return acc\n",
        "\n",
        "# Model Train Function\n",
        "def train(loader, \n",
        "          model, \n",
        "          optimizer, \n",
        "          loss_fn):\n",
        "    model.train()\n",
        "    losses = []\n",
        "    pbar = tqdm(loader, desc = 'Training...', colour = 'red')\n",
        "    for x, y in pbar:\n",
        "        optimizer.zero_grad()\n",
        "        \n",
        "        # Calculate y_pred\n",
        "        y_pred = model(x).flatten()\n",
        "        \n",
        "        loss = loss_fn(y_pred, y.float())\n",
        "        pbar.set_postfix({'Loss': loss.item()})\n",
        "        losses.append(loss.item())\n",
        "\n",
        "        acc = binary_accuracy(y_pred, y)\n",
        "        \n",
        "        # Calculate gradients for w/b\n",
        "        loss.backward()  \n",
        "        # Update weights according to optimizer rules\n",
        "        optimizer.step()          \n",
        "    return sum(losses) / len(losses), acc\n",
        "\n",
        "# Model Evaluate Function\n",
        "def evaluate(loader, \n",
        "             model, \n",
        "             loss_fn):\n",
        "    model.eval()\n",
        "    losses = []\n",
        "    pbar = tqdm(loader, desc = 'Evaluation...', colour = 'green')\n",
        "    for x, y in pbar:\n",
        "\n",
        "        # Calculate y_pred\n",
        "        y_pred = model(x).flatten()\n",
        "        \n",
        "        loss = loss_fn(y_pred, y.float())\n",
        "        pbar.set_postfix({'Loss': loss.item()})\n",
        "        losses.append(loss.item())\n",
        "\n",
        "        acc = binary_accuracy(y_pred, y)\n",
        "              \n",
        "    return sum(losses) / len(losses), acc"
      ]
    },
    {
      "cell_type": "code",
      "execution_count": 20,
      "metadata": {
        "id": "N_hiVcRO-sTI"
      },
      "outputs": [],
      "source": [
        "def epoch_time(start_time, end_time):\n",
        "    elapsed_time = end_time - start_time\n",
        "    elapsed_mins = int(elapsed_time / 60)\n",
        "    elapsed_secs = int(elapsed_time - (elapsed_mins * 60))\n",
        "    return elapsed_mins, elapsed_secs"
      ]
    },
    {
      "cell_type": "markdown",
      "metadata": {
        "id": "uEX5_34hD83Y"
      },
      "source": [
        "# Model Training and Validation\n",
        "\n"
      ]
    },
    {
      "cell_type": "code",
      "execution_count": 21,
      "metadata": {
        "colab": {
          "base_uri": "https://localhost:8080/"
        },
        "id": "n6eJQmsmAy0_",
        "outputId": "97d85065-1c7f-4b62-df38-fe5d561b58ac"
      },
      "outputs": [
        {
          "name": "stderr",
          "output_type": "stream",
          "text": [
            "Training...: 100%|\u001b[31m██████████\u001b[0m| 1094/1094 [00:07<00:00, 143.83it/s, Loss=0.0214]\n",
            "Evaluation...: 100%|\u001b[32m██████████\u001b[0m| 469/469 [00:02<00:00, 177.49it/s, Loss=0.339]\n"
          ]
        },
        {
          "name": "stdout",
          "output_type": "stream",
          "text": [
            "\n",
            "\tEpoch: 01 | Epoch Time: 0m 10s\n",
            "\tTrain Loss: 20.101 | Train Acc: 100.00%\n",
            "\tValidation Loss: 2.929 | Validation Acc: 91.67%\n",
            "\n"
          ]
        },
        {
          "name": "stderr",
          "output_type": "stream",
          "text": [
            "Training...: 100%|\u001b[31m██████████\u001b[0m| 1094/1094 [00:08<00:00, 130.85it/s, Loss=7.09]\n",
            "Evaluation...: 100%|\u001b[32m██████████\u001b[0m| 469/469 [00:02<00:00, 183.82it/s, Loss=18.5]\n"
          ]
        },
        {
          "name": "stdout",
          "output_type": "stream",
          "text": [
            "\n",
            "\tEpoch: 02 | Epoch Time: 0m 10s\n",
            "\tTrain Loss: 7.443 | Train Acc: 83.33%\n",
            "\tValidation Loss: 13.512 | Validation Acc: 66.67%\n",
            "\n"
          ]
        },
        {
          "name": "stderr",
          "output_type": "stream",
          "text": [
            "Training...: 100%|\u001b[31m██████████\u001b[0m| 1094/1094 [00:07<00:00, 151.61it/s, Loss=3.65]\n",
            "Evaluation...: 100%|\u001b[32m██████████\u001b[0m| 469/469 [00:02<00:00, 184.68it/s, Loss=3.89]\n"
          ]
        },
        {
          "name": "stdout",
          "output_type": "stream",
          "text": [
            "\n",
            "\tEpoch: 03 | Epoch Time: 0m 9s\n",
            "\tTrain Loss: 4.707 | Train Acc: 83.33%\n",
            "\tValidation Loss: 4.344 | Validation Acc: 83.33%\n",
            "\n"
          ]
        },
        {
          "name": "stderr",
          "output_type": "stream",
          "text": [
            "Training...: 100%|\u001b[31m██████████\u001b[0m| 1094/1094 [00:07<00:00, 151.75it/s, Loss=1.57e-5]\n",
            "Evaluation...: 100%|\u001b[32m██████████\u001b[0m| 469/469 [00:02<00:00, 180.15it/s, Loss=0.394]\n"
          ]
        },
        {
          "name": "stdout",
          "output_type": "stream",
          "text": [
            "\n",
            "\tEpoch: 04 | Epoch Time: 0m 9s\n",
            "\tTrain Loss: 1.973 | Train Acc: 100.00%\n",
            "\tValidation Loss: 3.211 | Validation Acc: 91.67%\n",
            "\n"
          ]
        },
        {
          "name": "stderr",
          "output_type": "stream",
          "text": [
            "Training...: 100%|\u001b[31m██████████\u001b[0m| 1094/1094 [00:07<00:00, 151.24it/s, Loss=4.97]\n",
            "Evaluation...: 100%|\u001b[32m██████████\u001b[0m| 469/469 [00:02<00:00, 180.68it/s, Loss=0]\n"
          ]
        },
        {
          "name": "stdout",
          "output_type": "stream",
          "text": [
            "\n",
            "\tEpoch: 05 | Epoch Time: 0m 9s\n",
            "\tTrain Loss: 1.983 | Train Acc: 83.33%\n",
            "\tValidation Loss: 2.641 | Validation Acc: 100.00%\n",
            "\n",
            "Training Time for Batch Size: 16 -> 50.73s\n"
          ]
        }
      ],
      "source": [
        "# Optimizer\n",
        "if arguments.OPTIMIZER == 'Adam':\n",
        "    optimizer = torch.optim.Adam(model.parameters(), \n",
        "                                 lr = arguments.LEARNING_RATE)\n",
        "\n",
        "# Loss Function\n",
        "if arguments.LOSS_FN == 'BCELoss':\n",
        "    loss_fn = nn.BCEWithLogitsLoss().to(device)\n",
        "\n",
        "# Initialize Best Validation Loss\n",
        "best_valid_loss = float('inf')\n",
        "    \n",
        "# Path to Save Best Model\n",
        "PATH = f'lr-best-model.pt'\n",
        "\n",
        "train_loss_list = []\n",
        "train_acc_list = []\n",
        "val_loss_list = []\n",
        "val_acc_list = []\n",
        "\n",
        "batch_start_time = time.time()\n",
        "\n",
        "for epoch in range(arguments.EPOCHS):\n",
        "\n",
        "    start_time = time.time()\n",
        "    \n",
        "    # Avg Train Loss, Train Accuracy\n",
        "    train_loss, train_acc = train(train_loader, \n",
        "                                  model, \n",
        "                                  optimizer, \n",
        "                                  loss_fn)\n",
        "    train_loss_list.append(train_loss)\n",
        "    train_acc_list.append(train_acc.detach().cpu().numpy())\n",
        "\n",
        "    # Avg Val Loss, Val Accuracy\n",
        "    val_loss, val_acc = evaluate(val_loader, \n",
        "                                 model, \n",
        "                                 loss_fn)\n",
        "    val_loss_list.append(val_loss)\n",
        "    val_acc_list.append(val_acc.detach().cpu().numpy())\n",
        "\n",
        "    end_time = time.time()\n",
        "\n",
        "    epoch_mins, epoch_secs = epoch_time(start_time, end_time)\n",
        "\n",
        "    print(f'\\n\\tEpoch: {epoch+1:02} | Epoch Time: {epoch_mins}m {epoch_secs}s')\n",
        "    print(f'\\tTrain Loss: {train_loss:.3f} | Train Acc: {train_acc*100:.2f}%')\n",
        "    print(f'\\tValidation Loss: {val_loss:.3f} | Validation Acc: {val_acc*100:.2f}%\\n')\n",
        "\n",
        "    if val_loss < best_valid_loss:\n",
        "        best_valid_loss = val_loss\n",
        "        torch.save(model.state_dict(), PATH)\n",
        "\n",
        "batch_end_time = time.time()\n",
        "batch_elapsed_time = batch_end_time - batch_start_time\n",
        "print(f'Training Time for Batch Size: {arguments.BATCH_SIZE} -> {batch_elapsed_time:.2f}s')"
      ]
    },
    {
      "cell_type": "markdown",
      "metadata": {
        "id": "N2OxDip6BHeC"
      },
      "source": [
        "# Line Plot Comparison: \n",
        "1. Training vs Val Loss\n",
        "2. Training vs Val Accuracy\n",
        "\n"
      ]
    },
    {
      "cell_type": "code",
      "execution_count": 22,
      "metadata": {
        "colab": {
          "base_uri": "https://localhost:8080/",
          "height": 581
        },
        "id": "qpUykMYVsuOs",
        "outputId": "34f39336-b232-4eb4-a119-853a66fe5224"
      },
      "outputs": [
        {
          "data": {
            "image/png": "[encoded data removed]",
            "text/plain": [
              "<Figure size 432x288 with 1 Axes>"
            ]
          },
          "metadata": {},
          "output_type": "display_data"
        },
        {
          "data": {
            "image/png": "[encoded data removed]",
            "text/plain": [
              "<Figure size 432x288 with 1 Axes>"
            ]
          },
          "metadata": {},
          "output_type": "display_data"
        }
      ],
      "source": [
        "epochs = np.arange(arguments.EPOCHS) + 1\n",
        "\n",
        "def plot_line(line_A_vals, \n",
        "              line_B_vals, \n",
        "              line_A_label, \n",
        "              line_B_label, \n",
        "              xlabel, \n",
        "              ylabel, \n",
        "              title):\n",
        "    plt.style.use('ggplot')\n",
        "    plt.plot(epochs, line_A_vals, label = line_A_label, color = \"red\", linewidth = '3', )\n",
        "    plt.plot(epochs, line_B_vals, label = line_B_label, color = \"green\", linewidth = '3')\n",
        "    plt.xlabel(xlabel)\n",
        "    plt.xticks(epochs)\n",
        "    plt.ylabel(ylabel)\n",
        "    plt.title(title, color = 'black')\n",
        "    plt.legend(shadow = True)\n",
        "    plt.show()\n",
        "    \n",
        "# Training vs Val Loss Plot\n",
        "plot_line(train_loss_list, \n",
        "          val_loss_list, \n",
        "          'Training Loss', \n",
        "          'Val Loss', \n",
        "          'Epoch', \n",
        "          'Loss', \n",
        "          'Training Loss vs Val Loss')\n",
        "\n",
        "# Training vs Val Acc Plot\n",
        "plot_line(train_acc_list, \n",
        "          val_acc_list, \n",
        "          'Training Acc', \n",
        "          'Val Acc', \n",
        "          'Epoch', \n",
        "          'Accuracy', \n",
        "          'Training Acc vs Val Acc')"
      ]
    },
    {
      "cell_type": "markdown",
      "metadata": {
        "id": "fY2M8Sfh5k9u"
      },
      "source": [
        "## Load the saved model"
      ]
    },
    {
      "cell_type": "code",
      "execution_count": 23,
      "metadata": {
        "colab": {
          "base_uri": "https://localhost:8080/"
        },
        "id": "6PkRH2CF5kIp",
        "outputId": "e149c0f4-6f21-47a5-e4a8-a1740e900c2b"
      },
      "outputs": [
        {
          "data": {
            "text/plain": [
              "LR(\n",
              "  (embedding): Embedding(25002, 100)\n",
              "  (fc): Linear(in_features=100, out_features=1, bias=True)\n",
              ")"
            ]
          },
          "execution_count": 23,
          "metadata": {},
          "output_type": "execute_result"
        }
      ],
      "source": [
        "saved_model = LR(arguments.INPUT_DIM, \n",
        "                 arguments.EMBED_DIM,\n",
        "                 arguments.OUTPUT_DIM).to(device)\n",
        "\n",
        "saved_model.load_state_dict(torch.load(PATH))\n",
        "saved_model.eval()"
      ]
    },
    {
      "cell_type": "markdown",
      "metadata": {
        "id": "oBZ6wNnJ7L_h"
      },
      "source": [
        "## Test Loss and Accuracy"
      ]
    },
    {
      "cell_type": "code",
      "execution_count": 24,
      "metadata": {
        "colab": {
          "base_uri": "https://localhost:8080/"
        },
        "id": "8pIG1usf509F",
        "outputId": "b51f4133-7463-4a97-bbc9-e3637a1ba9a2"
      },
      "outputs": [
        {
          "name": "stderr",
          "output_type": "stream",
          "text": [
            "Evaluation...: 100%|\u001b[32m██████████\u001b[0m| 1563/1563 [00:08<00:00, 182.34it/s, Loss=3.72]"
          ]
        },
        {
          "name": "stdout",
          "output_type": "stream",
          "text": [
            "\n",
            "\tTest Loss: 3.040 | Test Acc: 87.50%\n"
          ]
        },
        {
          "name": "stderr",
          "output_type": "stream",
          "text": [
            "\n"
          ]
        }
      ],
      "source": [
        "# Avg Test Loss, Test Accuracy\n",
        "test_loss, test_acc = evaluate(test_loader, \n",
        "                               saved_model, \n",
        "                               loss_fn)\n",
        "print(f'\\n\\tTest Loss: {test_loss:.3f} | Test Acc: {test_acc*100:.2f}%')"
      ]
    },
    {
      "cell_type": "markdown",
      "metadata": {
        "id": "Dk0gd1tcdlid"
      },
      "source": [
        "# Deliverable Plots"
      ]
    },
    {
      "cell_type": "code",
      "execution_count": 25,
      "metadata": {
        "colab": {
          "base_uri": "https://localhost:8080/",
          "height": 863
        },
        "id": "8lNhPnDCdhxx",
        "outputId": "bf923b31-4a32-48da-9c77-1c830d582c44"
      },
      "outputs": [
        {
          "data": {
            "image/png": "[encoded data removed]",
            "text/plain": [
              "<Figure size 432x288 with 1 Axes>"
            ]
          },
          "metadata": {},
          "output_type": "display_data"
        },
        {
          "data": {
            "image/png": "[encoded data removed]",
            "text/plain": [
              "<Figure size 432x288 with 1 Axes>"
            ]
          },
          "metadata": {},
          "output_type": "display_data"
        },
        {
          "data": {
            "image/png": "[encoded data removed]",
            "text/plain": [
              "<Figure size 432x288 with 1 Axes>"
            ]
          },
          "metadata": {},
          "output_type": "display_data"
        }
      ],
      "source": [
        "batch_size = [16, 32, 64, 128]\n",
        "training_time = [68.71, 45.78, 33.09, 27.01]\n",
        "val_set_acc = [0.833, 0.75, 0.75, 0.69]\n",
        "learning_rate_vals = [0.1, 0.01, 0.001, 0.0001]\n",
        "val_set_acc_lr = [0.75, 0.833, 0.75, 0.667]\n",
        "\n",
        "def plot_comp_line(x_vals, \n",
        "              y_vals,\n",
        "              line_label,\n",
        "              xlabel, \n",
        "              ylabel, \n",
        "              title, \n",
        "              line_color):\n",
        "    plt.style.use('ggplot')\n",
        "    plt.plot(x_vals, y_vals, label = line_label, color = line_color, linewidth = '3')\n",
        "    plt.xlabel(xlabel)\n",
        "    plt.xticks(x_vals)\n",
        "    plt.ylabel(ylabel)\n",
        "    plt.title(title, color = 'black')\n",
        "    plt.legend(shadow = True)\n",
        "    plt.show()\n",
        "\n",
        "# Batch Size vs Training Time Plot\n",
        "plot_comp_line(batch_size, \n",
        "               training_time, \n",
        "               'Batch Size vs Training Time',  \n",
        "               'Batch Size', \n",
        "               'Training Time',\n",
        "               'Batch Size vs Training Time', \n",
        "               'blue')\n",
        "\n",
        "# Batch Size vs Val Acc Plot\n",
        "plot_comp_line(batch_size, val_set_acc, \n",
        "               'Batch Size vs Validation Accuracy', \n",
        "               'Batch Size', \n",
        "               'Validation Acc',\n",
        "               'Batch Size vs Validation Accuracy', \n",
        "               'purple')\n",
        "\n",
        "# Learning Rate vs Val Acc Plot\n",
        "plot_comp_line(learning_rate_vals, val_set_acc_lr, \n",
        "               'Learning Rate vs Validation Accuracy', \n",
        "               'Learning Rate', \n",
        "               'Validation Acc',\n",
        "               'Learning Rate vs Validation Accuracy', \n",
        "               'brown')"
      ]
    },
    {
      "cell_type": "markdown",
      "metadata": {
        "id": "5xNzgVBJNRHY"
      },
      "source": [
        "# Test of Model Correctness"
      ]
    },
    {
      "cell_type": "code",
      "execution_count": 26,
      "metadata": {
        "colab": {
          "base_uri": "https://localhost:8080/"
        },
        "id": "VpzVtgffMJzf",
        "outputId": "59e51611-666e-404a-82a9-6dfd8af1596b"
      },
      "outputs": [
        {
          "name": "stdout",
          "output_type": "stream",
          "text": [
            "tensor([-69.8922,  41.9362, 134.5851,  88.8379,  98.4300,  38.6211,  25.3406,\n",
            "        -47.7363,  34.5749,  20.4337, -24.9520,  23.3369,  30.5860, -14.5192,\n",
            "        -51.8379, 109.5973], device='cuda:0', grad_fn=<ViewBackward>)\n",
            "tensor([108.9367,  65.5060, -51.4175, -79.1920, 111.2156,  45.4162, -24.0021,\n",
            "         77.5357,  69.0634,  73.8432,  -7.1168,  57.9735,  -6.6752,  -1.2127,\n",
            "        127.5425,  97.0687], device='cuda:0', grad_fn=<ViewBackward>)\n",
            "tensor([  83.1878, -102.8076,  -11.5085,  131.0548,   71.9987,   74.4617,\n",
            "         -96.4327,   80.6727,  -13.6163,  -40.8552,  -38.0710,  127.2090,\n",
            "        -206.9517,  149.0109,   99.6662, -125.9063], device='cuda:0',\n",
            "       grad_fn=<ViewBackward>)\n",
            "tensor([ 255.7480, -113.0100,   16.6606,  -24.2011,  204.9079,   48.4540,\n",
            "         -33.0488,  -52.1550,   73.8814,  -26.8501,  -13.1539,   48.2525,\n",
            "          -4.9579,  -22.7871,  -93.5770,   13.6227], device='cuda:0',\n",
            "       grad_fn=<ViewBackward>)\n",
            "tensor([ 69.9953,  -2.8137, -59.3508, 148.5797, -63.9723, 110.1462, -86.5622,\n",
            "         10.5579, -31.7879, -10.9063, -43.8601,  28.4145,  24.4428, -12.7215,\n",
            "        -47.0642, 108.4829], device='cuda:0', grad_fn=<ViewBackward>)\n"
          ]
        }
      ],
      "source": [
        "max_n_test_instances = 5\n",
        "i = 1\n",
        "for x, _ in val_loader:\n",
        "  score = saved_model(x).flatten()\n",
        "  print(score)\n",
        "  if i >= max_n_test_instances:\n",
        "    break\n",
        "  else:\n",
        "    i += 1"
      ]
    },
    {
      "cell_type": "markdown",
      "metadata": {
        "id": "kW40D00jEqbB"
      },
      "source": [
        "# Observation for the errors that Logistic Regression makes\n",
        "For first 10 sentences in the Dev(validation) set"
      ]
    },
    {
      "cell_type": "code",
      "execution_count": 27,
      "metadata": {
        "colab": {
          "base_uri": "https://localhost:8080/"
        },
        "id": "ocSG7WNM9vBd",
        "outputId": "0063a525-60ba-44a3-fb94-abb5959a3a6b"
      },
      "outputs": [
        {
          "name": "stdout",
          "output_type": "stream",
          "text": [
            "Input Sentence: Abu , THE THIEF OF BAGDAD , helps King Ahmed regain his kingdom from a wicked sorcerer.<br /><br />As Europe was going to war and significant sections of the world was going up in flames , Sir Alexander Korda 's London Films unveiled this lavish escapist fare from the legends of The Arabian Nights . Replete with swords & sorcery , it gave audiences in 1940 a short respite from the headlines . It also is a fine piece of film making , featuring good acting and an intelligent script.<br /><br />Conrad Veidt gets top billing and he deserves it , playing the evil magician Jaffar . His saturnine face with its piercing eyes makes one recall the macabre roles he played with such relish during Silent days . Here is a villain worth watching . As the boyish Thief , Sabu is perfectly cast in this , his third film . While not a hero in the typical sense of the word , his character is certainly heroic in deed & action.<br /><br />The rest of the cast do fine work . John Justin is both energetic & sensitive as the unenlightened king who must learn about the realities of live the hard way ; Sabu gets a significant part of the action ( when he 's not transformed into a dog ) but Justin is appropriately athletic when needs must . Lovely June Duprez plays the endangered Princess of Basra , coveted by two very different men . Appearing late in the film , massive Rex Ingram shakes things up as a genie with an attitude.<br /><br />Allan Jeayes uses his fine voice to good advantage as the Storyteller . Miles Malleson gets another eccentric role as the childlike Sultan of Basra , forever dithering on about his mechanical toys ( Malleson was also responsible for the film 's screen play & dialogue ) . Aged Morton Selten portrays the benevolent King of Legend . Mary Morris , later an exceptional stage actress , plays the dual roles of Jaffar 's accomplice and the six - armed Silver Dancer.<br /><br />The film was begun in Britain , but wartime difficulties made Korda move it to Southern California , which probably explains the presence of American Ingram in the cast . The art direction , in vibrant Technicolor , is most attractive , especially the fairy tale architecture in blues , whites & pinks.<br /><br />*************************<br /><br />Born Sabu Dastagir in 1924 , Sabu was employed in the Maharaja of Mysore 's stables when he was discovered by Korda 's company and set before the cameras . His first four films ( ELEPHANT BOY-1937 , THE DRUM-1938 , THE THIEF OF BAGDAD-1940 , JUNGLE BOOK-1942 ) were his best and he found himself working out of Hollywood when they were completed . After distinguished military service in World War II he resumed his film career , but he became endlessly confined for years playing ethnic roles in undistinguished minor films , BLACK NARCISSUS ( 1947 ) being the one great exception . His final movie , Walt Disney 's A TIGER WALKS ( 1964 ) was an improvement , but it was too late . Sabu had died of a heart attack in late 1963 , only 39 years of age .\n",
            "Gold Label: pos\n",
            "Pred Label: 0\n",
            "Input Sentence: Nahhh ! Leila ( Grace Mills ) is a teenager turned on to Satan ( and LSD ) by her archaeologist fiancé Richard . There 's a neighborhood hippie demon cult hanging out at the local decrepit ancient castle , where Leila and Richard drink blood , drop drugs , join in sex orgies , dance to lame psychedelic rock and participate in black mass ceremonies where the guys wear pants , masks and capes and the women do n't wear anything at all . Unfortunately , these kind of extracurricular activities have left Leila open to demonic possession from the dreaded \" spirit of evil . \" Leila also comes from a screwed up family , which does n't help either . Her older brother John is a recluse who seems to be in love with her . Her mother Patricia ( Maria Perschy ) is depressed because she thinks she was responsible for the father 's death . To top it off , her sister ( Maria Kosti ) is a slutty semi pro golfer named ( gasp ! ) Debbie Gibson . There 's plenty of hired help around also to waste more time . Two maids ( a young one who takes her clothes off a lot and an old one who spies on everyone ) , plus Udo ( Luis Induni ) , a bald voyeuristic handyman who spies on Leila changing clothes , takes nude pictures of her and sneaks into the pool house to take a sniff of her freshly used bathing suit . Oh yeah and Borg , the pet German Shepherd.<br /><br />Paul Naschy is Father Adrian Dunning , the doubting priest ( zzzzz ) who starts snooping around after John and Richard both have their heads twisted around backwards . Leila tells him \" They say I am perverse and I 'm going to prove it is true ! \" During her birthday party , she tells her guests \" You make me sick ! I hate you all ! \" and when mom suggests having a doctor come over she she screeches \" I do n't want to see that fat ass ! \" Debbie suggests they commit Leila to a \" sanitory , \" but Leila runs off and joins the cult again . She is rescued ( again ) and brought back home ( for the third time).<br /><br />By this point in the movie , there 's only about ten minutes left to go and all we 've basically seen is some very boring scenes of characters talking and whining about how terrible and f - ed up their lives are and how Leila is acting weird . It 's almost as agonizing to sit through as an Andy Milligan movie , minus the gore and laughs . But finally during the last few minutes we get the movie the title implies - an EXORCIST - like possession flick . Unfortunately , the best part of it are the contact lenses Leila gets to wear . Some cheap time - lapse slashes appear on her arms , legs and face , she gets scabby lips and her eyes take on the appearance of blue and white marbles . She begins reeking of rotted flesh , spits up some clear gunk , starts speaking in her dead dad 's voice , sneaks into her mom 's bedroom , slaps her around a bit and calls her a \" filthy bitch of a whore . \" In comes Father Adrian , who now finally believes she is indeed possessed , fends off her attempts at seduction , hallucinates frogs and eels are in the kitchen and douses Leila with holy water . Doors open and close , a mirror breaks , there 's sudden thunder and her bed rises up off the floor . After she tackles Dunning and the two roll down the stairs , the spirit is out of her and into - guess who ? Why , Borg the family pooch ! The demon dog then turns on Adrian and chews him up a little before he impales it on a fire poker . Then we get one of the most irritating final shots ever committed to film . It 's Leila on the floor going from her hideous appearance back to her normal sexy self . But then there 's ANOTHER time - lapse effect that sort of seems to suggest that the demon has possibly reentered her body . It 's so badly done , you really have no clue what to make of it , which is the final slap in the face to anyone who has just realized they 've wasted an hour and a half on this worthless POS.<br /><br />Screw the contacts , 1 out of 10 it is .\n",
            "Gold Label: neg\n",
            "Pred Label: 0\n",
            "Input Sentence: While the original First Blood had its far - fetched moments , it was at least exciting in parts . In Rambo : First Blood , Part II the emphasis is shifted very much onto comic - book action . Plausibility is totally rejected ; logic nose - dives ; Stallone becomes so impregnable that there can be no doubt he will succeed in his mission . Just like any other wish - fulfilment actioner of that time ( e.g. Invasion USA , Commando , Red Scorpion ) , Rambo : First Blood , Part II cancels out its own opportunities for real excitement by presenting a hero too invulnerable to fear for . If you can tell from the word go that Rambo is going to wipe out hundreds of enemy soldiers , what is left to get excited about?<br /><br />Imprisoned after the events of the first movie , John J Rambo ( Sylvester Stallone ) is offered a pardon if he will join a covert operation in the Far East . The year is 1985 , and a mission is being arranged to find out if there are any American PoWs still trapped in the jungles of Vietnam . Rambo is encouraged to take the job by his old mentor Colonel Trautman ( Richard Crenna ) , but the assignment is actually the brainchild of a government outfit fronted by Marshall Murdock ( Charles Napier ) . Rambo 's job is merely to head for a prison camp in the jungle and check out if it contains any American PoWs  if it does n't , he is to rendezvous with a chopper ; if it does , he is to get photographic evidence of their existence so that they can be rescued at a later date . Aiding him in his quest is a lady soldier with local knowledge , the beautiful and resourceful Co Bao ( Julia Nickson ) . Sure enough , Rambo discovers that there are PoWs in the camp , but he exceeds his orders by rescuing one of them   when he reaches the rendezvous point , the rescue chopper abandons him on the orders of Murdock who , it seems , does n't really want to find any PoWs because of the political and military implications . Rambo is captured by the enemy and tortured , but following an explosive escape he sets out to free the PoWs and get his revenge on the treacherous Murdock.<br /><br />The few good points of the film come from Jack Cardiff 's polished photography , Jerry Goldsmith 's exhilarating score , and the sheer professionalism of the stunt team in performing various action antics . Beyond these scant pickings , the film is a failure . The actors are reduced to macho posturing , the plot rings false , the action sequences are soulless and suspenseless , the dialogue is absurd   even the violence becomes numbingly predictable . At the time of its release America was under the presidency of Ronald Reagan , a man with simplistic and near - hysterical anti - communist sentiments . For this reason , contemporary audiences lapped up this Commie - bashing shooting - fest as if it was the greatest movie of all - time , transforming it into an undeserved box office success . Thankfully times have changed  nowadays we can look upon it as a simple - minded action flick with a ludicrously high body count , ludicrously dumb politics , and a ludicrous hero .\n",
            "Gold Label: neg\n",
            "Pred Label: 1\n",
            "Input Sentence: It 's curious that the two stars of Meet The People were a pair of movie stars who went into the new medium of television and became even bigger successes and who both went into the production end of things and enjoyed tycoon status on the small screen . Lucille Ball however was not a major star , that would come with television . As for Dick Powell he desperately wanted to get out of doing films like Meet The People and his career salvation would be coming in his next film.<br /><br />I think the only reason that Dick Powell did the film was because a young player from MGM was cast in a specialty number and he was seeing her at the time . His private time with June Allyson was far better than what we see on the screen . Powell looks crashingly bored and ca n't summon up any kind of emotion at all.<br /><br />He was probably tired of doing these musicals with silly plots , the kind he ran from Warner Brothers from . The original show Meet The People was not a book show , it was a revue and it ran in the 1940 - 41 season on Broadway for 160 performances . When MGM bought it , they scrapped everything but the title and the title song . The rest of the score was patched together from various and sundry songwriters , none of the songs is memorable . Odd when you consider some of the source material is from Burton Lane , E.Y. Harburg , Harold Arlen , and Rodgers&Hart . These guys just must have emptied the trunk for material.<br /><br />The plot is sillier than even most of the musical propaganda pieces of the time . Powell is the writer of a revue called Meet The People and he 's a shipyard worker who wins a lottery date with movie star Lucille Ball . She 's interested , he 's interested , they 're both interested in the revue , but creative differences keep them apart of course until the finale . That 's the film in a nutshell.<br /><br />MGM did give Powell and Ball some good musical acts which are the main reason for watching Meet The People . The big bands of Vaughn Monroe and Spike Jones are here and the highlight of the film for me is Bert Lahr dressed in a commodore 's suit like Lou Costello had in the dream sequence in In The Navy . The song Heave Ho is written by Arlen and Harburg who wrote for Lahr , the Courage number from The Wizard Of Oz . And as just about everyone in the world has seen that film , you have an idea of Heave Ho is like.<br /><br />Dick Powell 's next film was Murder My Sweet in which he finally bid a not so fond adieu to musicals . And Lucy would have to wait for television before the world got to see what she really could do .\n",
            "Gold Label: neg\n",
            "Pred Label: 0\n",
            "Input Sentence: Brokedown Palace is not the kind of movie I would ever like to see . I also did not like the movie when some Aussie man smuggled drugs in Thailand and accused Claire Danes and Kate Beckinsale of drug smuggling . I would not go to that country no matter what after I saw this movie . In fact this movie stinks . I prefer to visit Germany to meet beautiful single women . Germany is the country I tolerate . I also would rather stick to the United States instead . After I saw some of the movie in the theatre including the false accusation of drug smuggling , I left the theatre and had my money refunded because I can not tolerate this movie . If you are going to to Thailand to meet someone there who could be a drug smuggler , forget this !\n",
            "Gold Label: neg\n",
            "Pred Label: 0\n",
            "Input Sentence: First of all let me say that I had to think a lot about writing a comment for this movie . The best review for this kind of Cinema can be just the silence . Movie addressed to housewives and to grandmothers . This movie tries to look \" genuine \" and the characters should be supposed \" real people \" . An Italian could never think that the characters might be \" real \" : they are just \" low - profile \" stereotypes . It gives a very misguised vision of what life is in the Italian countryside . The plot is weak ( plot ? which plot ? ) and the humour does not make laugh anyone older than 12 .\n",
            "Gold Label: neg\n",
            "Pred Label: 1\n",
            "Input Sentence: Yes , Be My Love was Mario Lanza 's skyrocket to fame and still is popular today . His voice was strong and steady , so powerful in fact that MGM decided to use him in The Great Caruso . Lanza himself thought he was the reincarnation of Caruso . Having read the book by Kostelanitz who wrote a biography of Lanza , he explains that the constant practise and vocal lessons became the visionary Caruso to Lanza . There is no doubt that Lanza did a superb job in the story , but the story is not entirely true ; blame it on Hollywood ! I used to practise singing his songs years ago , and became pretty good myself until I lost my voice because of emphysema / asthma ten years ago . Reaching the high note of Be My Love is not easy ; but beautiful !\n",
            "Gold Label: pos\n",
            "Pred Label: 0\n",
            "Input Sentence: This film is self indulgent rubbish . Watch this film if you merely want to hear spoken Gaelic or enjoy the pleasant soundtrack . Watch for any other reason and you will be disappointed . It should be charming but is n't - it 's just irritating . The characters are difficult to care about and the acting is poor . The stories within the film are also charmless and sinister . I was expecting a heartwarming family film but this also held no appeal to my fourteen year old daughter . It is rarely that I can not see a film through to its conclusion but this one got the better of both of us.<br /><br />Although the film is set in current times it has the look and feel of a cheap East European film made during the Cold War . There is n't even enough in the way of beautiful Scottish scenery and cinematography to redeem it . A real shame because as a film this is an embarrassment to Scotland .\n",
            "Gold Label: neg\n",
            "Pred Label: 1\n",
            "Input Sentence: The first half hour of the movie had a steady pace and introduced the characters . however all of a sudden everything was happening too quick , a lame reason for Akshey Kumar to date 3 girls , very loud over acting by both Akshey and John Abraham . Neha Dupia was the highlight of the movie , Paresh Rawal did well but not as good as his performance in Hera Pheri . overall this movie was the biggest disappointment the film does no justice to its trailer . save your money and do n't watch this movie , watch Hera Pheri and Hungama again!<br /><br />summarising it : a cheap stage show performance and appearance to the film no story or substance , the plot was extraordinarily non - sense good music by Preetam the man who bought us Dhoom ! keep it up ! movie shot all in one room , new comers ( female cast ) were okay as it was their first film but established actors like Akshey and John totally disappointed an established director like Priyadarshan gives his worst movie ever !\n",
            "Gold Label: neg\n",
            "Pred Label: 1\n",
            "Input Sentence: This was a less than exciting short film I saw between features on Turner Classic Movies recently . While the film popped out due to its very intense Technicolor , the film itself just was n't that moving and at times the plot looked pretty cheesy -- like this was made for classroom use and capturing the attention of a wider audience WASN'T even a consideration . In particular , I really hated how many times in the film things were reiterated -- such as when the characters talked to her , they usually said \" Clara Barton \" instead of \" ma'am \" , \" Miss Barton \" or \" Clara \" . Plus , one sickly confederate soldier said that he was a \" Johnny Reb , A Confederate a Rebel, ... \"--almost like he was the cartoon character Mojo Jojo from the Powerpuff Girls . This was just sloppy writing -- period.<br /><br />It was interesting to see John Hamilton ( later , \" Perry White \" on the SUPERMAN TV show ) in a beard as President Garfield . Yep -- it 's him under that beard .\n",
            "Gold Label: neg\n",
            "Pred Label: 0\n"
          ]
        }
      ],
      "source": [
        "def predict_sentiment(model, \n",
        "                      sentence):\n",
        "    model.eval()\n",
        "    tokenized = [tok.text for tok in nlp.tokenizer(sentence)]\n",
        "    indexed = [TEXT.vocab.stoi[t] for t in tokenized]\n",
        "    length = [len(indexed)]\n",
        "    tensor = torch.LongTensor(indexed).to(device)\n",
        "    tensor = tensor.unsqueeze(1)\n",
        "    length_tensor = torch.LongTensor(length)\n",
        "    prediction = torch.sigmoid(model(tensor))\n",
        "    return prediction.item()\n",
        "\n",
        "\n",
        "num_sent = 10\n",
        "val_examples = valid_data.examples\n",
        "j = 0\n",
        "for i in range(len(val_examples)):\n",
        "  input_seq = ' '.join(val_examples[i].text)\n",
        "  gold_label = val_examples[i].label\n",
        "  pred_label = round(predict_sentiment(saved_model, input_seq))\n",
        "  print(f'Input Sentence: {input_seq}')\n",
        "  print(f'Gold Label: {gold_label}')\n",
        "  print(f'Pred Label: {pred_label}')\n",
        "  j += 1\n",
        "  if j == num_sent:\n",
        "    break"
      ]
    }
  ],
  "metadata": {
    "accelerator": "GPU",
    "colab": {
      "provenance": []
    },
    "gpuClass": "standard",
    "kernelspec": {
      "display_name": "pvenv",
      "language": "python",
      "name": "python3"
    },
    "language_info": {
      "codemirror_mode": {
        "name": "ipython",
        "version": 3
      },
      "file_extension": ".py",
      "mimetype": "text/x-python",
      "name": "python",
      "nbconvert_exporter": "python",
      "pygments_lexer": "ipython3",
      "version": "3.10.8 (main, Oct 13 2022, 09:48:40) [Clang 14.0.0 (clang-1400.0.29.102)]"
    },
    "orig_nbformat": 4,
    "vscode": {
      "interpreter": {
        "hash": "5b37beb76676c8b0643f5764b5c5ae0ddf876ecbab29b433e279cae2d82963c7"
      }
    }
  },
  "nbformat": 4,
  "nbformat_minor": 0
}
