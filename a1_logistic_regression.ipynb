{
  "cells": [
    {
      "cell_type": "markdown",
      "source": [
        "# Install Dependencies"
      ],
      "metadata": {
        "id": "AR3wtZo9vfKS"
      }
    },
    {
      "cell_type": "code",
      "source": [
        "!pip install torch==1.9.0 torchtext==0.10.0"
      ],
      "metadata": {
        "id": "yuxqmLnAvcbG"
      },
      "execution_count": 26,
      "outputs": []
    },
    {
      "cell_type": "markdown",
      "source": [
        "# Import Necessary Libraries"
      ],
      "metadata": {
        "id": "lt-beZdsvQtS"
      }
    },
    {
      "cell_type": "code",
      "execution_count": 27,
      "metadata": {
        "id": "-FZ7C3f-UGx4"
      },
      "outputs": [],
      "source": [
        "import torch\n",
        "import torch.nn as nn\n",
        "\n",
        "import random\n",
        "import argparse\n",
        "\n",
        "import numpy as np\n",
        "\n",
        "import matplotlib.pyplot as plt\n",
        "%matplotlib inline\n",
        "\n",
        "from torchtext.legacy import data\n",
        "from torchtext.legacy import datasets\n",
        "\n",
        "from torch.utils.data import Dataset, DataLoader\n",
        "from torch.nn.utils.rnn import pad_sequence\n",
        "\n",
        "from sklearn.model_selection import train_test_split\n",
        "from tqdm import tqdm\n",
        "\n",
        "import time\n",
        "from datetime import datetime"
      ]
    },
    {
      "cell_type": "markdown",
      "source": [
        "# Use GPU\n",
        "Set Device = CUDA if available"
      ],
      "metadata": {
        "id": "MosGAaTuxk9V"
      }
    },
    {
      "cell_type": "code",
      "source": [
        "device = torch.device('cuda' if torch.cuda.is_available() else 'cpu')\n",
        "print(device)"
      ],
      "metadata": {
        "id": "LhceMWPHxaKn",
        "colab": {
          "base_uri": "https://localhost:8080/"
        },
        "outputId": "fc2e6eaf-ad90-4fc8-c0fc-a60a6f666db6"
      },
      "execution_count": 28,
      "outputs": [
        {
          "output_type": "stream",
          "name": "stdout",
          "text": [
            "cuda\n"
          ]
        }
      ]
    },
    {
      "cell_type": "markdown",
      "source": [
        "# Hyper-Parameters"
      ],
      "metadata": {
        "id": "pTH9yhaY-B1i"
      }
    },
    {
      "cell_type": "code",
      "source": [
        "argument_parser = argparse.ArgumentParser()\n",
        "argument_parser.add_argument(\"--epochs\", dest = \"EPOCHS\", type = int, default = 5)\n",
        "argument_parser.add_argument(\"--batch_size\", dest = \"BATCH_SIZE\", type = int, default = 16)\n",
        "argument_parser.add_argument(\"--embed_dim\", dest = \"EMBED_DIM\", type = int, default = 100)\n",
        "argument_parser.add_argument(\"--optimizer\", dest = \"OPTIMIZER\", type = str, default = 'Adam')\n",
        "argument_parser.add_argument(\"--loss_fn\", dest = \"LOSS_FN\", type = str, default = 'BCELoss')\n",
        "argument_parser.add_argument(\"--learning_rate\", dest = \"LEARNING_RATE\", type = float, default =  1e-2)\n",
        "arguments, unknown = argument_parser.parse_known_args()"
      ],
      "metadata": {
        "id": "3ECvGdEx98Gf"
      },
      "execution_count": 29,
      "outputs": []
    },
    {
      "cell_type": "markdown",
      "source": [
        "# Set SEED value for reproducible results\n",
        "# and\n",
        "# Load Dataset"
      ],
      "metadata": {
        "id": "7MA4h06z_26K"
      }
    },
    {
      "cell_type": "code",
      "source": [
        "SEED = 1234\n",
        "\n",
        "torch.manual_seed(SEED)\n",
        "torch.backends.cudnn.deterministic = True\n",
        "\n",
        "TEXT = data.Field(tokenize = 'spacy',\n",
        "                  tokenizer_language = 'en_core_web_sm')\n",
        "LABEL = data.LabelField(dtype = torch.float)"
      ],
      "metadata": {
        "id": "YkxM4l7Cvm3G"
      },
      "execution_count": 30,
      "outputs": []
    },
    {
      "cell_type": "markdown",
      "source": [
        "# Create Dataset Splits and Build Vocab"
      ],
      "metadata": {
        "id": "UlAM61uzb3-M"
      }
    },
    {
      "cell_type": "code",
      "source": [
        "train_data, test_data = datasets.IMDB.splits(TEXT, LABEL)\n",
        "print(f'Number of training examples: {len(train_data)}')\n",
        "print(f'Number of testing examples: {len(test_data)}')"
      ],
      "metadata": {
        "colab": {
          "base_uri": "https://localhost:8080/"
        },
        "id": "D3SulDgksO_G",
        "outputId": "24aa090d-f4de-4ec8-f1e9-792f9f70c559"
      },
      "execution_count": 31,
      "outputs": [
        {
          "output_type": "stream",
          "name": "stdout",
          "text": [
            "Number of training examples: 25000\n",
            "Number of testing examples: 25000\n"
          ]
        }
      ]
    },
    {
      "cell_type": "code",
      "source": [
        "train_data, valid_data = train_data.split(random_state = random.seed(SEED))\n",
        "print(f'Number of training examples: {len(train_data)}')\n",
        "print(f'Number of validation examples: {len(valid_data)}')\n",
        "print(f'Number of testing examples: {len(test_data)}')"
      ],
      "metadata": {
        "colab": {
          "base_uri": "https://localhost:8080/"
        },
        "id": "Mnb-rchBtY9Y",
        "outputId": "26d9f853-94cc-4396-9d3e-1953b03e94a4"
      },
      "execution_count": 32,
      "outputs": [
        {
          "output_type": "stream",
          "name": "stdout",
          "text": [
            "Number of training examples: 17500\n",
            "Number of validation examples: 7500\n",
            "Number of testing examples: 25000\n"
          ]
        }
      ]
    },
    {
      "cell_type": "code",
      "source": [
        "MAX_VOCAB_SIZE = 25_000\n",
        "\n",
        "TEXT.build_vocab(train_data, max_size = MAX_VOCAB_SIZE)\n",
        "LABEL.build_vocab(train_data)\n",
        "print(f\"Unique tokens in TEXT vocabulary: {len(TEXT.vocab)}\")\n",
        "print(f\"Unique tokens in LABEL vocabulary: {len(LABEL.vocab)}\")\n",
        "print(f\"Most common 20 tokens in TEXT vocabulary: {TEXT.vocab.freqs.most_common(20)}\")"
      ],
      "metadata": {
        "colab": {
          "base_uri": "https://localhost:8080/"
        },
        "id": "uLjGElXQvE1A",
        "outputId": "5592b243-c3ab-436f-e354-fec1240c64d5"
      },
      "execution_count": 33,
      "outputs": [
        {
          "output_type": "stream",
          "name": "stdout",
          "text": [
            "Unique tokens in TEXT vocabulary: 25002\n",
            "Unique tokens in LABEL vocabulary: 2\n",
            "Most common 20 tokens in TEXT vocabulary: [('the', 203592), (',', 193330), ('.', 166323), ('a', 109962), ('and', 109787), ('of', 101268), ('to', 94119), ('is', 76722), ('in', 61228), ('I', 54178), ('it', 53755), ('that', 49541), ('\"', 44374), (\"'s\", 43358), ('this', 42543), ('-', 37707), ('/><br', 35637), ('was', 35043), ('as', 30469), ('with', 29978)]\n"
          ]
        }
      ]
    },
    {
      "cell_type": "markdown",
      "source": [
        "# Dictionary for words (Vocabulary)\n",
        "\n"
      ],
      "metadata": {
        "id": "N-4fcNkY2GyS"
      }
    },
    {
      "cell_type": "code",
      "source": [
        "word2idx = TEXT.vocab.stoi\n",
        "\n",
        "idx2word = { idx: word for word, idx in word2idx.items() }\n",
        "\n",
        "unk_token = word2idx['<unk>']\n",
        "padding_token = word2idx['<pad>']\n",
        "print(f'UNK Token: {unk_token}')\n",
        "print(f'PAD Token: {padding_token}')"
      ],
      "metadata": {
        "id": "jB4s88LI1CiN",
        "colab": {
          "base_uri": "https://localhost:8080/"
        },
        "outputId": "eb0469db-4694-4a93-f9f2-05036b0e348c"
      },
      "execution_count": 34,
      "outputs": [
        {
          "output_type": "stream",
          "name": "stdout",
          "text": [
            "UNK Token: 0\n",
            "PAD Token: 1\n"
          ]
        }
      ]
    },
    {
      "cell_type": "markdown",
      "source": [
        "# Add Input Dim and Output Dim to arguments"
      ],
      "metadata": {
        "id": "w3Tcodq6x35S"
      }
    },
    {
      "cell_type": "code",
      "source": [
        "argument_parser.add_argument(\"--input_dim\", dest = \"INPUT_DIM\", type = int, default = len(word2idx))\n",
        "argument_parser.add_argument(\"--output_dim\", dest = \"OUTPUT_DIM\", type = int, default = 1)\n",
        "arguments, unknown = argument_parser.parse_known_args()\n",
        "print(arguments)"
      ],
      "metadata": {
        "colab": {
          "base_uri": "https://localhost:8080/"
        },
        "id": "r-ql7ubIuZvn",
        "outputId": "e8e8dcde-38b8-43e5-b067-6fc7cbc3f6e2"
      },
      "execution_count": 35,
      "outputs": [
        {
          "output_type": "stream",
          "name": "stdout",
          "text": [
            "Namespace(BATCH_SIZE=16, EMBED_DIM=100, EPOCHS=5, INPUT_DIM=25002, LEARNING_RATE=0.01, LOSS_FN='BCELoss', OPTIMIZER='Adam', OUTPUT_DIM=1)\n"
          ]
        }
      ]
    },
    {
      "cell_type": "markdown",
      "source": [
        "# IMDB Dataset Class"
      ],
      "metadata": {
        "id": "qhxw72fT28JR"
      }
    },
    {
      "cell_type": "code",
      "source": [
        "class IMDBDataset(Dataset):\n",
        "\n",
        "  def __init__(self, \n",
        "               data):\n",
        "      self.data = data.examples\n",
        "\n",
        "  def __len__(self):\n",
        "      return len(self.data)\n",
        "\n",
        "  def __getitem__(self, \n",
        "                  idx: int):\n",
        "      \"\"\"\n",
        "      Returns\n",
        "      -------\n",
        "      tuple\n",
        "            a tuple of encoded text and encoded label from the \n",
        "            dataset (an instance from a dataset given by idx)\n",
        "      \"\"\"\n",
        "      # Encoding Text\n",
        "      encoded_text = self.encode_text(self.data[idx].text)\n",
        "      # Encoding Label\n",
        "      encoded_label = self.encode_label(self.data[idx].label)\n",
        "      return encoded_text, encoded_label\n",
        "\n",
        "  def encode_text(self, \n",
        "                  text: list):\n",
        "      text_vector = list()\n",
        "      for word in text:\n",
        "          if word in word2idx:\n",
        "              text_vector.append(word2idx[word])\n",
        "          else:\n",
        "              text_vector.append(1)\n",
        "      return text_vector\n",
        "\n",
        "  def encode_label(self, \n",
        "                   label: int):\n",
        "      label = 0 if label == 'pos' else 1\n",
        "      return label"
      ],
      "metadata": {
        "id": "4gnkQBdc2AKj"
      },
      "execution_count": 36,
      "outputs": []
    },
    {
      "cell_type": "markdown",
      "source": [
        "# Datset Object for DataLoader"
      ],
      "metadata": {
        "id": "zdj1Fmrv2mnR"
      }
    },
    {
      "cell_type": "code",
      "source": [
        "train_ds = IMDBDataset(train_data)\n",
        "\n",
        "val_ds = IMDBDataset(valid_data)\n",
        "\n",
        "test_ds = IMDBDataset(test_data)"
      ],
      "metadata": {
        "id": "VRbq-Rqd2kTO"
      },
      "execution_count": 37,
      "outputs": []
    },
    {
      "cell_type": "markdown",
      "source": [
        "# Custom Collate function"
      ],
      "metadata": {
        "id": "vSQLZHQM8m0X"
      }
    },
    {
      "cell_type": "code",
      "source": [
        "def custom_collate_fn(batch):\n",
        "    \"\"\"\n",
        "    Adds padding token '0' at the end of each text vector to make it\n",
        "    of the same length as the maximum length input in the batch.\n",
        "\n",
        "    Returns\n",
        "    -------\n",
        "    tuple\n",
        "        a tuple of padded text tensors and label tensors in a batch\n",
        "    \"\"\"\n",
        "    texts, labels = zip(*batch)\n",
        "    \n",
        "    texts_tensor = [torch.tensor(text, device = device) for text in texts]\n",
        "    labels_tensor = torch.tensor(labels, device = device)\n",
        "    \n",
        "    texts_padded = pad_sequence(texts_tensor, batch_first = True, padding_value = padding_token)\n",
        "    \n",
        "    return texts_padded, labels_tensor"
      ],
      "metadata": {
        "id": "82Rsdstp8mgV"
      },
      "execution_count": 38,
      "outputs": []
    },
    {
      "cell_type": "markdown",
      "source": [
        "# PyTorch Data Loaders"
      ],
      "metadata": {
        "id": "PYe_DC6B86X2"
      }
    },
    {
      "cell_type": "code",
      "source": [
        "train_loader = DataLoader(train_ds, \n",
        "                          batch_size = arguments.BATCH_SIZE, \n",
        "                          shuffle = True, \n",
        "                          collate_fn = custom_collate_fn)\n",
        "\n",
        "val_loader = DataLoader(val_ds, \n",
        "                        batch_size = arguments.BATCH_SIZE, \n",
        "                        shuffle = True, \n",
        "                        collate_fn = custom_collate_fn)\n",
        "\n",
        "test_loader = DataLoader(test_ds, \n",
        "                         batch_size = arguments.BATCH_SIZE, \n",
        "                         shuffle = False, \n",
        "                         collate_fn = custom_collate_fn)"
      ],
      "metadata": {
        "id": "EY-oSGvx85MM"
      },
      "execution_count": 39,
      "outputs": []
    },
    {
      "cell_type": "markdown",
      "source": [
        "# Logistic Regression Model"
      ],
      "metadata": {
        "id": "ajZ1zvWZDu_b"
      }
    },
    {
      "cell_type": "code",
      "source": [
        "class LR(nn.Module):\n",
        "\n",
        "    def __init__(self, \n",
        "                 input_dim, \n",
        "                 embedding_dim, \n",
        "                 output_dim):\n",
        "        super(LR, self).__init__()\n",
        "        # Initialize Embedding Layer\n",
        "        self.embedding = nn.Embedding(input_dim, embedding_dim)\n",
        "        # Initialize Dense layer to predict\n",
        "        self.fc = nn.Linear(embedding_dim, output_dim)\n",
        "\n",
        "    def forward(self, \n",
        "                x):\n",
        "        # Embedding Layer\n",
        "        embedded = self.embedding(x).squeeze().sum(1)\n",
        "        # Fully Connected Layer\n",
        "        output = self.fc(embedded)\n",
        "        return output"
      ],
      "metadata": {
        "id": "G2Q_691xD-5j"
      },
      "execution_count": 40,
      "outputs": []
    },
    {
      "cell_type": "code",
      "source": [
        "model = LR(arguments.INPUT_DIM, \n",
        "           arguments.EMBED_DIM,\n",
        "           arguments.OUTPUT_DIM).to(device)\n",
        "\n",
        "print('Logistic Regression Model: ', model)"
      ],
      "metadata": {
        "colab": {
          "base_uri": "https://localhost:8080/"
        },
        "id": "AIEuo8BxjrUN",
        "outputId": "cf534578-3b51-4f8b-f23e-842a4fc2f319"
      },
      "execution_count": 41,
      "outputs": [
        {
          "output_type": "stream",
          "name": "stdout",
          "text": [
            "Logistic Regression Model:  LR(\n",
            "  (embedding): Embedding(25002, 100)\n",
            "  (fc): Linear(in_features=100, out_features=1, bias=True)\n",
            ")\n"
          ]
        }
      ]
    },
    {
      "cell_type": "markdown",
      "source": [
        "# Total Trainable parameters for Logistic Regression Model"
      ],
      "metadata": {
        "id": "5Zo3540bAVtN"
      }
    },
    {
      "cell_type": "code",
      "source": [
        "def count_parameters(model):\n",
        "    return sum(p.numel() for p in model.parameters() if p.requires_grad)\n",
        "\n",
        "print(f'The model has {count_parameters(model):,} trainable parameters')"
      ],
      "metadata": {
        "colab": {
          "base_uri": "https://localhost:8080/"
        },
        "id": "lSvcy8SP2Ue4",
        "outputId": "1b16bc12-0c8b-4a64-98ce-381ff68ea9f1"
      },
      "execution_count": 42,
      "outputs": [
        {
          "output_type": "stream",
          "name": "stdout",
          "text": [
            "The model has 2,500,301 trainable parameters\n"
          ]
        }
      ]
    },
    {
      "cell_type": "markdown",
      "source": [
        "# Train and Validation Functions for the Model"
      ],
      "metadata": {
        "id": "IxJ3wk_qDgmy"
      }
    },
    {
      "cell_type": "code",
      "source": [
        "def binary_accuracy(preds, y):\n",
        "    \"\"\"\n",
        "    Returns accuracy per batch, i.e. if you get 8/10 right, this returns 0.8, NOT 8\n",
        "    \"\"\"\n",
        "    #round predictions to the closest integer\n",
        "    rounded_preds = torch.round(torch.sigmoid(preds))\n",
        "    correct = (rounded_preds == y).float() #convert into float for division \n",
        "    acc = correct.sum() / len(correct)\n",
        "    return acc\n",
        "\n",
        "# Model Train Function\n",
        "def train(loader, \n",
        "          model, \n",
        "          optimizer, \n",
        "          loss_fn):\n",
        "    model.train()\n",
        "    losses = []\n",
        "    pbar = tqdm(loader, desc = 'Training...', colour = 'red')\n",
        "    for x, y in pbar:\n",
        "        optimizer.zero_grad()\n",
        "        \n",
        "        # Calculate y_pred\n",
        "        y_pred = model(x).flatten()\n",
        "        \n",
        "        loss = loss_fn(y_pred, y.float())\n",
        "        pbar.set_postfix({'Loss': loss.item()})\n",
        "        losses.append(loss.item())\n",
        "\n",
        "        acc = binary_accuracy(y_pred, y)\n",
        "        \n",
        "        # Calculate gradients for w/b\n",
        "        loss.backward()  \n",
        "        # Update weights according to optimizer rules\n",
        "        optimizer.step()          \n",
        "    return sum(losses) / len(losses), acc\n",
        "\n",
        "# Model Evaluate Function\n",
        "def evaluate(loader, \n",
        "             model, \n",
        "             loss_fn):\n",
        "    model.eval()\n",
        "    losses = []\n",
        "    pbar = tqdm(loader, desc = 'Evaluation...', colour = 'green')\n",
        "    for x, y in pbar:\n",
        "\n",
        "        # Calculate y_pred\n",
        "        y_pred = model(x).flatten()\n",
        "        \n",
        "        loss = loss_fn(y_pred, y.float())\n",
        "        pbar.set_postfix({'Loss': loss.item()})\n",
        "        losses.append(loss.item())\n",
        "\n",
        "        acc = binary_accuracy(y_pred, y)\n",
        "              \n",
        "    return sum(losses) / len(losses), acc"
      ],
      "metadata": {
        "id": "KwgIMB4Ijowz"
      },
      "execution_count": 43,
      "outputs": []
    },
    {
      "cell_type": "code",
      "source": [
        "def epoch_time(start_time, end_time):\n",
        "    elapsed_time = end_time - start_time\n",
        "    elapsed_mins = int(elapsed_time / 60)\n",
        "    elapsed_secs = int(elapsed_time - (elapsed_mins * 60))\n",
        "    return elapsed_mins, elapsed_secs"
      ],
      "metadata": {
        "id": "N_hiVcRO-sTI"
      },
      "execution_count": 44,
      "outputs": []
    },
    {
      "cell_type": "markdown",
      "source": [
        "# Model Training and Validation\n",
        "\n"
      ],
      "metadata": {
        "id": "uEX5_34hD83Y"
      }
    },
    {
      "cell_type": "code",
      "source": [
        "# Optimizer\n",
        "if arguments.OPTIMIZER == 'Adam':\n",
        "    optimizer = torch.optim.Adam(model.parameters(), \n",
        "                                 lr = arguments.LEARNING_RATE)\n",
        "\n",
        "# Loss Function\n",
        "if arguments.LOSS_FN == 'BCELoss':\n",
        "    loss_fn = nn.BCEWithLogitsLoss().to(device)\n",
        "\n",
        "# Initialize Best Validation Loss\n",
        "best_valid_loss = float('inf')\n",
        "    \n",
        "# Path to Save Best Model\n",
        "PATH = f'lr-best-model.pt'\n",
        "\n",
        "train_loss_list = []\n",
        "train_acc_list = []\n",
        "val_loss_list = []\n",
        "val_acc_list = []\n",
        "\n",
        "batch_start_time = time.time()\n",
        "\n",
        "for epoch in range(arguments.EPOCHS):\n",
        "\n",
        "    start_time = time.time()\n",
        "    \n",
        "    # Avg Train Loss, Train Accuracy\n",
        "    train_loss, train_acc = train(train_loader, \n",
        "                                  model, \n",
        "                                  optimizer, \n",
        "                                  loss_fn)\n",
        "    train_loss_list.append(train_loss)\n",
        "    train_acc_list.append(train_acc.detach().cpu().numpy())\n",
        "\n",
        "    # Avg Val Loss, Val Accuracy\n",
        "    val_loss, val_acc = evaluate(val_loader, \n",
        "                                 model, \n",
        "                                 loss_fn)\n",
        "    val_loss_list.append(val_loss)\n",
        "    val_acc_list.append(val_acc.detach().cpu().numpy())\n",
        "\n",
        "    end_time = time.time()\n",
        "\n",
        "    epoch_mins, epoch_secs = epoch_time(start_time, end_time)\n",
        "\n",
        "    print(f'\\n\\tEpoch: {epoch+1:02} | Epoch Time: {epoch_mins}m {epoch_secs}s')\n",
        "    print(f'\\tTrain Loss: {train_loss:.3f} | Train Acc: {train_acc*100:.2f}%')\n",
        "    print(f'\\tValidation Loss: {val_loss:.3f} | Validation Acc: {val_acc*100:.2f}%\\n')\n",
        "\n",
        "    if val_loss < best_valid_loss:\n",
        "        best_valid_loss = val_loss\n",
        "        torch.save(model.state_dict(), PATH)\n",
        "\n",
        "batch_end_time = time.time()\n",
        "batch_elapsed_time = batch_end_time - batch_start_time\n",
        "print(f'Training Time for Batch Size: {arguments.BATCH_SIZE} -> {batch_elapsed_time:.2f}s')"
      ],
      "metadata": {
        "colab": {
          "base_uri": "https://localhost:8080/"
        },
        "id": "n6eJQmsmAy0_",
        "outputId": "38b80bc9-c79f-40ca-bb4f-ca561c797885"
      },
      "execution_count": 45,
      "outputs": [
        {
          "output_type": "stream",
          "name": "stderr",
          "text": [
            "Training...: 100%|\u001b[31m██████████\u001b[0m| 1094/1094 [00:07<00:00, 138.45it/s, Loss=10.6]\n",
            "Evaluation...: 100%|\u001b[32m██████████\u001b[0m| 469/469 [00:02<00:00, 173.44it/s, Loss=10.8]\n"
          ]
        },
        {
          "output_type": "stream",
          "name": "stdout",
          "text": [
            "\n",
            "\tEpoch: 01 | Epoch Time: 0m 10s\n",
            "\tTrain Loss: 15.540 | Train Acc: 75.00%\n",
            "\tValidation Loss: 5.958 | Validation Acc: 66.67%\n",
            "\n"
          ]
        },
        {
          "output_type": "stream",
          "name": "stderr",
          "text": [
            "Training...: 100%|\u001b[31m██████████\u001b[0m| 1094/1094 [00:07<00:00, 143.78it/s, Loss=2.77]\n",
            "Evaluation...: 100%|\u001b[32m██████████\u001b[0m| 469/469 [00:02<00:00, 171.73it/s, Loss=6.32]\n"
          ]
        },
        {
          "output_type": "stream",
          "name": "stdout",
          "text": [
            "\n",
            "\tEpoch: 02 | Epoch Time: 0m 10s\n",
            "\tTrain Loss: 9.606 | Train Acc: 75.00%\n",
            "\tValidation Loss: 7.067 | Validation Acc: 91.67%\n",
            "\n"
          ]
        },
        {
          "output_type": "stream",
          "name": "stderr",
          "text": [
            "Training...: 100%|\u001b[31m██████████\u001b[0m| 1094/1094 [00:07<00:00, 143.95it/s, Loss=6.45]\n",
            "Evaluation...: 100%|\u001b[32m██████████\u001b[0m| 469/469 [00:02<00:00, 172.54it/s, Loss=2.76]\n"
          ]
        },
        {
          "output_type": "stream",
          "name": "stdout",
          "text": [
            "\n",
            "\tEpoch: 03 | Epoch Time: 0m 10s\n",
            "\tTrain Loss: 4.444 | Train Acc: 83.33%\n",
            "\tValidation Loss: 5.731 | Validation Acc: 83.33%\n",
            "\n"
          ]
        },
        {
          "output_type": "stream",
          "name": "stderr",
          "text": [
            "Training...: 100%|\u001b[31m██████████\u001b[0m| 1094/1094 [00:07<00:00, 142.90it/s, Loss=9.44e-7]\n",
            "Evaluation...: 100%|\u001b[32m██████████\u001b[0m| 469/469 [00:02<00:00, 167.17it/s, Loss=7.92]\n"
          ]
        },
        {
          "output_type": "stream",
          "name": "stdout",
          "text": [
            "\n",
            "\tEpoch: 04 | Epoch Time: 0m 10s\n",
            "\tTrain Loss: 3.233 | Train Acc: 100.00%\n",
            "\tValidation Loss: 7.092 | Validation Acc: 75.00%\n",
            "\n"
          ]
        },
        {
          "output_type": "stream",
          "name": "stderr",
          "text": [
            "Training...: 100%|\u001b[31m██████████\u001b[0m| 1094/1094 [00:07<00:00, 143.72it/s, Loss=0.000208]\n",
            "Evaluation...: 100%|\u001b[32m██████████\u001b[0m| 469/469 [00:02<00:00, 172.59it/s, Loss=6.9]"
          ]
        },
        {
          "output_type": "stream",
          "name": "stdout",
          "text": [
            "\n",
            "\tEpoch: 05 | Epoch Time: 0m 10s\n",
            "\tTrain Loss: 1.577 | Train Acc: 100.00%\n",
            "\tValidation Loss: 9.067 | Validation Acc: 83.33%\n",
            "\n",
            "Training Time for Batch Size: 16 -> 52.21s\n"
          ]
        },
        {
          "output_type": "stream",
          "name": "stderr",
          "text": [
            "\n"
          ]
        }
      ]
    },
    {
      "cell_type": "markdown",
      "source": [
        "# Line Plot Comparison: \n",
        "1. Training vs Val Loss\n",
        "2. Training vs Val Accuracy\n",
        "\n"
      ],
      "metadata": {
        "id": "N2OxDip6BHeC"
      }
    },
    {
      "cell_type": "code",
      "source": [
        "epochs = np.arange(arguments.EPOCHS) + 1\n",
        "\n",
        "def plot_line(line_A_vals, \n",
        "              line_B_vals, \n",
        "              line_A_label, \n",
        "              line_B_label, \n",
        "              xlabel, \n",
        "              ylabel, \n",
        "              title):\n",
        "    plt.style.use('ggplot')\n",
        "    plt.plot(epochs, line_A_vals, label = line_A_label, color = \"red\", linewidth = '3', )\n",
        "    plt.plot(epochs, line_B_vals, label = line_B_label, color = \"green\", linewidth = '3')\n",
        "    plt.xlabel(xlabel)\n",
        "    plt.xticks(epochs)\n",
        "    plt.ylabel(ylabel)\n",
        "    plt.title(title, color = 'black')\n",
        "    plt.legend(shadow = True)\n",
        "    plt.show()\n",
        "    \n",
        "# Training vs Val Loss Plot\n",
        "plot_line(train_loss_list, \n",
        "          val_loss_list, \n",
        "          'Training Loss', \n",
        "          'Val Loss', \n",
        "          'Epoch', \n",
        "          'Loss', \n",
        "          'Training Loss vs Val Loss')\n",
        "\n",
        "# Training vs Val Acc Plot\n",
        "plot_line(train_acc_list, \n",
        "          val_acc_list, \n",
        "          'Training Acc', \n",
        "          'Val Acc', \n",
        "          'Epoch', \n",
        "          'Accuracy', \n",
        "          'Training Acc vs Val Acc')"
      ],
      "metadata": {
        "colab": {
          "base_uri": "https://localhost:8080/",
          "height": 581
        },
        "id": "qpUykMYVsuOs",
        "outputId": "d3687ab9-09ea-4622-dafb-5053c9c43e46"
      },
      "execution_count": 46,
      "outputs": [
        {
          "output_type": "display_data",
          "data": {
            "text/plain": [
              "<Figure size 432x288 with 1 Axes>"
            ],
            "image/png": "[encoded data removed]"
          },
          "metadata": {}
        },
        {
          "output_type": "display_data",
          "data": {
            "text/plain": [
              "<Figure size 432x288 with 1 Axes>"
            ],
            "image/png": "[encoded data removed]"
          },
          "metadata": {}
        }
      ]
    },
    {
      "cell_type": "markdown",
      "source": [
        "## Load the saved model"
      ],
      "metadata": {
        "id": "fY2M8Sfh5k9u"
      }
    },
    {
      "cell_type": "code",
      "source": [
        "saved_model = LR(arguments.INPUT_DIM, \n",
        "                 arguments.EMBED_DIM,\n",
        "                 arguments.OUTPUT_DIM).to(device)\n",
        "\n",
        "saved_model.load_state_dict(torch.load(PATH))\n",
        "saved_model.eval()"
      ],
      "metadata": {
        "colab": {
          "base_uri": "https://localhost:8080/"
        },
        "id": "6PkRH2CF5kIp",
        "outputId": "87cb3689-7003-49cb-d494-523224d85992"
      },
      "execution_count": 47,
      "outputs": [
        {
          "output_type": "execute_result",
          "data": {
            "text/plain": [
              "LR(\n",
              "  (embedding): Embedding(25002, 100)\n",
              "  (fc): Linear(in_features=100, out_features=1, bias=True)\n",
              ")"
            ]
          },
          "metadata": {},
          "execution_count": 47
        }
      ]
    },
    {
      "cell_type": "markdown",
      "source": [
        "## Test Loss and Accuracy"
      ],
      "metadata": {
        "id": "oBZ6wNnJ7L_h"
      }
    },
    {
      "cell_type": "code",
      "source": [
        "# Avg Test Loss, Test Accuracy\n",
        "test_loss, test_acc = evaluate(test_loader, \n",
        "                               saved_model, \n",
        "                               loss_fn)\n",
        "print(f'\\n\\tTest Loss: {test_loss:.3f} | Test Acc: {test_acc*100:.2f}%')"
      ],
      "metadata": {
        "colab": {
          "base_uri": "https://localhost:8080/"
        },
        "id": "8pIG1usf509F",
        "outputId": "f71dfbcb-c8f2-49ac-fa42-f361bc972f11"
      },
      "execution_count": 48,
      "outputs": [
        {
          "output_type": "stream",
          "name": "stderr",
          "text": [
            "Evaluation...: 100%|\u001b[32m██████████\u001b[0m| 1563/1563 [00:09<00:00, 169.46it/s, Loss=0]"
          ]
        },
        {
          "output_type": "stream",
          "name": "stdout",
          "text": [
            "\n",
            "\tTest Loss: 5.579 | Test Acc: 100.00%\n"
          ]
        },
        {
          "output_type": "stream",
          "name": "stderr",
          "text": [
            "\n"
          ]
        }
      ]
    },
    {
      "cell_type": "markdown",
      "source": [
        "# Deliverable Plots"
      ],
      "metadata": {
        "id": "Dk0gd1tcdlid"
      }
    },
    {
      "cell_type": "code",
      "source": [
        "batch_size = [16, 32, 64, 128]\n",
        "training_time = [68.71, 45.78, 33.09, 27.01]\n",
        "val_set_acc = [0.833, 0.75, 0.75, 0.69]\n",
        "learning_rate_vals = [0.1, 0.01, 0.001, 0.0001]\n",
        "val_set_acc_lr = [0.75, 0.833, 0.75, 0.667]\n",
        "\n",
        "def plot_comp_line(x_vals, \n",
        "              y_vals,\n",
        "              line_label,\n",
        "              xlabel, \n",
        "              ylabel, \n",
        "              title, \n",
        "              line_color):\n",
        "    plt.style.use('ggplot')\n",
        "    plt.plot(x_vals, y_vals, label = line_label, color = line_color, linewidth = '3')\n",
        "    plt.xlabel(xlabel)\n",
        "    plt.xticks(x_vals)\n",
        "    plt.ylabel(ylabel)\n",
        "    plt.title(title, color = 'black')\n",
        "    plt.legend(shadow = True)\n",
        "    plt.show()\n",
        "\n",
        "# Batch Size vs Training Time Plot\n",
        "plot_comp_line(batch_size, \n",
        "               training_time, \n",
        "               'Batch Size vs Training Time',  \n",
        "               'Batch Size', \n",
        "               'Training Time',\n",
        "               'Batch Size vs Training Time', \n",
        "               'blue')\n",
        "\n",
        "# Batch Size vs Val Acc Plot\n",
        "plot_comp_line(batch_size, val_set_acc, \n",
        "               'Batch Size vs Validation Accuracy', \n",
        "               'Batch Size', \n",
        "               'Validation Acc',\n",
        "               'Batch Size vs Validation Accuracy', \n",
        "               'purple')\n",
        "\n",
        "# Learning Rate vs Val Acc Plot\n",
        "plot_comp_line(learning_rate_vals, val_set_acc_lr, \n",
        "               'Learning Rate vs Validation Accuracy', \n",
        "               'Learning Rate', \n",
        "               'Validation Acc',\n",
        "               'Learning Rate vs Validation Accuracy', \n",
        "               'brown')"
      ],
      "metadata": {
        "id": "8lNhPnDCdhxx",
        "colab": {
          "base_uri": "https://localhost:8080/",
          "height": 863
        },
        "outputId": "b2280468-37a0-4bca-881b-8b4bb7b3d1f4"
      },
      "execution_count": 49,
      "outputs": [
        {
          "output_type": "display_data",
          "data": {
            "text/plain": [
              "<Figure size 432x288 with 1 Axes>"
            ],
            "image/png": "[encoded data removed]"
          },
          "metadata": {}
        },
        {
          "output_type": "display_data",
          "data": {
            "text/plain": [
              "<Figure size 432x288 with 1 Axes>"
            ],
            "image/png": "[encoded data removed]"
          },
          "metadata": {}
        },
        {
          "output_type": "display_data",
          "data": {
            "text/plain": [
              "<Figure size 432x288 with 1 Axes>"
            ],
            "image/png": "[encoded data removed]"
          },
          "metadata": {}
        }
      ]
    },
    {
      "cell_type": "markdown",
      "source": [
        "# Test of Model Correctness"
      ],
      "metadata": {
        "id": "5xNzgVBJNRHY"
      }
    },
    {
      "cell_type": "code",
      "source": [
        "max_n_test_instances = 5\n",
        "i = 1\n",
        "for x, _ in val_loader:\n",
        "  score = saved_model(x).flatten()\n",
        "  print(score)\n",
        "  if i >= max_n_test_instances:\n",
        "    break\n",
        "  else:\n",
        "    i += 1"
      ],
      "metadata": {
        "colab": {
          "base_uri": "https://localhost:8080/"
        },
        "id": "VpzVtgffMJzf",
        "outputId": "6da2f4d5-a96e-4ddb-99ff-aedc3dbcf2a5"
      },
      "execution_count": 50,
      "outputs": [
        {
          "output_type": "stream",
          "name": "stdout",
          "text": [
            "tensor([ -95.7780,   51.2507,  -38.6512,   -5.9785,  -26.1995,   66.2763,\n",
            "         315.7995,  -66.6742,  -54.5103,   50.3042, -324.0202,  -10.4181,\n",
            "         -42.0732, -128.2762,  -53.6722,   96.7395], device='cuda:0',\n",
            "       grad_fn=<ViewBackward>)\n",
            "tensor([ 136.6121,   85.0782, -164.7282,  -75.1621,  181.7853,   -9.4037,\n",
            "         -49.0975,  -28.7112,  210.2440,   92.8104, -154.0710,   83.9620,\n",
            "         155.3648,   13.3648,    4.8885,    8.2741], device='cuda:0',\n",
            "       grad_fn=<ViewBackward>)\n",
            "tensor([ 323.8307, -181.7895,  -75.2958,  -44.4312,   53.9003,  102.0478,\n",
            "        -107.6196,  154.1620,  -11.5863, -115.5435,  -88.1613,   -4.7317,\n",
            "        -151.7569,   33.7782,  274.3875,  -76.3860], device='cuda:0',\n",
            "       grad_fn=<ViewBackward>)\n",
            "tensor([  51.5752,  -79.1748, -127.0843,  -69.6498,   30.7420,   39.3672,\n",
            "          20.5512,  -81.6140,  -13.3014,  -44.3630,   89.2415,  154.7263,\n",
            "        -133.7375,  -84.9439, -121.0648, -124.5296], device='cuda:0',\n",
            "       grad_fn=<ViewBackward>)\n",
            "tensor([  -5.5048,   15.2518, -101.3250,   70.1261,  -28.7345,  371.1233,\n",
            "        -158.3643,  -18.7016,  -41.3533,   34.7558,  -55.4957,  100.1023,\n",
            "          20.2273, -178.1254,  -43.0438,  110.2762], device='cuda:0',\n",
            "       grad_fn=<ViewBackward>)\n"
          ]
        }
      ]
    }
  ],
  "metadata": {
    "kernelspec": {
      "display_name": "pvenv",
      "language": "python",
      "name": "python3"
    },
    "language_info": {
      "codemirror_mode": {
        "name": "ipython",
        "version": 3
      },
      "file_extension": ".py",
      "mimetype": "text/x-python",
      "name": "python",
      "nbconvert_exporter": "python",
      "pygments_lexer": "ipython3",
      "version": "3.10.8"
    },
    "orig_nbformat": 4,
    "vscode": {
      "interpreter": {
        "hash": "5b37beb76676c8b0643f5764b5c5ae0ddf876ecbab29b433e279cae2d82963c7"
      }
    },
    "colab": {
      "provenance": []
    },
    "gpuClass": "standard",
    "accelerator": "GPU"
  },
  "nbformat": 4,
  "nbformat_minor": 0
}