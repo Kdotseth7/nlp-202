{
  "cells": [
    {
      "cell_type": "markdown",
      "metadata": {
        "id": "AR3wtZo9vfKS"
      },
      "source": [
        "# Install Dependencies"
      ]
    },
    {
      "cell_type": "code",
      "execution_count": 26,
      "metadata": {
        "id": "yuxqmLnAvcbG"
      },
      "outputs": [],
      "source": [
        "!pip install torch==1.9.0 torchtext==0.10.0"
      ]
    },
    {
      "cell_type": "markdown",
      "metadata": {
        "id": "lt-beZdsvQtS"
      },
      "source": [
        "# Import Necessary Libraries"
      ]
    },
    {
      "cell_type": "code",
      "execution_count": 27,
      "metadata": {
        "id": "-FZ7C3f-UGx4"
      },
      "outputs": [],
      "source": [
        "import torch\n",
        "import torch.nn as nn\n",
        "\n",
        "import random\n",
        "import argparse\n",
        "\n",
        "import numpy as np\n",
        "\n",
        "import matplotlib.pyplot as plt\n",
        "%matplotlib inline\n",
        "\n",
        "from torchtext.legacy import data\n",
        "from torchtext.legacy import datasets\n",
        "\n",
        "from torch.utils.data import Dataset, DataLoader\n",
        "from torch.nn.utils.rnn import pad_sequence\n",
        "\n",
        "from sklearn.model_selection import train_test_split\n",
        "from tqdm import tqdm\n",
        "\n",
        "import time\n",
        "from datetime import datetime"
      ]
    },
    {
      "cell_type": "markdown",
      "metadata": {
        "id": "MosGAaTuxk9V"
      },
      "source": [
        "# Use GPU\n",
        "Set Device = CUDA if available"
      ]
    },
    {
      "cell_type": "code",
      "execution_count": 28,
      "metadata": {
        "colab": {
          "base_uri": "https://localhost:8080/"
        },
        "id": "LhceMWPHxaKn",
        "outputId": "f2c2ff96-c97b-4030-a512-b116d5a13f55"
      },
      "outputs": [
        {
          "output_type": "stream",
          "name": "stdout",
          "text": [
            "cuda\n"
          ]
        }
      ],
      "source": [
        "device = torch.device('cuda' if torch.cuda.is_available() else 'cpu')\n",
        "print(device)"
      ]
    },
    {
      "cell_type": "markdown",
      "metadata": {
        "id": "pTH9yhaY-B1i"
      },
      "source": [
        "# Hyper-Parameters"
      ]
    },
    {
      "cell_type": "code",
      "execution_count": 29,
      "metadata": {
        "id": "3ECvGdEx98Gf"
      },
      "outputs": [],
      "source": [
        "argument_parser = argparse.ArgumentParser()\n",
        "argument_parser.add_argument(\"--epochs\", dest = \"EPOCHS\", type = int, default = 5)\n",
        "argument_parser.add_argument(\"--batch_size\", dest = \"BATCH_SIZE\", type = int, default = 64)\n",
        "argument_parser.add_argument(\"--embed_dim\", dest = \"EMBED_DIM\", type = int, default = 100)\n",
        "argument_parser.add_argument(\"--hidden_dim\", dest = \"HIDDEN_DIM\", type = int, default = 256)\n",
        "argument_parser.add_argument(\"--num_layers\", dest = \"NUM_LAYERS\", type = int, default = 2)\n",
        "argument_parser.add_argument(\"--bidirectional\", dest = \"BIDIRECTIONAL\", type = bool, default = True)\n",
        "argument_parser.add_argument(\"--optimizer\", dest = \"OPTIMIZER\", type = str, default = 'Adam')\n",
        "argument_parser.add_argument(\"--loss_fn\", dest = \"LOSS_FN\", type = str, default = 'BCELoss')\n",
        "argument_parser.add_argument(\"--learning_rate\", dest = \"LEARNING_RATE\", type = float, default =  1e-2)\n",
        "argument_parser.add_argument(\"--dropout\", dest = \"DROPOUT\", type = float, default =  0.2)\n",
        "arguments, unknown = argument_parser.parse_known_args()"
      ]
    },
    {
      "cell_type": "markdown",
      "metadata": {
        "id": "Jj3T-frfwB9t"
      },
      "source": [
        "# Set SEED value for reproducible results\n",
        "# and\n",
        "# Load Dataset"
      ]
    },
    {
      "cell_type": "code",
      "execution_count": 30,
      "metadata": {
        "id": "YkxM4l7Cvm3G"
      },
      "outputs": [],
      "source": [
        "SEED = 1234\n",
        "\n",
        "torch.manual_seed(SEED)\n",
        "torch.backends.cudnn.deterministic = True\n",
        "\n",
        "TEXT = data.Field(tokenize = 'spacy',\n",
        "                  tokenizer_language = 'en_core_web_sm')\n",
        "LABEL = data.LabelField(dtype = torch.float)"
      ]
    },
    {
      "cell_type": "markdown",
      "metadata": {
        "id": "N03biksPb-zy"
      },
      "source": [
        "# Create Dataset Splits and Build Vocab"
      ]
    },
    {
      "cell_type": "code",
      "execution_count": 31,
      "metadata": {
        "colab": {
          "base_uri": "https://localhost:8080/"
        },
        "id": "D3SulDgksO_G",
        "outputId": "c1f7da15-3e7b-46b9-e3b7-45fb2849334c"
      },
      "outputs": [
        {
          "output_type": "stream",
          "name": "stdout",
          "text": [
            "Number of training examples: 25000\n",
            "Number of testing examples: 25000\n"
          ]
        }
      ],
      "source": [
        "train_data, test_data = datasets.IMDB.splits(TEXT, LABEL)\n",
        "print(f'Number of training examples: {len(train_data)}')\n",
        "print(f'Number of testing examples: {len(test_data)}')"
      ]
    },
    {
      "cell_type": "code",
      "execution_count": 32,
      "metadata": {
        "colab": {
          "base_uri": "https://localhost:8080/"
        },
        "id": "Mnb-rchBtY9Y",
        "outputId": "00f24a6c-e988-437a-8b79-981440dd4739"
      },
      "outputs": [
        {
          "output_type": "stream",
          "name": "stdout",
          "text": [
            "Number of training examples: 17500\n",
            "Number of validation examples: 7500\n",
            "Number of testing examples: 25000\n"
          ]
        }
      ],
      "source": [
        "train_data, valid_data = train_data.split(random_state = random.seed(SEED))\n",
        "print(f'Number of training examples: {len(train_data)}')\n",
        "print(f'Number of validation examples: {len(valid_data)}')\n",
        "print(f'Number of testing examples: {len(test_data)}')"
      ]
    },
    {
      "cell_type": "code",
      "execution_count": 33,
      "metadata": {
        "colab": {
          "base_uri": "https://localhost:8080/"
        },
        "id": "uLjGElXQvE1A",
        "outputId": "8016cfa0-c7ba-4dda-b93e-f3b061914875"
      },
      "outputs": [
        {
          "output_type": "stream",
          "name": "stdout",
          "text": [
            "Unique tokens in TEXT vocabulary: 25002\n",
            "Unique tokens in LABEL vocabulary: 2\n",
            "Most common 20 tokens in TEXT vocabulary: [('the', 203592), (',', 193330), ('.', 166323), ('a', 109962), ('and', 109787), ('of', 101268), ('to', 94119), ('is', 76722), ('in', 61228), ('I', 54178), ('it', 53755), ('that', 49541), ('\"', 44374), (\"'s\", 43358), ('this', 42543), ('-', 37707), ('/><br', 35637), ('was', 35043), ('as', 30469), ('with', 29978)]\n"
          ]
        }
      ],
      "source": [
        "MAX_VOCAB_SIZE = 25_000\n",
        "\n",
        "TEXT.build_vocab(train_data, max_size = MAX_VOCAB_SIZE)\n",
        "LABEL.build_vocab(train_data)\n",
        "print(f\"Unique tokens in TEXT vocabulary: {len(TEXT.vocab)}\")\n",
        "print(f\"Unique tokens in LABEL vocabulary: {len(LABEL.vocab)}\")\n",
        "print(f\"Most common 20 tokens in TEXT vocabulary: {TEXT.vocab.freqs.most_common(20)}\")"
      ]
    },
    {
      "cell_type": "markdown",
      "metadata": {
        "id": "N-4fcNkY2GyS"
      },
      "source": [
        "# Dictionary for words (Vocabulary)\n"
      ]
    },
    {
      "cell_type": "code",
      "execution_count": 34,
      "metadata": {
        "id": "jB4s88LI1CiN",
        "colab": {
          "base_uri": "https://localhost:8080/"
        },
        "outputId": "409bae45-ac1a-4d1d-c68d-fd308483cec4"
      },
      "outputs": [
        {
          "output_type": "stream",
          "name": "stdout",
          "text": [
            "UNK Token: 0\n",
            "PAD Token: 1\n"
          ]
        }
      ],
      "source": [
        "word2idx = TEXT.vocab.stoi\n",
        "\n",
        "idx2word = { idx: word for word, idx in word2idx.items() }\n",
        "\n",
        "unk_token = word2idx['<unk>']\n",
        "padding_token = word2idx['<pad>']\n",
        "print(f'UNK Token: {unk_token}')\n",
        "print(f'PAD Token: {padding_token}')"
      ]
    },
    {
      "cell_type": "markdown",
      "metadata": {
        "id": "w3Tcodq6x35S"
      },
      "source": [
        "# Add Input Dim and Output Dim to arguments"
      ]
    },
    {
      "cell_type": "code",
      "execution_count": 35,
      "metadata": {
        "colab": {
          "base_uri": "https://localhost:8080/"
        },
        "id": "r-ql7ubIuZvn",
        "outputId": "2d64406b-490e-425e-b709-43856563f462"
      },
      "outputs": [
        {
          "output_type": "stream",
          "name": "stdout",
          "text": [
            "Namespace(BATCH_SIZE=64, BIDIRECTIONAL=True, DROPOUT=0.2, EMBED_DIM=100, EPOCHS=5, HIDDEN_DIM=256, INPUT_DIM=25002, LEARNING_RATE=0.01, LOSS_FN='BCELoss', NUM_LAYERS=2, OPTIMIZER='Adam', OUTPUT_DIM=1)\n"
          ]
        }
      ],
      "source": [
        "argument_parser.add_argument(\"--input_dim\", dest = \"INPUT_DIM\", type = int, default = len(word2idx))\n",
        "argument_parser.add_argument(\"--output_dim\", dest = \"OUTPUT_DIM\", type = int, default = 1)\n",
        "arguments, unknown = argument_parser.parse_known_args()\n",
        "print(arguments)"
      ]
    },
    {
      "cell_type": "markdown",
      "metadata": {
        "id": "qhxw72fT28JR"
      },
      "source": [
        "# IMDB Dataset Class"
      ]
    },
    {
      "cell_type": "code",
      "execution_count": 36,
      "metadata": {
        "id": "4gnkQBdc2AKj"
      },
      "outputs": [],
      "source": [
        "class IMDBDataset(Dataset):\n",
        "\n",
        "  def __init__(self, \n",
        "               data):\n",
        "      self.data = data.examples\n",
        "\n",
        "  def __len__(self):\n",
        "      return len(self.data)\n",
        "\n",
        "  def __getitem__(self, \n",
        "                  idx: int):\n",
        "      \"\"\"\n",
        "      Returns\n",
        "      -------\n",
        "      tuple\n",
        "            a tuple of encoded text and encoded label from the \n",
        "            dataset (an instance from a dataset given by idx)\n",
        "      \"\"\"\n",
        "      # Encoding Text\n",
        "      encoded_text = self.encode_text(self.data[idx].text)\n",
        "      # Encoding Label\n",
        "      encoded_label = self.encode_label(self.data[idx].label)\n",
        "      return encoded_text, encoded_label\n",
        "\n",
        "  def encode_text(self, \n",
        "                  text: list):\n",
        "      text_vector = list()\n",
        "      for word in text:\n",
        "          if word in word2idx:\n",
        "              text_vector.append(word2idx[word])\n",
        "          else:\n",
        "              text_vector.append(1)\n",
        "      return text_vector\n",
        "\n",
        "  def encode_label(self, \n",
        "                   label: int):\n",
        "      label = 0 if label == 'pos' else 1\n",
        "      return label"
      ]
    },
    {
      "cell_type": "markdown",
      "metadata": {
        "id": "zdj1Fmrv2mnR"
      },
      "source": [
        "# Datset Object for DataLoader"
      ]
    },
    {
      "cell_type": "code",
      "execution_count": 37,
      "metadata": {
        "id": "VRbq-Rqd2kTO"
      },
      "outputs": [],
      "source": [
        "train_ds = IMDBDataset(train_data)\n",
        "\n",
        "val_ds = IMDBDataset(valid_data)\n",
        "\n",
        "test_ds = IMDBDataset(test_data)"
      ]
    },
    {
      "cell_type": "markdown",
      "metadata": {
        "id": "vSQLZHQM8m0X"
      },
      "source": [
        "# Custom Collate function"
      ]
    },
    {
      "cell_type": "code",
      "execution_count": 38,
      "metadata": {
        "id": "82Rsdstp8mgV"
      },
      "outputs": [],
      "source": [
        "def custom_collate_fn(batch):\n",
        "    \"\"\"\n",
        "    Adds padding token '0' at the end of each text vector to make it\n",
        "    of the same length as the maximum length input in the batch.\n",
        "\n",
        "    Returns\n",
        "    -------\n",
        "    tuple\n",
        "        a tuple of padded text tensors, label tensors and text lengths tensor in a batch\n",
        "    \"\"\"\n",
        "    texts, labels = zip(*batch)\n",
        "    \n",
        "    texts_tensor = [torch.tensor(text, device = device) for text in texts]\n",
        "    labels_tensor = torch.tensor(labels, device = device)\n",
        "\n",
        "    lengths = [len(text) for text in texts]\n",
        "    lengths = torch.tensor(lengths, device = 'cpu') # Lengths need to be on CPU\n",
        "    \n",
        "    texts_padded = pad_sequence(texts_tensor, batch_first = False, padding_value = padding_token)\n",
        "    \n",
        "    return texts_padded, labels_tensor, lengths"
      ]
    },
    {
      "cell_type": "markdown",
      "metadata": {
        "id": "PYe_DC6B86X2"
      },
      "source": [
        "# PyTorch Data Loaders"
      ]
    },
    {
      "cell_type": "code",
      "execution_count": 39,
      "metadata": {
        "id": "EY-oSGvx85MM"
      },
      "outputs": [],
      "source": [
        "train_loader = DataLoader(train_ds, \n",
        "                          batch_size = arguments.BATCH_SIZE, \n",
        "                          shuffle = True, \n",
        "                          collate_fn = custom_collate_fn)\n",
        "\n",
        "val_loader = DataLoader(val_ds, \n",
        "                        batch_size = arguments.BATCH_SIZE, \n",
        "                        shuffle = True, \n",
        "                        collate_fn = custom_collate_fn)\n",
        "\n",
        "test_loader = DataLoader(test_ds, \n",
        "                         batch_size = arguments.BATCH_SIZE, \n",
        "                         shuffle = False, \n",
        "                         collate_fn = custom_collate_fn)"
      ]
    },
    {
      "cell_type": "markdown",
      "metadata": {
        "id": "ajZ1zvWZDu_b"
      },
      "source": [
        "# LSTM Model"
      ]
    },
    {
      "cell_type": "code",
      "execution_count": 40,
      "metadata": {
        "id": "G2Q_691xD-5j"
      },
      "outputs": [],
      "source": [
        "class LSTM(nn.Module):\n",
        "\n",
        "    def __init__(self, \n",
        "                 input_dim, \n",
        "                 embedding_dim, \n",
        "                 hidden_dim, \n",
        "                 output_dim, \n",
        "                 n_layers, \n",
        "                 bidirectional, \n",
        "                 dropout):\n",
        "        super(LSTM, self).__init__()\n",
        "        # Initialize Embedding Layer\n",
        "        self.embedding = nn.Embedding(input_dim, embedding_dim)\n",
        "        # Initialzie LSTM layer to process the vector sequences \n",
        "        self.lstm = nn.LSTM(embedding_dim, \n",
        "                            hidden_dim,\n",
        "                            num_layers = n_layers,\n",
        "                            bidirectional = bidirectional,\n",
        "                            dropout = dropout,\n",
        "                            batch_first = False)\n",
        "        num_directions = 2 if bidirectional else 1\n",
        "        # Initialize Dense layer to predict\n",
        "        self.fc = nn.Linear(hidden_dim * num_directions, output_dim)\n",
        "        # Initialize dropout to improve with regularization\n",
        "        self.dropout = nn.Dropout(dropout)\n",
        "\n",
        "    def forward(self, \n",
        "                x, \n",
        "                x_lengths):\n",
        "        # Embedding Layer\n",
        "        embedded = self.embedding(x)\n",
        "        # Dropout Layer before LSTM Layer\n",
        "        embedded = self.dropout(embedded)\n",
        "        # Packed Sequence\n",
        "        packed_embedded = nn.utils.rnn.pack_padded_sequence(embedded, \n",
        "                                                            x_lengths, \n",
        "                                                            batch_first = False, \n",
        "                                                            enforce_sorted = False)\n",
        "        # LSTM Layer\n",
        "        packed_output, (hidden, cell) = self.lstm(packed_embedded)\n",
        "        # Unpack sequence\n",
        "        output, output_lengths = nn.utils.rnn.pad_packed_sequence(packed_output, \n",
        "                                                                  batch_first = False)\n",
        "        # Concat the final forward (hidden[-2,:,:]) and backward (hidden[-1,:,:]) hidden layers and Apply Dropout\n",
        "        hidden = self.dropout(torch.cat((hidden[-2,:,:], hidden[-1,:,:]), dim = 1))\n",
        "        # Fully Connected Layer\n",
        "        output = self.fc(hidden)\n",
        "        return output"
      ]
    },
    {
      "cell_type": "code",
      "execution_count": 41,
      "metadata": {
        "colab": {
          "base_uri": "https://localhost:8080/"
        },
        "id": "AIEuo8BxjrUN",
        "outputId": "413754a7-1255-4017-c8d2-e86d74c895c1"
      },
      "outputs": [
        {
          "output_type": "stream",
          "name": "stdout",
          "text": [
            "LSTM Model:  LSTM(\n",
            "  (embedding): Embedding(25002, 100)\n",
            "  (lstm): LSTM(100, 256, num_layers=2, dropout=0.2, bidirectional=True)\n",
            "  (fc): Linear(in_features=512, out_features=1, bias=True)\n",
            "  (dropout): Dropout(p=0.2, inplace=False)\n",
            ")\n"
          ]
        }
      ],
      "source": [
        "model = LSTM(arguments.INPUT_DIM, \n",
        "             arguments.EMBED_DIM, \n",
        "             arguments.HIDDEN_DIM, \n",
        "             arguments.OUTPUT_DIM, \n",
        "             arguments.NUM_LAYERS, \n",
        "             arguments.BIDIRECTIONAL, \n",
        "             arguments.DROPOUT).to(device)\n",
        "\n",
        "print('LSTM Model: ', model)"
      ]
    },
    {
      "cell_type": "markdown",
      "metadata": {
        "id": "LWM47UEJAfaa"
      },
      "source": [
        "# Total Trainable parameters for LSTM Model"
      ]
    },
    {
      "cell_type": "code",
      "execution_count": 42,
      "metadata": {
        "colab": {
          "base_uri": "https://localhost:8080/"
        },
        "id": "lSvcy8SP2Ue4",
        "outputId": "79146f45-8e58-4f01-cb4a-7821dedcbcea"
      },
      "outputs": [
        {
          "output_type": "stream",
          "name": "stdout",
          "text": [
            "The model has 4,810,857 trainable parameters\n"
          ]
        }
      ],
      "source": [
        "def count_parameters(model):\n",
        "    return sum(p.numel() for p in model.parameters() if p.requires_grad)\n",
        "\n",
        "print(f'The model has {count_parameters(model):,} trainable parameters')"
      ]
    },
    {
      "cell_type": "markdown",
      "metadata": {
        "id": "4l10esx9EJTD"
      },
      "source": [
        "# Train and Validation Functions for the Model"
      ]
    },
    {
      "cell_type": "code",
      "execution_count": 43,
      "metadata": {
        "id": "KwgIMB4Ijowz"
      },
      "outputs": [],
      "source": [
        "def binary_accuracy(preds, y):\n",
        "    \"\"\"\n",
        "    Returns accuracy per batch, i.e. if you get 8/10 right, this returns 0.8, NOT 8\n",
        "    \"\"\"\n",
        "    #round predictions to the closest integer\n",
        "    rounded_preds = torch.round(torch.sigmoid(preds))\n",
        "    correct = (rounded_preds == y).float() #convert into float for division \n",
        "    acc = correct.sum() / len(correct)\n",
        "    return acc\n",
        "\n",
        "# Model Train Function\n",
        "def train(loader, \n",
        "          model, \n",
        "          optimizer, \n",
        "          loss_fn):\n",
        "    model.train()\n",
        "    losses = []\n",
        "    pbar = tqdm(loader, desc = 'Training...', colour = 'red')\n",
        "    for x, y, x_lengths in pbar:\n",
        "        optimizer.zero_grad()\n",
        "        \n",
        "        # Calculate y_pred\n",
        "        y_pred = model(x, x_lengths).squeeze(1)\n",
        "        \n",
        "        loss = loss_fn(y_pred, y.float())\n",
        "        pbar.set_postfix({'Loss': loss.item()})\n",
        "        losses.append(loss.item())\n",
        "\n",
        "        acc = binary_accuracy(y_pred, y)\n",
        "        \n",
        "        # Calculate gradients for w/b\n",
        "        loss.backward()  \n",
        "        # Update weights according to optimizer rules\n",
        "        optimizer.step()          \n",
        "    return sum(losses) / len(losses), acc\n",
        "\n",
        "# Model Evaluate Function\n",
        "def evaluate(loader, \n",
        "             model, \n",
        "             loss_fn):\n",
        "    model.eval()\n",
        "    losses = []\n",
        "    pbar = tqdm(loader, desc = 'Evaluation...', colour = 'green')\n",
        "    for x, y, x_lengths in pbar:\n",
        "\n",
        "        # Calculate y_pred\n",
        "        y_pred = model(x, x_lengths).squeeze(1)\n",
        "        \n",
        "        loss = loss_fn(y_pred, y.float())\n",
        "        pbar.set_postfix({'Loss': loss.item()})\n",
        "        losses.append(loss.item())\n",
        "\n",
        "        acc = binary_accuracy(y_pred, y)\n",
        "              \n",
        "    return sum(losses) / len(losses), acc"
      ]
    },
    {
      "cell_type": "code",
      "execution_count": 44,
      "metadata": {
        "id": "N_hiVcRO-sTI"
      },
      "outputs": [],
      "source": [
        "def epoch_time(start_time, end_time):\n",
        "    elapsed_time = end_time - start_time\n",
        "    elapsed_mins = int(elapsed_time / 60)\n",
        "    elapsed_secs = int(elapsed_time - (elapsed_mins * 60))\n",
        "    return elapsed_mins, elapsed_secs"
      ]
    },
    {
      "cell_type": "markdown",
      "metadata": {
        "id": "sEQuEEGfEE8o"
      },
      "source": [
        "# Model Training and Validation"
      ]
    },
    {
      "cell_type": "code",
      "execution_count": 45,
      "metadata": {
        "colab": {
          "base_uri": "https://localhost:8080/"
        },
        "id": "n6eJQmsmAy0_",
        "outputId": "426964e4-2ac8-463e-eb4c-7771298a26ab"
      },
      "outputs": [
        {
          "output_type": "stream",
          "name": "stderr",
          "text": [
            "Training...: 100%|\u001b[31m██████████\u001b[0m| 274/274 [01:05<00:00,  4.16it/s, Loss=0.715]\n",
            "Evaluation...: 100%|\u001b[32m██████████\u001b[0m| 118/118 [00:09<00:00, 12.17it/s, Loss=0.758]\n"
          ]
        },
        {
          "output_type": "stream",
          "name": "stdout",
          "text": [
            "\n",
            "\tEpoch: 01 | Epoch Time: 1m 15s\n",
            "\tTrain Loss: 0.691 | Train Acc: 60.71%\n",
            "\tValidation Loss: 0.671 | Validation Acc: 41.67%\n",
            "\n"
          ]
        },
        {
          "output_type": "stream",
          "name": "stderr",
          "text": [
            "Training...: 100%|\u001b[31m██████████\u001b[0m| 274/274 [01:08<00:00,  4.03it/s, Loss=0.527]\n",
            "Evaluation...: 100%|\u001b[32m██████████\u001b[0m| 118/118 [00:09<00:00, 12.08it/s, Loss=0.587]\n"
          ]
        },
        {
          "output_type": "stream",
          "name": "stdout",
          "text": [
            "\n",
            "\tEpoch: 02 | Epoch Time: 1m 17s\n",
            "\tTrain Loss: 0.599 | Train Acc: 71.43%\n",
            "\tValidation Loss: 0.576 | Validation Acc: 66.67%\n",
            "\n"
          ]
        },
        {
          "output_type": "stream",
          "name": "stderr",
          "text": [
            "Training...: 100%|\u001b[31m██████████\u001b[0m| 274/274 [01:06<00:00,  4.13it/s, Loss=0.438]\n",
            "Evaluation...: 100%|\u001b[32m██████████\u001b[0m| 118/118 [00:09<00:00, 12.00it/s, Loss=0.942]\n"
          ]
        },
        {
          "output_type": "stream",
          "name": "stdout",
          "text": [
            "\n",
            "\tEpoch: 03 | Epoch Time: 1m 16s\n",
            "\tTrain Loss: 0.417 | Train Acc: 85.71%\n",
            "\tValidation Loss: 0.406 | Validation Acc: 66.67%\n",
            "\n"
          ]
        },
        {
          "output_type": "stream",
          "name": "stderr",
          "text": [
            "Training...: 100%|\u001b[31m██████████\u001b[0m| 274/274 [01:06<00:00,  4.13it/s, Loss=0.192]\n",
            "Evaluation...: 100%|\u001b[32m██████████\u001b[0m| 118/118 [00:09<00:00, 11.96it/s, Loss=0.461]\n"
          ]
        },
        {
          "output_type": "stream",
          "name": "stdout",
          "text": [
            "\n",
            "\tEpoch: 04 | Epoch Time: 1m 16s\n",
            "\tTrain Loss: 0.305 | Train Acc: 92.86%\n",
            "\tValidation Loss: 0.382 | Validation Acc: 83.33%\n",
            "\n"
          ]
        },
        {
          "output_type": "stream",
          "name": "stderr",
          "text": [
            "Training...: 100%|\u001b[31m██████████\u001b[0m| 274/274 [01:08<00:00,  4.00it/s, Loss=0.177]\n",
            "Evaluation...: 100%|\u001b[32m██████████\u001b[0m| 118/118 [00:09<00:00, 12.12it/s, Loss=0.327]"
          ]
        },
        {
          "output_type": "stream",
          "name": "stdout",
          "text": [
            "\n",
            "\tEpoch: 05 | Epoch Time: 1m 18s\n",
            "\tTrain Loss: 0.250 | Train Acc: 92.86%\n",
            "\tValidation Loss: 0.356 | Validation Acc: 91.67%\n",
            "\n",
            "Training Time for Batch Size: 64 -> 384.10s\n"
          ]
        },
        {
          "output_type": "stream",
          "name": "stderr",
          "text": [
            "\n"
          ]
        }
      ],
      "source": [
        "# Optimizer\n",
        "if arguments.OPTIMIZER == 'Adam':\n",
        "    optimizer = torch.optim.Adam(model.parameters(), \n",
        "                                 lr = arguments.LEARNING_RATE)\n",
        "\n",
        "# Loss Function\n",
        "if arguments.LOSS_FN == 'BCELoss':\n",
        "    loss_fn = nn.BCEWithLogitsLoss().to(device)\n",
        "\n",
        "# Initialize Best Validation Loss\n",
        "best_valid_loss = float('inf')\n",
        "    \n",
        "# Path to Save Best Model\n",
        "PATH = f'lstm-best-model.pt'\n",
        "\n",
        "train_loss_list = []\n",
        "train_acc_list = []\n",
        "val_loss_list = []\n",
        "val_acc_list = []\n",
        "\n",
        "batch_start_time = time.time()\n",
        "\n",
        "for epoch in range(arguments.EPOCHS):\n",
        "\n",
        "    start_time = time.time()\n",
        "    \n",
        "    # Avg Train Loss, Train Accuracy\n",
        "    train_loss, train_acc = train(train_loader, \n",
        "                                  model, \n",
        "                                  optimizer, \n",
        "                                  loss_fn)\n",
        "    train_loss_list.append(train_loss)\n",
        "    train_acc_list.append(train_acc.detach().cpu().numpy())\n",
        "\n",
        "    # Avg Val Loss, Val Accuracy\n",
        "    val_loss, val_acc = evaluate(val_loader, \n",
        "                                 model, \n",
        "                                 loss_fn)\n",
        "    val_loss_list.append(val_loss)\n",
        "    val_acc_list.append(val_acc.detach().cpu().numpy())\n",
        "\n",
        "    end_time = time.time()\n",
        "\n",
        "    epoch_mins, epoch_secs = epoch_time(start_time, end_time)\n",
        "\n",
        "    print(f'\\n\\tEpoch: {epoch+1:02} | Epoch Time: {epoch_mins}m {epoch_secs}s')\n",
        "    print(f'\\tTrain Loss: {train_loss:.3f} | Train Acc: {train_acc*100:.2f}%')\n",
        "    print(f'\\tValidation Loss: {val_loss:.3f} | Validation Acc: {val_acc*100:.2f}%\\n')\n",
        "\n",
        "    if val_loss < best_valid_loss:\n",
        "        best_valid_loss = val_loss\n",
        "        torch.save(model.state_dict(), PATH)\n",
        "\n",
        "batch_end_time = time.time()\n",
        "batch_elapsed_time = batch_end_time - batch_start_time\n",
        "print(f'Training Time for Batch Size: {arguments.BATCH_SIZE} -> {batch_elapsed_time:.2f}s')"
      ]
    },
    {
      "cell_type": "markdown",
      "metadata": {
        "id": "N2OxDip6BHeC"
      },
      "source": [
        "# Line Plot Comparison: \n",
        "1. Training vs Val Loss\n",
        "2. Training vs Val Accuracy\n",
        "\n"
      ]
    },
    {
      "cell_type": "code",
      "execution_count": 46,
      "metadata": {
        "colab": {
          "base_uri": "https://localhost:8080/",
          "height": 581
        },
        "id": "qpUykMYVsuOs",
        "outputId": "0d0c4794-8fd0-4d07-ed31-0e1a5521a87e"
      },
      "outputs": [
        {
          "output_type": "display_data",
          "data": {
            "text/plain": [
              "<Figure size 432x288 with 1 Axes>"
            ],
            "image/png": "[encoded data removed]"
          },
          "metadata": {}
        },
        {
          "output_type": "display_data",
          "data": {
            "text/plain": [
              "<Figure size 432x288 with 1 Axes>"
            ],
            "image/png": "[encoded data removed]"
          },
          "metadata": {}
        }
      ],
      "source": [
        "epochs = np.arange(arguments.EPOCHS) + 1\n",
        "\n",
        "def plot_line(line_A_vals, \n",
        "              line_B_vals, \n",
        "              line_A_label, \n",
        "              line_B_label, \n",
        "              xlabel, \n",
        "              ylabel, \n",
        "              title):\n",
        "    plt.style.use('ggplot')\n",
        "    plt.plot(epochs, line_A_vals, label = line_A_label, color = \"red\", linewidth = '3')\n",
        "    plt.plot(epochs, line_B_vals, label = line_B_label, color = \"green\", linewidth = '3')\n",
        "    plt.xlabel(xlabel)\n",
        "    plt.xticks(epochs)\n",
        "    plt.ylabel(ylabel)\n",
        "    plt.title(title, color = 'black')\n",
        "    plt.legend(shadow = True)\n",
        "    plt.show()\n",
        "    \n",
        "# Training vs Val Loss Plot\n",
        "plot_line(train_loss_list, \n",
        "          val_loss_list, \n",
        "          'Training Loss', \n",
        "          'Val Loss', \n",
        "          'Epoch', \n",
        "          'Loss', \n",
        "          'Training Loss vs Val Loss')\n",
        "\n",
        "# Training vs Val Acc Plot\n",
        "plot_line(train_acc_list, \n",
        "          val_acc_list, \n",
        "          'Training Acc', \n",
        "          'Val Acc', \n",
        "          'Epoch', \n",
        "          'Accuracy', \n",
        "          'Training Acc vs Val Acc')"
      ]
    },
    {
      "cell_type": "markdown",
      "metadata": {
        "id": "fY2M8Sfh5k9u"
      },
      "source": [
        "## Load the saved model"
      ]
    },
    {
      "cell_type": "code",
      "execution_count": 47,
      "metadata": {
        "colab": {
          "base_uri": "https://localhost:8080/"
        },
        "id": "6PkRH2CF5kIp",
        "outputId": "e22faaee-06ae-43e6-a367-f1e6dbdbad25"
      },
      "outputs": [
        {
          "output_type": "execute_result",
          "data": {
            "text/plain": [
              "LSTM(\n",
              "  (embedding): Embedding(25002, 100)\n",
              "  (lstm): LSTM(100, 256, num_layers=2, dropout=0.2, bidirectional=True)\n",
              "  (fc): Linear(in_features=512, out_features=1, bias=True)\n",
              "  (dropout): Dropout(p=0.2, inplace=False)\n",
              ")"
            ]
          },
          "metadata": {},
          "execution_count": 47
        }
      ],
      "source": [
        "saved_model = LSTM(arguments.INPUT_DIM, \n",
        "                   arguments.EMBED_DIM, \n",
        "                   arguments.HIDDEN_DIM, \n",
        "                   arguments.OUTPUT_DIM, \n",
        "                   arguments.NUM_LAYERS, \n",
        "                   arguments.BIDIRECTIONAL, \n",
        "                   arguments.DROPOUT).to(device)\n",
        "\n",
        "saved_model.load_state_dict(torch.load(PATH))\n",
        "saved_model.eval()"
      ]
    },
    {
      "cell_type": "markdown",
      "metadata": {
        "id": "oBZ6wNnJ7L_h"
      },
      "source": [
        "## Test Loss and Accuracy"
      ]
    },
    {
      "cell_type": "code",
      "execution_count": 48,
      "metadata": {
        "colab": {
          "base_uri": "https://localhost:8080/"
        },
        "id": "8pIG1usf509F",
        "outputId": "19347fd0-b125-4843-b610-2574a1a3f2c8"
      },
      "outputs": [
        {
          "output_type": "stream",
          "name": "stderr",
          "text": [
            "Evaluation...: 100%|\u001b[32m██████████\u001b[0m| 391/391 [00:31<00:00, 12.28it/s, Loss=0.266]"
          ]
        },
        {
          "output_type": "stream",
          "name": "stdout",
          "text": [
            "\n",
            "\tTest Loss: 0.382 | Test Acc: 95.00%\n"
          ]
        },
        {
          "output_type": "stream",
          "name": "stderr",
          "text": [
            "\n"
          ]
        }
      ],
      "source": [
        "# Avg Test Loss, Test Accuracy\n",
        "test_loss, test_acc = evaluate(test_loader, \n",
        "                               saved_model, \n",
        "                               loss_fn)\n",
        "print(f'\\n\\tTest Loss: {test_loss:.3f} | Test Acc: {test_acc*100:.2f}%')"
      ]
    },
    {
      "cell_type": "markdown",
      "metadata": {
        "id": "2zCcnIeKbaWS"
      },
      "source": [
        "# Deliverable Plots"
      ]
    },
    {
      "cell_type": "code",
      "execution_count": 49,
      "metadata": {
        "colab": {
          "base_uri": "https://localhost:8080/",
          "height": 863
        },
        "id": "0R4r2-8jy3Fd",
        "outputId": "07766ade-aff3-47b2-b900-2d0f741a15c2"
      },
      "outputs": [
        {
          "output_type": "display_data",
          "data": {
            "text/plain": [
              "<Figure size 432x288 with 1 Axes>"
            ],
            "image/png": "[encoded data removed]"
          },
          "metadata": {}
        },
        {
          "output_type": "display_data",
          "data": {
            "text/plain": [
              "<Figure size 432x288 with 1 Axes>"
            ],
            "image/png": "[encoded data removed]"
          },
          "metadata": {}
        },
        {
          "output_type": "display_data",
          "data": {
            "text/plain": [
              "<Figure size 432x288 with 1 Axes>"
            ],
            "image/png": "[encoded data removed]"
          },
          "metadata": {}
        }
      ],
      "source": [
        "batch_size = [32, 64, 128, 256]\n",
        "training_time = [545.12, 382.94, 286.81, 227.46]\n",
        "val_set_acc = [0.91, 0.917, 0.75, 0.894]\n",
        "learning_rate_vals = [0.01, 0.001, 0.0001, 0.00001]\n",
        "val_set_acc_lr = [0.917, 0.833, 0.75, 0.50]\n",
        "\n",
        "def plot_comp_line(x_vals, \n",
        "              y_vals,\n",
        "              line_label,\n",
        "              xlabel, \n",
        "              ylabel, \n",
        "              title, \n",
        "              line_color):\n",
        "    plt.style.use('ggplot')\n",
        "    plt.plot(x_vals, y_vals, label = line_label, color = line_color, linewidth = '3')\n",
        "    plt.xlabel(xlabel)\n",
        "    plt.xticks(x_vals)\n",
        "    plt.ylabel(ylabel)\n",
        "    plt.title(title, color = 'black')\n",
        "    plt.legend(shadow = True)\n",
        "    plt.show()\n",
        "\n",
        "# Batch Size vs Training Time Plot\n",
        "plot_comp_line(batch_size, \n",
        "               training_time, \n",
        "               'Batch Size vs Training Time',  \n",
        "               'Batch Size', \n",
        "               'Training Time',\n",
        "               'Batch Size vs Training Time', \n",
        "               'blue')\n",
        "\n",
        "# Batch Size vs Val Acc Plot\n",
        "plot_comp_line(batch_size, val_set_acc, \n",
        "               'Batch Size vs Validation Accuracy', \n",
        "               'Batch Size', \n",
        "               'Validation Acc',\n",
        "               'Batch Size vs Validation Accuracy', \n",
        "               'purple')\n",
        "\n",
        "# Learning Rate vs Val Acc Plot\n",
        "plot_comp_line(learning_rate_vals, val_set_acc_lr, \n",
        "               'Learning Rate vs Validation Accuracy', \n",
        "               'Learning Rate', \n",
        "               'Validation Acc',\n",
        "               'Learning Rate vs Validation Accuracy', \n",
        "               'brown')"
      ]
    },
    {
      "cell_type": "markdown",
      "metadata": {
        "id": "_aHa2IgZRJD4"
      },
      "source": [
        "# Test for Model Correctness"
      ]
    },
    {
      "cell_type": "code",
      "execution_count": 50,
      "metadata": {
        "colab": {
          "base_uri": "https://localhost:8080/"
        },
        "id": "lt_Xftd9RIBG",
        "outputId": "12d6121e-0738-4439-e82d-52acd37e3f9b"
      },
      "outputs": [
        {
          "output_type": "stream",
          "name": "stdout",
          "text": [
            "tensor([-1.6132,  3.7481,  4.8990,  1.9808, -0.4259, -0.5633,  5.6465,  3.8416,\n",
            "         5.3649, -2.0478, -4.3970,  3.6095, -5.2872,  4.3105,  9.1310, -4.0231,\n",
            "        -0.6245,  1.6504, -2.4430, -0.5821, -4.0144, -0.0742,  7.2715,  2.5244,\n",
            "         9.6311,  0.4599, -0.6269, -2.2615, -0.7906,  5.6397,  4.5671,  2.5422,\n",
            "         5.2128,  0.9681,  3.0722,  5.2602, -0.5407, -2.4662,  0.0992,  0.2827,\n",
            "         6.4206, -2.8500, -0.0829, -4.5294,  2.7996,  5.6678,  4.5088, -2.5029,\n",
            "         1.6050, -2.8437, -2.9465,  1.3689,  0.4227, -2.4305,  5.9455,  4.7829,\n",
            "         3.8018, -3.6828,  1.7359,  5.2415, -3.8147, -2.6945, -2.7062,  4.3414],\n",
            "       device='cuda:0', grad_fn=<SqueezeBackward1>)\n",
            "tensor([ 0.1010,  5.2262, -2.5014,  1.0946,  1.5776,  5.6394,  1.5677, -4.3012,\n",
            "        -1.0296, -1.5993, -2.6062,  6.7674, -2.2116,  3.0958,  5.9411, -4.9794,\n",
            "        -1.1143,  5.2151,  0.0403,  4.1267, -4.9672, -2.2584,  5.7212,  0.7798,\n",
            "        -5.3715,  1.1318,  7.7266,  3.0828, -1.6399, -3.9963,  1.3673, -1.2242,\n",
            "        -0.6885, -4.1363, -0.9738,  1.2579,  4.5831, -4.0557, -3.1196,  2.4069,\n",
            "        -8.0121,  6.0710,  1.6595, -3.4461,  3.9938,  3.0380, -1.3040, -0.1613,\n",
            "         2.7207, -2.8911,  3.4392,  6.6712,  6.9483,  6.1519, -0.7858, -3.9737,\n",
            "         0.5392, -2.9331, -3.7785,  4.0003, -0.5919,  2.8064,  2.0443, -1.9213],\n",
            "       device='cuda:0', grad_fn=<SqueezeBackward1>)\n",
            "tensor([ 0.5050,  3.9059,  8.5957, -2.0042,  2.1181,  5.3205,  3.2365, -2.8844,\n",
            "         3.7709,  1.8367, -1.7623, -1.7262, -2.8636,  6.9571, -0.5915,  3.5899,\n",
            "         0.6060, -2.1921,  4.3659, -2.7838, -3.2678, -4.3117, -1.1524,  4.1236,\n",
            "         1.2238, -2.1770, -3.4150,  2.3058,  4.1670,  5.0816, -0.6875,  6.6885,\n",
            "         1.3583,  1.3455, -2.0847, -0.5207,  8.0649,  3.8101,  4.3469, -2.6613,\n",
            "        -3.7881, -0.6696, -2.5998,  7.0666,  5.7562, -2.2623, -1.3365,  5.0890,\n",
            "         5.8347,  5.9734,  4.9844, -1.6935, -0.4448, -2.1064, -2.4015,  6.4380,\n",
            "         5.6352,  3.7669, -3.1192,  1.4555,  5.3936,  2.0136, -0.8093,  5.7343],\n",
            "       device='cuda:0', grad_fn=<SqueezeBackward1>)\n",
            "tensor([ 2.7064, -1.7073, -2.9039,  6.6673, -0.6509, -1.4398,  4.7112,  0.4487,\n",
            "         2.7506, -4.0988, -3.1195, -4.2713,  0.7477, -3.4978, -3.4141, -2.9547,\n",
            "        -2.1035,  1.8023,  2.8793, -3.8170,  2.9748,  4.6758, -0.6720, -0.1575,\n",
            "        -3.1839, -3.4732,  4.6922,  0.1755,  3.9010,  0.2552, -2.4585, -2.6217,\n",
            "        -2.9470, -3.5802,  0.9855, -4.6678, -1.8002,  3.2283,  5.0401,  4.7216,\n",
            "        -4.1606, -2.7187, -2.1434,  2.9818, -4.1050, -1.0524, -1.9552,  0.0480,\n",
            "         2.9998, -0.6175,  2.0233,  2.1851,  4.6994,  8.2242,  5.0705,  4.6097,\n",
            "         0.2407,  3.8846,  5.0826, -3.6292,  0.4451,  3.8853,  4.8678,  1.9352],\n",
            "       device='cuda:0', grad_fn=<SqueezeBackward1>)\n",
            "tensor([-0.0517, -4.3653, -3.2964,  1.6332, -4.6897,  4.0342,  3.7412,  1.0293,\n",
            "         5.4262,  1.6241,  3.5507,  8.5576,  4.8780,  4.8421,  6.8568, -0.7027,\n",
            "         0.7252,  1.6755,  3.1349, -3.6372,  0.3568,  5.9366, -1.6102,  4.3866,\n",
            "        -1.9031, -0.8813, -4.2314,  3.7835,  6.0376, -2.8834, -2.8825,  0.2144,\n",
            "         2.1116,  3.6639,  5.1768, -0.7657,  0.2340,  4.3931,  5.6467,  3.1275,\n",
            "         3.8545,  2.8510,  7.7505,  1.4191,  0.0591,  4.1505, -0.9316, -1.6865,\n",
            "         2.9310,  3.1334,  3.8285, -3.8598,  0.1119,  1.3564, -0.1285, -2.6711,\n",
            "         5.1453,  0.7838,  3.8510, -0.7136,  1.3156, -2.9602, -1.2285, -3.5996],\n",
            "       device='cuda:0', grad_fn=<SqueezeBackward1>)\n"
          ]
        }
      ],
      "source": [
        "max_n_test_instances = 5\n",
        "i = 1\n",
        "for x, _, x_lengths in val_loader:\n",
        "  score = saved_model(x, x_lengths).squeeze(1)\n",
        "  print(score)\n",
        "  if i >= max_n_test_instances:\n",
        "    break\n",
        "  else:\n",
        "    i += 1"
      ]
    }
  ],
  "metadata": {
    "accelerator": "GPU",
    "colab": {
      "provenance": []
    },
    "gpuClass": "standard",
    "kernelspec": {
      "display_name": "pvenv",
      "language": "python",
      "name": "python3"
    },
    "language_info": {
      "codemirror_mode": {
        "name": "ipython",
        "version": 3
      },
      "file_extension": ".py",
      "mimetype": "text/x-python",
      "name": "python",
      "nbconvert_exporter": "python",
      "pygments_lexer": "ipython3",
      "version": "3.10.8 (main, Oct 13 2022, 09:48:40) [Clang 14.0.0 (clang-1400.0.29.102)]"
    },
    "orig_nbformat": 4,
    "vscode": {
      "interpreter": {
        "hash": "5b37beb76676c8b0643f5764b5c5ae0ddf876ecbab29b433e279cae2d82963c7"
      }
    }
  },
  "nbformat": 4,
  "nbformat_minor": 0
}