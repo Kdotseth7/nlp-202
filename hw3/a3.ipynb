{
 "cells": [
  {
   "attachments": {},
   "cell_type": "markdown",
   "id": "31c91bfa",
   "metadata": {
    "papermill": {
     "duration": 0.003076,
     "end_time": "2023-03-08T08:00:47.019061",
     "exception": false,
     "start_time": "2023-03-08T08:00:47.015985",
     "status": "completed"
    },
    "tags": []
   },
   "source": [
    "# Import Necessary Libraries"
   ]
  },
  {
   "cell_type": "code",
   "execution_count": 507,
   "id": "68534287",
   "metadata": {
    "execution": {
     "iopub.execute_input": "2023-03-08T08:00:47.025319Z",
     "iopub.status.busy": "2023-03-08T08:00:47.025115Z",
     "iopub.status.idle": "2023-03-08T08:00:47.268927Z",
     "shell.execute_reply": "2023-03-08T08:00:47.268225Z"
    },
    "papermill": {
     "duration": 0.25046,
     "end_time": "2023-03-08T08:00:47.272487",
     "exception": false,
     "start_time": "2023-03-08T08:00:47.022027",
     "status": "completed"
    },
    "tags": []
   },
   "outputs": [],
   "source": [
    "import math\n",
    "import os\n",
    "import random\n",
    "\n",
    "import pandas as pd\n",
    "import numpy as np\n",
    "\n",
    "from random import sample\n",
    "from tqdm import tqdm\n",
    "from conlleval import evaluate as conllevaluate"
   ]
  },
  {
   "attachments": {},
   "cell_type": "markdown",
   "id": "32a82ebc",
   "metadata": {},
   "source": [
    "# Hyper-Parameters"
   ]
  },
  {
   "cell_type": "code",
   "execution_count": 508,
   "id": "90ad7fe9",
   "metadata": {},
   "outputs": [],
   "source": [
    "SEED = 42\n",
    "EPOCHS = 5\n",
    "EARLY_STOP_NO_IMPROVE_LIMIT = 3\n",
    "RUN_ON_SUBSET = True\n",
    "TRAINING_SAMPLES = 500\n",
    "DEV_SAMPLES = 100\n",
    "TEST_SAMPLES = 100"
   ]
  },
  {
   "attachments": {},
   "cell_type": "markdown",
   "id": "760821b3",
   "metadata": {},
   "source": [
    "# Special Tokens"
   ]
  },
  {
   "cell_type": "code",
   "execution_count": 509,
   "id": "0b3aa2f2",
   "metadata": {
    "papermill": {
     "duration": null,
     "end_time": null,
     "exception": null,
     "start_time": null,
     "status": "completed"
    },
    "tags": []
   },
   "outputs": [],
   "source": [
    "START = \"<START>\"\n",
    "STOP = \"<STOP>\""
   ]
  },
  {
   "attachments": {},
   "cell_type": "markdown",
   "id": "e5f68439",
   "metadata": {},
   "source": [
    "# Set Seed to make the training reproducible"
   ]
  },
  {
   "cell_type": "code",
   "execution_count": 510,
   "id": "ad8334a1",
   "metadata": {},
   "outputs": [],
   "source": [
    "def make_reproducible(seed: int=42) -> None:\n",
    "    \"\"\"Set seed to make the training reproducible.\"\"\"\n",
    "    np.random.seed(seed)\n",
    "    random.seed(seed)\n",
    "    os.environ['PYTHONHASHSEED'] = str(seed)\n",
    "\n",
    "make_reproducible(SEED)"
   ]
  },
  {
   "attachments": {},
   "cell_type": "markdown",
   "id": "f1c14128",
   "metadata": {},
   "source": [
    "# Read Train, Dev and Test NER Data Splits"
   ]
  },
  {
   "cell_type": "code",
   "execution_count": 511,
   "id": "0db28dbd",
   "metadata": {
    "papermill": {
     "duration": null,
     "end_time": null,
     "exception": null,
     "start_time": null,
     "status": "completed"
    },
    "tags": []
   },
   "outputs": [],
   "source": [
    "def read_data(filename) -> list:\n",
    "    \"\"\"\n",
    "    Reads the CoNLL 2003 data into an array of dictionaries (a dictionary for each data point).\n",
    "    :param filename: String\n",
    "    :return: Array of dictionaries.  Each dictionary has the format returned by the make_data_point function.\n",
    "    \"\"\"\n",
    "    data = list()\n",
    "    with open(filename, \"r\") as f:\n",
    "        sent = list()\n",
    "        for line in f.readlines():\n",
    "            if line.strip():\n",
    "                sent.append(line)\n",
    "            else:\n",
    "                data.append(make_data_point(sent))\n",
    "                sent = list()\n",
    "        data.append(make_data_point(sent))\n",
    "\n",
    "    return data\n",
    "\n",
    "\n",
    "def make_data_point(sent) -> dict:\n",
    "    \"\"\"\n",
    "        Creates a dictionary from String to an Array of Strings representing the data.  The dictionary items are:\n",
    "        dic['tokens'] = Tokens padded with <START> and <STOP>\n",
    "        dic['pos'] = POS tags padded with <START> and <STOP>\n",
    "        dic['NP_chunk'] = Tags indicating noun phrase chunks, padded with <START> and <STOP> (but will not use)\n",
    "        dic['gold_tags'] = The gold tags padded with <START> and <STOP>\n",
    "    :param sent: String.  The input CoNLL format string\n",
    "    :return: Dict from String to Array of Strings.\n",
    "    \"\"\"\n",
    "    dic = dict()\n",
    "    sent = [s.strip().split() for s in sent]\n",
    "    dic[\"tokens\"] = [START] + [s[0] for s in sent] + [STOP]\n",
    "    dic[\"pos\"] = [START] + [s[1] for s in sent] + [STOP]\n",
    "    dic[\"NP_chunk\"] = [START] + [s[2] for s in sent] + [STOP]\n",
    "    dic[\"gold_tags\"] = [START] + [s[3] for s in sent] + [STOP]\n",
    "    return dic\n",
    "\n",
    "\n",
    "def read_gazetteer() -> list:\n",
    "    data = list()\n",
    "    with open(\"gazetteer.txt\", \"r\") as f:\n",
    "        for line in f.readlines():\n",
    "            data += line.split()[1:]\n",
    "    return data\n",
    "\n",
    "datapath = \"./data\"\n",
    "gazetteer = read_gazetteer()\n",
    "\n",
    "train_data = read_data(os.path.join(datapath, \"ner.train\"))\n",
    "dev_data = read_data(os.path.join(datapath, \"ner.dev\"))\n",
    "test_data = read_data(os.path.join(datapath, \"ner.test\"))\n",
    "\n",
    "tagset = [\n",
    "    # Person (Begin, Inside)\n",
    "    \"B-PER\", \"I-PER\",\n",
    "    # Location (Begin, Inside)\n",
    "    \"B-LOC\", \"I-LOC\",\n",
    "    # Organization (Begin, Inside)\n",
    "    \"B-ORG\", \"I-ORG\",\n",
    "    # Miscelleneous (Begin, Inside)\n",
    "    \"B-MISC\", \"I-MISC\",\n",
    "    # Outside\n",
    "    \"O\"\n",
    "]"
   ]
  },
  {
   "attachments": {},
   "cell_type": "markdown",
   "id": "e520e4f9",
   "metadata": {},
   "source": [
    "# Run on subset of data"
   ]
  },
  {
   "cell_type": "code",
   "execution_count": 512,
   "id": "5016d2a3",
   "metadata": {},
   "outputs": [],
   "source": [
    "if RUN_ON_SUBSET:\n",
    "    train_data = sample(train_data, TRAINING_SAMPLES)\n",
    "    dev_data = sample(dev_data, DEV_SAMPLES)\n",
    "    test_data = sample(test_data, TEST_SAMPLES)\n",
    "    \n",
    "training_size = len(train_data)"
   ]
  },
  {
   "cell_type": "code",
   "execution_count": 513,
   "id": "9bb10d4b",
   "metadata": {
    "papermill": {
     "duration": null,
     "end_time": null,
     "exception": null,
     "start_time": null,
     "status": "completed"
    },
    "tags": []
   },
   "outputs": [],
   "source": [
    "class FeatureVector(object):\n",
    "    def __init__(self, fdict):\n",
    "        self.fdict = fdict\n",
    "\n",
    "    def times_plus_equal(self, scalar, v2) -> None:\n",
    "        \"\"\"\n",
    "        self += scalar * v2\n",
    "        :param scalar: Double\n",
    "        :param v2: FeatureVector\n",
    "        :return: None\n",
    "        \"\"\"\n",
    "        for key, value in v2.fdict.items():\n",
    "            self.fdict[key] = scalar * value + self.fdict.get(key, 0)\n",
    "\n",
    "    def dot_product(self, v2) -> int:\n",
    "        \"\"\"\n",
    "        Computes the dot product between self and v2.  It is more efficient for v2 to be the smaller vector (fewer\n",
    "        non-zero entries).\n",
    "        :param v2: FeatureVector\n",
    "        :return: Int\n",
    "        \"\"\"\n",
    "        retval = 0\n",
    "        for key, value in v2.fdict.items():\n",
    "            retval += value * self.fdict.get(key, 0)\n",
    "        return retval\n",
    "\n",
    "    def square(self):\n",
    "        retvector = FeatureVector({})\n",
    "        for key, value in self.fdict.items():\n",
    "            val_sq = value * value\n",
    "            retvector.fdict[key] = val_sq\n",
    "        return retvector\n",
    "\n",
    "    def square_root(self):\n",
    "        retvector = FeatureVector({})\n",
    "        for key, value in self.fdict.items():\n",
    "            val_sq = math.sqrt(value)\n",
    "            retvector.fdict[key] = val_sq\n",
    "        return retvector\n",
    "\n",
    "    def divide(self, v2):\n",
    "        retvector = FeatureVector({})\n",
    "        for key, value in v2.fdict.items():\n",
    "            if value == 0:\n",
    "                retvector.fdict[key] = 0\n",
    "            else:\n",
    "                retvector.fdict[key] = self.fdict.get(key, 0) / value\n",
    "        return retvector\n",
    "\n",
    "    def write_to_file(self, filename) -> None:\n",
    "        \"\"\"\n",
    "        Writes the feature vector to a file.\n",
    "        :param filename: String\n",
    "        :return: None\n",
    "        \"\"\" \n",
    "        print(\"Writing to \" + filename)\n",
    "        path = os.path.join(\"./reports\", filename)\n",
    "        with open(path, \"w\", encoding=\"utf-8\") as f:\n",
    "            features = [(k, v) for k, v in self.fdict.items()]\n",
    "            features.sort(key=lambda feature: feature[1], reverse=True)\n",
    "            for key, value in features:\n",
    "                f.write(f\"{key} {value}\\n\")\n",
    "\n",
    "    def read_from_file(self, filename) -> None:\n",
    "        \"\"\"\n",
    "        Reads a feature vector from a file.\n",
    "        :param filename: String\n",
    "        :return: None\n",
    "        \"\"\"\n",
    "        self.fdict = dict()\n",
    "        with open(filename, \"r\") as f:\n",
    "            for line in f.readlines():\n",
    "                txt = line.split()\n",
    "                self.fdict[txt[0]] = float(txt[1])\n",
    "\n",
    "\n",
    "class Features(object):\n",
    "    def __init__(self, inputs, feature_names):\n",
    "        \"\"\"\n",
    "        Creates a Features object\n",
    "        :param inputs: Dictionary from String to an Array of Strings.\n",
    "            Created in the make_data_point function.\n",
    "            inputs['tokens'] = Tokens padded with <START> and <STOP>\n",
    "            inputs['pos'] = POS tags padded with <START> and <STOP>\n",
    "            inputs['NP_chunk'] = Tags indicating noun phrase chunks, padded with <START> and <STOP>\n",
    "            inputs['gold_tags'] = DON'T USE! The gold tags padded with <START> and <STOP>\n",
    "        :param feature_names: Array of Strings.  The list of features to compute.\n",
    "        \"\"\"\n",
    "        self.feature_names = feature_names\n",
    "        self.inputs = inputs\n",
    "\n",
    "    def compute_features(self, cur_tag, pre_tag, i):\n",
    "        \"\"\"\n",
    "        Computes the local features for the current tag, the previous tag, and position i\n",
    "        :param cur_tag: String.  The current tag.\n",
    "        :param pre_tag: String.  The previous tag.\n",
    "        :param i: Int. The position\n",
    "        :return: FeatureVector\n",
    "        \"\"\"\n",
    "        feats = FeatureVector({})\n",
    "        cur_word = self.inputs[\"tokens\"][i]\n",
    "        pos_tag = self.inputs[\"pos\"][i]\n",
    "        is_last = len(self.inputs[\"tokens\"]) - 1 == i\n",
    "\n",
    "        # 1 Current word(Wi), Example -> Wi=France+Ti=I-LOC 1.0\n",
    "        if \"current_word\" in self.feature_names:\n",
    "            key = f\"Wi={cur_word}+Ti={cur_tag}\"\n",
    "            add_features(feats, key)\n",
    "\n",
    "        # 2 Previous Tag(Ti-1), Example -> Ti-1=<START>+Ti=I-LOC 1.0\n",
    "        if \"prev_tag\" in self.feature_names:\n",
    "            key = f\"Ti-1={pre_tag}+Ti={cur_tag}\"\n",
    "            add_features(feats, key)\n",
    "\n",
    "        # 3 Lowercased Word(Oi), Example -> Oi=france+Ti=I-LOC 1.0\n",
    "        if \"lowercase\" in self.feature_names:\n",
    "            key = f\"Oi={cur_word.lower()}+Ti={cur_tag}\"\n",
    "            add_features(feats, key)\n",
    "\n",
    "        # 4 Current POS Tag(Pi), Example -> Pi=NNP+Ti=I-LOC 1.0\n",
    "        if \"pos_tag\" in self.feature_names:\n",
    "            key = f\"Pi={pos_tag}+Ti={cur_tag}\"\n",
    "            add_features(feats, key)\n",
    "\n",
    "        # 5 Shape of Current Word(Si), Example -> Si=Aaaaaa+Ti=I-LOC\n",
    "        if \"word_shape\" in self.feature_names:\n",
    "            word_shape = get_word_shape(cur_word)\n",
    "            key = f\"Si={word_shape}+Ti={cur_tag}\"\n",
    "            add_features(feats, key)\n",
    "\n",
    "        # 6 (1-4 for prev + for next)\n",
    "        # i.e. Wi-1=<START>+Ti=I-LOC 1.0\n",
    "        # i.e. Pi-1=<START>+Ti=I-LOC 1.0\n",
    "        # i.e. Wi+1=and+Ti=I-LOC 1.0\n",
    "\n",
    "        if \"feats_prev_and_next\" in self.feature_names:\n",
    "            prev_word = self.inputs[\"tokens\"][i - 1]\n",
    "            prev_pos = self.inputs[\"pos\"][i - 1]\n",
    "            prev_1 = f\"Wi-1={prev_word}+Ti={cur_tag}\"\n",
    "            prev_3 = f\"Oi-1={prev_word.lower()}+Ti={cur_tag}\"\n",
    "            prev_4 = f\"Pi-1={prev_pos}+Ti={cur_tag}\"\n",
    "            add_features(feats, prev_1)\n",
    "            add_features(feats, prev_3)\n",
    "            add_features(feats, prev_4)\n",
    "\n",
    "            if not is_last:\n",
    "                next_word = self.inputs[\"tokens\"][i + 1]\n",
    "                next_pos = self.inputs[\"pos\"][i + 1]\n",
    "                next_1 = f\"Wi+1={next_word}+Ti={cur_tag}\"\n",
    "                next_3 = f\"Oi+1={next_word.lower()}+Ti={cur_tag}\"\n",
    "                next_4 = f\"Pi+1={next_pos}+Ti={cur_tag}\"\n",
    "                add_features(feats, next_1)\n",
    "                add_features(feats, next_3)\n",
    "                add_features(feats, next_4)\n",
    "\n",
    "        # 7 1,3,4 conjoined with pre_tag\n",
    "        # i.e. Wi+1=and+Ti-1=<START>+Ti=I-LOC 1.0\n",
    "        if \"feat_conjoined\" in self.feature_names:\n",
    "            conjoined_1 = f\"Wi={cur_word}+Ti-1={pre_tag}+Ti={cur_tag}\"\n",
    "            conjoined_3 = f\"Oi={cur_word.lower()}+Ti-1={pre_tag}+Ti={cur_tag}\"\n",
    "            conjoined_4 = f\"Pi={pos_tag}+Ti-1={pre_tag}+Ti={cur_tag}\"\n",
    "            add_features(feats, conjoined_1)\n",
    "            add_features(feats, conjoined_3)\n",
    "            add_features(feats, conjoined_4)\n",
    "\n",
    "        # 8 k=1,2,3,4 prefix\n",
    "        # i.e. PREi=Fr+Ti=I-LOC 1.0\n",
    "        # i.e. PREi=Fra+Ti=I-LOC 1.0\n",
    "        if \"prefix_k\" in self.feature_names:\n",
    "            for k in range(4):\n",
    "                if k > len(cur_word):\n",
    "                    break\n",
    "                prefix = cur_word[: k + 1]\n",
    "                key = f\"PREi={prefix}+Ti={cur_tag}\"\n",
    "                add_features(feats, key)\n",
    "\n",
    "        # 9 gazetteer\n",
    "        # i.e. GAZi=True+Ti=I-LOC 1.0\n",
    "        if \"gazetteer\" in self.feature_names:\n",
    "            key = f\"GAZi={is_gazetteer(cur_word)}+Ti={cur_tag}\"\n",
    "            add_features(feats, key)\n",
    "\n",
    "        # 10 is capital\n",
    "        # i.e. CAPi=True+Ti=I-LOC 1.0\n",
    "        if \"capital\" in self.feature_names:\n",
    "            key = f\"CAPi={is_capital(cur_word)}+Ti={cur_tag}\"\n",
    "            add_features(feats, key)\n",
    "\n",
    "        # 11 Position of the current word (indexed from 1), Example -> POSi=1+Ti=I-LOC 1.0\n",
    "        if \"position\" in self.feature_names:\n",
    "            key = f\"POSi={i+1}+Ti={cur_tag}\"\n",
    "            add_features(feats, key)\n",
    "\n",
    "        return feats\n",
    "\n",
    "\n",
    "def add_features(feats, key) -> None:\n",
    "    feats.times_plus_equal(\n",
    "        1,\n",
    "        FeatureVector(\n",
    "            {key: 1},\n",
    "        ),\n",
    "    )\n",
    "\n",
    "\n",
    "def get_word_shape(word):\n",
    "    shape = \"\"\n",
    "    for c in word:\n",
    "        shape += get_char_shape(c)\n",
    "    return shape\n",
    "\n",
    "\n",
    "def get_char_shape(char):\n",
    "    encoding = ord(char)\n",
    "    if encoding >= ord(\"a\") and encoding <= ord(\"z\"):\n",
    "        return \"a\"\n",
    "\n",
    "    if encoding >= ord(\"A\") and encoding <= ord(\"Z\"):\n",
    "        return \"A\"\n",
    "\n",
    "    if encoding >= ord(\"0\") and encoding <= ord(\"9\"):\n",
    "        return \"d\"\n",
    "\n",
    "    return char\n",
    "\n",
    "\n",
    "def is_gazetteer(word) -> str:\n",
    "    if word in gazetteer:\n",
    "        return \"True\"\n",
    "    return \"False\"\n",
    "\n",
    "\n",
    "def is_capital(word) -> str:\n",
    "    if len(word) == 0:\n",
    "        return \"False\"\n",
    "    c = ord(word[0])\n",
    "    if c >= ord(\"A\") and c <= ord(\"Z\"):\n",
    "        return \"True\"\n",
    "    return \"False\"\n",
    "\n",
    "\n",
    "def compute_features(tag_seq, input_length, features) -> FeatureVector:\n",
    "    \"\"\"\n",
    "    Compute f(xi, yi)\n",
    "    :param tag_seq: [tags] already padded with <START> and <STOP>\n",
    "    :param input_length: input length including the padding <START> and <STOP>\n",
    "    :param features: func from token index to FeatureVector\n",
    "    :return:\n",
    "    \"\"\"\n",
    "    # compute feature given sequence\n",
    "    feats = FeatureVector({})\n",
    "    for i in range(1, input_length):\n",
    "        feats.times_plus_equal(\n",
    "            1, features.compute_features(tag_seq[i], tag_seq[i - 1], i)\n",
    "        )\n",
    "    return feats\n",
    "\n",
    "    # Examples from class (from slides Jan 15, slide 18):\n",
    "    # x = will to fight\n",
    "    # y = NN TO VB\n",
    "    # features(x,y) =\n",
    "    #  {\"wi=will^yi=NN\": 1, // \"wi=\"+current_word+\"^yi=\"+current_tag\n",
    "    # \"yi-1=START^yi=NN\": 1,\n",
    "    # \"ti=to+^yi=TO\": 1,\n",
    "    # \"yi-1=NN+yi=TO\": 1,\n",
    "    # \"xi=fight^yi=VB\": 1,\n",
    "    # \"yi-1=TO^yi=VB\": 1}\n",
    "\n",
    "    # x = will to fight\n",
    "    # y = NN TO VBD\n",
    "    # features(x,y)=\n",
    "    # {\"wi=will^yi=NN\": 1,\n",
    "    # \"yi-1=START^yi=NN\": 1,\n",
    "    # \"ti=to+^yi=TO\": 1,\n",
    "    # \"yi-1=NN+yi=TO\": 1,\n",
    "    # \"xi=fight^yi=VBD\": 1,\n",
    "    # \"yi-1=TO^yi=VBD\": 1}"
   ]
  },
  {
   "attachments": {},
   "cell_type": "markdown",
   "id": "a983edb6",
   "metadata": {},
   "source": [
    "# Feature Set"
   ]
  },
  {
   "cell_type": "code",
   "execution_count": 514,
   "id": "9644c714",
   "metadata": {},
   "outputs": [],
   "source": [
    "# Limited Feature Set -> Features 1-4\n",
    "limited_feature_set = [\"current_word\", \"prev_tag\", \"lowercase\", \"pos_tag\"]\n",
    "# Full Feature Set -> Features 1-4 + 5-11\n",
    "full_feature_set = limited_feature_set + [\"word_shape\", \"feats_prev_and_next\", \"feat_conjoined\", \"prefix_k\", \"gazetteer\", \"capital\", \"position\"]"
   ]
  },
  {
   "cell_type": "code",
   "execution_count": 515,
   "id": "018e1d84",
   "metadata": {
    "papermill": {
     "duration": null,
     "end_time": null,
     "exception": null,
     "start_time": null,
     "status": "completed"
    },
    "tags": []
   },
   "outputs": [],
   "source": [
    "def backtrack(viterbi_matrix, tagset, max_tag) -> list:\n",
    "    tags = list()\n",
    "    for k in reversed(range(len(viterbi_matrix))):\n",
    "        last_max_tag_idx = tagset.index(max_tag)\n",
    "        viterbi_list = viterbi_matrix[k]\n",
    "        max_tag, _ = viterbi_list[last_max_tag_idx]\n",
    "        tags = [max_tag] + tags\n",
    "    return tags\n",
    "\n",
    "\n",
    "def decode(input_len, tagset, score_func) -> list:\n",
    "    \"\"\"Viterbi Decoding\n",
    "\n",
    "    Args:\n",
    "        input_len (int): input length\n",
    "        tagset (list): the list of all tags\n",
    "        score_func (func): score function\n",
    "\n",
    "    Returns:\n",
    "        tags (list): predicted tag sequence\n",
    "    \"\"\"\n",
    "    tags = list()\n",
    "    viterbi_matrix = list()\n",
    "\n",
    "    # Initial step\n",
    "    initial_list = list()\n",
    "    for tag in tagset:\n",
    "        score = score_func(tag, START, 1)\n",
    "        initial_list.append((START, score))\n",
    "    viterbi_matrix.append(initial_list)\n",
    "\n",
    "    # Recursion Step\n",
    "    for t in range(2, input_len - 1):\n",
    "\n",
    "        viterbi_list = list()\n",
    "        for tag in tagset:\n",
    "            # max() and argmax()\n",
    "            max_tag = None\n",
    "            max_score = float(\"-inf\")\n",
    "            for prev_tag in tagset:\n",
    "                last_viterbi_list = viterbi_matrix[t - 2]\n",
    "                prev_tag_idx = tagset.index(prev_tag)\n",
    "                last_score = last_viterbi_list[prev_tag_idx][1]\n",
    "                score = score_func(tag, prev_tag, t) + last_score\n",
    "                if score > max_score:\n",
    "                    max_score = score\n",
    "                    max_tag = prev_tag\n",
    "            viterbi_list.append((max_tag, score))\n",
    "        viterbi_matrix.append(viterbi_list)\n",
    "    # termination step\n",
    "    tags = [STOP] + tags\n",
    "\n",
    "    # calculate the max tag\n",
    "    last_viterbi_list = list()\n",
    "    for tag in tagset:\n",
    "        stop_score = score_func(STOP, tag, input_len - 1)\n",
    "        prev_score = viterbi_matrix[-1][tagset.index(tag)][1]\n",
    "        score = stop_score + prev_score\n",
    "        last_viterbi_list.append((tag, score))\n",
    "    max_tag, _ = max(last_viterbi_list, key=lambda tuple: tuple[1])\n",
    "\n",
    "    tags = backtrack(viterbi_matrix, tagset, max_tag) + [max_tag] + tags\n",
    "    return tags\n",
    "\n",
    "\n",
    "def predict(inputs, input_len, parameters, feature_names, tagset, score_func):\n",
    "    \"\"\"\n",
    "\n",
    "    :param inputs:\n",
    "    :param input_len:\n",
    "    :param parameters:\n",
    "    :param feature_names:\n",
    "    :param tagset:\n",
    "    :return:\n",
    "    \"\"\"\n",
    "    features = Features(inputs, feature_names)\n",
    "    gold_labels = inputs[\"gold_tags\"]\n",
    "\n",
    "    score = score_func(gold_labels, parameters, features)\n",
    "\n",
    "    return decode(input_len, tagset, score)\n",
    "\n",
    "\n",
    "def write_predictions(\n",
    "    out_filename, all_inputs, parameters, feature_names, tagset, score_func\n",
    "):\n",
    "    \"\"\"\n",
    "    Writes the predictions on all_inputs to out_filename, in CoNLL 2003 evaluation format.\n",
    "    Each line is token, pos, NP_chuck_tag, gold_tag, predicted_tag (separated by spaces)\n",
    "    Sentences are separated by a newline\n",
    "    The file can be evaluated using the command: python conlleval.py < out_file\n",
    "    :param out_filename: filename of the output\n",
    "    :param all_inputs:\n",
    "    :param parameters:\n",
    "    :param feature_names:\n",
    "    :param tagset:\n",
    "    :return:\n",
    "    \"\"\"\n",
    "    pred_dir = \"./predictions\"\n",
    "    if not os.path.exists(pred_dir):\n",
    "        os.makedirs(pred_dir)\n",
    "    path = os.path.join(pred_dir, out_filename)\n",
    "    with open(path, \"w\", encoding=\"utf-8\") as f:\n",
    "        for inputs in all_inputs:\n",
    "            input_len = len(inputs[\"tokens\"])\n",
    "            tag_seq = predict(\n",
    "                inputs,\n",
    "                input_len,\n",
    "                parameters,\n",
    "                feature_names,\n",
    "                tagset,\n",
    "                score_func,\n",
    "            )\n",
    "            for i, tag in enumerate(\n",
    "                tag_seq[1:-1]\n",
    "            ):  # deletes <START> and <STOP>\n",
    "                f.write(\n",
    "                    \" \".join(\n",
    "                        [\n",
    "                            inputs[\"tokens\"][i + 1],\n",
    "                            inputs[\"pos\"][i + 1],\n",
    "                            inputs[\"NP_chunk\"][i + 1],\n",
    "                            inputs[\"gold_tags\"][i + 1],\n",
    "                            tag,\n",
    "                        ]\n",
    "                    )\n",
    "                    + \"\\n\"\n",
    "                )  # i + 1 because of <START>\n",
    "            f.write(\"\\n\")\n",
    "\n",
    "\n",
    "def compute_score(tag_seq, input_length, score):\n",
    "    \"\"\"\n",
    "    Computes the total score of a tag sequence\n",
    "    :param tag_seq: Array of String of length input_length. The tag sequence including <START> and <STOP>\n",
    "    :param input_length: Int. input length including the padding <START> and <STOP>\n",
    "    :param score: function from current_tag (string), previous_tag (string), i (int) to the score.  i=0 points to\n",
    "        <START> and i=1 points to the first token. i=input_length-1 points to <STOP>\n",
    "    :return:\n",
    "    \"\"\"\n",
    "    total_score = 0\n",
    "    for i in range(1, input_length):\n",
    "        total_score += score(tag_seq[i], tag_seq[i - 1], i)\n",
    "    return total_score\n",
    "\n",
    "\n",
    "def test_decoder() -> None:\n",
    "    # See https://classes.soe.ucsc.edu/nlp202/Winter21/assignments/A1_Debug_Example.pdf\n",
    "\n",
    "    tagset = [\"NN\", \"VB\"]  # make up our own tagset\n",
    "\n",
    "    def score_wrap(cur_tag, pre_tag, i):\n",
    "        retval = score(cur_tag, pre_tag, i)\n",
    "        print(\n",
    "            \"Score(\"\n",
    "            + cur_tag\n",
    "            + \",\"\n",
    "            + pre_tag\n",
    "            + \",\"\n",
    "            + str(i)\n",
    "            + \") returning \"\n",
    "            + str(retval)\n",
    "        )\n",
    "        return retval\n",
    "\n",
    "    def score(cur_tag, pre_tag, i):\n",
    "        if i == 0:\n",
    "            print(\n",
    "                \"ERROR: Don't call score for i = 0 (that points to <START>, with nothing before it)\"\n",
    "            )\n",
    "        if i == 1:\n",
    "            if pre_tag != \"<START>\":\n",
    "                print(\n",
    "                    \"ERROR: Previous tag should be <START> for i = 1. Previous tag = \"\n",
    "                    + pre_tag\n",
    "                )\n",
    "            if cur_tag == \"NN\":\n",
    "                return 6\n",
    "            if cur_tag == \"VB\":\n",
    "                return 4\n",
    "        if i == 2:\n",
    "            if cur_tag == \"NN\" and pre_tag == \"NN\":\n",
    "                return 4\n",
    "            if cur_tag == \"NN\" and pre_tag == \"VB\":\n",
    "                return 9\n",
    "            if cur_tag == \"VB\" and pre_tag == \"NN\":\n",
    "                return 5\n",
    "            if cur_tag == \"VB\" and pre_tag == \"VB\":\n",
    "                return 0\n",
    "        if i == 3:\n",
    "            if cur_tag != \"<STOP>\":\n",
    "                print(\n",
    "                    \"ERROR: Current tag at i = 3 should be <STOP>. Current tag = \"\n",
    "                    + cur_tag\n",
    "                )\n",
    "            if pre_tag == \"NN\":\n",
    "                return 1\n",
    "            if pre_tag == \"VB\":\n",
    "                return 1\n",
    "\n",
    "    predicted_tag_seq = decode(4, tagset, score_wrap)\n",
    "    print(\"Predicted tag sequence should be = <START> VB NN <STOP>\")\n",
    "    print(\"Predicted tag sequence = \" + \" \".join(predicted_tag_seq))\n",
    "    print(\n",
    "        \"Score of ['<START>','VB','NN','<STOP>'] = \"\n",
    "        + str(compute_score([\"<START>\", \"VB\", \"NN\", \"<STOP>\"], 4, score))\n",
    "    )\n",
    "    print(\"Max score should be = 14\")\n",
    "    print(\"Max score = \" + str(compute_score(predicted_tag_seq, 4, score)))"
   ]
  },
  {
   "cell_type": "code",
   "execution_count": 516,
   "id": "06911b81",
   "metadata": {
    "papermill": {
     "duration": null,
     "end_time": null,
     "exception": null,
     "start_time": null,
     "status": "completed"
    },
    "tags": []
   },
   "outputs": [],
   "source": [
    "def optimizer(update_func=\"ssgd\", l2_lambda=0.01):\n",
    "\n",
    "    # only for adagrad\n",
    "    # a feature vector for accumulated gradient square sum\n",
    "    accum_sum = FeatureVector({})\n",
    "\n",
    "    def adagrad(\n",
    "        i,\n",
    "        gradient,\n",
    "        parameters,\n",
    "        step_size,\n",
    "    ):\n",
    "        \"\"\"\n",
    "        AdaGrad update\n",
    "        :param i: index of current instance\n",
    "        :param gradient: func from index (int) in range(training_size) to a FeatureVector of the gradient\n",
    "        :param parameters: FeatureVector.  Initial parameters.  Should be updated while training\n",
    "        :param step_size: int. Learning rate, step size\n",
    "        :return: updated parameters\n",
    "        \"\"\"\n",
    "        # step_size / sqrt(accum_sum) * grad\n",
    "        # accum_sum = sum_t(grad_t**2)\n",
    "        grad = gradient(i)\n",
    "        accum_sum.times_plus_equal(1, grad.square())\n",
    "        parameters.times_plus_equal(\n",
    "            -step_size, grad.divide(accum_sum.square_root())\n",
    "        )\n",
    "        return parameters\n",
    "\n",
    "    def ssgd(i, gradient, parameters, step_size):\n",
    "        \"\"\"\n",
    "        Stochastic sub-gradient descent update\n",
    "        :param i: index of current instance\n",
    "        :param gradient: func from index (int) in range(training_size) to a FeatureVector of the gradient\n",
    "        :param parameters: FeatureVector.  Initial parameters.  Should be updated while training\n",
    "        :param step_size: int. Learning rate, step size\n",
    "        :return: updated parameters\n",
    "        \"\"\"\n",
    "        # Look at the FeatureVector object.  You'll want to use the function times_plus_equal to update the parameters.\n",
    "        # gradient in feature vector class\n",
    "        grad = gradient(i)\n",
    "        # w − α g(x, y)\n",
    "        parameters.times_plus_equal(-step_size, grad)\n",
    "        return parameters\n",
    "\n",
    "    def l2_regularizer(i, gradient, parameters, step_size):\n",
    "        \"\"\"\n",
    "        Stochastic sub-gradient descent update with L2 regularizer\n",
    "        :param i: index of current instance\n",
    "        :param gradient: func from index (int) in range(training_size) to a FeatureVector of the gradient\n",
    "        :param parameters: FeatureVector.  Initial parameters.  Should be updated while training\n",
    "        :param step_size: int. Learning rate, step size\n",
    "        :return: updated parameters\n",
    "        \"\"\"\n",
    "        # Look at the FeatureVector object.  You'll want to use the function times_plus_equal to update the parameters.\n",
    "        # gradient in feature vector class\n",
    "        grad = gradient(i)\n",
    "        #  learning for l2 regularizer: w − α g(x, y) − αλw\n",
    "        # λw\n",
    "        regularizer = FeatureVector({})\n",
    "        regularizer.times_plus_equal(l2_lambda, parameters)\n",
    "        # w − α g(x, y) − αλw\n",
    "        parameters.times_plus_equal(-step_size, grad)\n",
    "        parameters.times_plus_equal(-step_size, regularizer)\n",
    "        return parameters\n",
    "\n",
    "    update = ssgd\n",
    "    if update_func == \"adagrad\":\n",
    "        update = adagrad\n",
    "    elif update_func == \"l2_regularizer\":\n",
    "        update = l2_regularizer\n",
    "\n",
    "    def optimizer_func(\n",
    "        training_size,\n",
    "        epochs,\n",
    "        gradient,\n",
    "        parameters,\n",
    "        training_observer,\n",
    "        step_size=1,\n",
    "    ):\n",
    "        \"\"\"\n",
    "        Optimization Function (Based on Gradient Descent)\n",
    "        :param training_size: int. Number of examples in the training set\n",
    "        :param epochs: int. Number of epochs to run SGD for\n",
    "        :param gradient: func from index (int) in range(training_size) to a FeatureVector of the gradient\n",
    "        :param parameters: FeatureVector.  Initial parameters.  Should be updated while training\n",
    "        :param training_observer: func that takes epoch and parameters.  You can call this function at the end of each\n",
    "            epoch to evaluate on a dev set and write out the model parameters for early stopping.\n",
    "        :param step_size: int. Learning rate, step size\n",
    "        :return: final parameters\n",
    "        \"\"\"\n",
    "\n",
    "        no_improve_count = 0\n",
    "\n",
    "        best_params = parameters\n",
    "        max_score = float(\"-inf\")\n",
    "\n",
    "        # go through every epochs\n",
    "        for epoch in range(epochs):\n",
    "            # go through every training data\n",
    "            for i in tqdm(range(training_size), desc=\"Training...\", colour=\"red\"):\n",
    "                parameters = update(i, gradient, parameters, step_size)\n",
    "\n",
    "            # dev score\n",
    "            cur_score = training_observer(epoch, parameters)\n",
    "            cur_score = round(cur_score, 4)\n",
    "            print(f\"Epoch {epoch+1:02} -> F1-Score: {cur_score}\")\n",
    "\n",
    "            # updating best parameters\n",
    "            if cur_score >= max_score:\n",
    "                best_params = FeatureVector({})\n",
    "                best_params.times_plus_equal(1, parameters)\n",
    "                max_score = cur_score\n",
    "                no_improve_count = 0\n",
    "            else:\n",
    "                # if no improvement\n",
    "                no_improve_count += 1\n",
    "\n",
    "            # if larger than tolerable no improvement times\n",
    "            if no_improve_count > EARLY_STOP_NO_IMPROVE_LIMIT:\n",
    "                # early stopping\n",
    "                return best_params\n",
    "\n",
    "        return best_params\n",
    "\n",
    "    return optimizer_func\n",
    "\n",
    "\n",
    "def hamming_loss(loss_val=10, penalty=0):\n",
    "    \"\"\"\n",
    "    Modify the cost function to penalize mistakes three times more (penalty of 30) if the gold standard has a tag\n",
    "    that is not O but the candidate tag is O.\n",
    "\n",
    "    Args:\n",
    "        penalty (Int)\n",
    "    \"\"\"\n",
    "\n",
    "    def loss(gold, pred):\n",
    "        result = loss_val\n",
    "        if penalty > 0:\n",
    "            if gold != \"O\" and pred == \"O\":\n",
    "                result = penalty * result\n",
    "        return result if gold != pred else 0\n",
    "\n",
    "    return loss\n",
    "\n",
    "\n",
    "def svm_with_cost_func(cost_func):\n",
    "    def score(gold_labels, parameters, features):\n",
    "        return svm_score(\n",
    "            gold_labels, parameters, features, cost_func=cost_func\n",
    "        )\n",
    "\n",
    "    return score\n",
    "\n",
    "\n",
    "def perceptron_score(gold_labels, parameters, features):\n",
    "    # score function given current tag and previous tag with the parameter\n",
    "    def score(cur_tag, pre_tag, i):\n",
    "        # w dot f(x, y')\n",
    "        return parameters.dot_product(\n",
    "            features.compute_features(cur_tag, pre_tag, i)\n",
    "        )\n",
    "\n",
    "    return score\n",
    "\n",
    "\n",
    "def svm_score(gold_labels, parameters, features, cost_func=hamming_loss()):\n",
    "    # score function given current tag and previous tag with the parameter\n",
    "    def score(cur_tag, pre_tag, i):\n",
    "        # w dot f(x, y')\n",
    "        cost_val = cost_func(gold_labels[i], cur_tag)\n",
    "        cur_score = parameters.dot_product(\n",
    "            features.compute_features(cur_tag, pre_tag, i)\n",
    "        )\n",
    "        return cur_score + cost_val\n",
    "\n",
    "    return score\n",
    "\n",
    "\n",
    "def get_gradient(data, feature_names, tagset, parameters, score_func):\n",
    "\n",
    "    def subgradient(i):\n",
    "        \"\"\"\n",
    "        Computes the subgradient of the Perceptron loss for example i\n",
    "        :param i: Int\n",
    "        :return: FeatureVector\n",
    "        \"\"\"\n",
    "        # data point at i\n",
    "        inputs = data[i]\n",
    "        # get the token length\n",
    "        input_len = len(inputs[\"tokens\"])\n",
    "        # get the gold labels\n",
    "        gold_labels = inputs[\"gold_tags\"]\n",
    "        # get the features given feature names\n",
    "        features = Features(inputs, feature_names)\n",
    "        score = score_func(gold_labels, parameters, features)\n",
    "        # use viterbi algorithm for decoding the tags\n",
    "        tags = decode(input_len, tagset, score)\n",
    "        # print(tags, gold_labels)\n",
    "        # Add the predicted features\n",
    "        fvector = compute_features(tags, input_len, features)\n",
    "\n",
    "        # print(\"Input:\", inputs)  # helpful for debugging\n",
    "        # print(\"Predicted Feature Vector:\", fvector.fdict)\n",
    "        # print(\n",
    "        #     \"Predicted Score:\", parameters.dot_product(fvector)\n",
    "        # )  # compute_score(tags, input_len, score)\n",
    "\n",
    "        # Subtract the features for the gold labels\n",
    "        fvector.times_plus_equal(\n",
    "            -1, compute_features(gold_labels, input_len, features)\n",
    "        )\n",
    "        # print(\n",
    "        #     \"Gold Labels Feature Vector: \",\n",
    "        #     compute_features(gold_labels, input_len, features).fdict,\n",
    "        # )\n",
    "        # print(\n",
    "        #     \"Gold Labels Score:\",\n",
    "        #     parameters.dot_product(\n",
    "        #         compute_features(gold_labels, input_len, features)\n",
    "        #     ),\n",
    "        # )\n",
    "        # return the difference between features: which will be the update step\n",
    "        return fvector\n",
    "\n",
    "    return subgradient"
   ]
  },
  {
   "cell_type": "code",
   "execution_count": 517,
   "id": "ea10742c",
   "metadata": {
    "papermill": {
     "duration": null,
     "end_time": null,
     "exception": null,
     "start_time": null,
     "status": "completed"
    },
    "tags": []
   },
   "outputs": [],
   "source": [
    "def evaluate(\n",
    "    data, parameters, feature_names, tagset, score_func, verbose=False\n",
    "):\n",
    "    \"\"\"\n",
    "    Evaluates precision, recall, and F1 of the tagger compared to the gold standard in the data\n",
    "    :param data: Array of dictionaries representing the data.  One dictionary for each data point (as created by the\n",
    "        make_data_point function)\n",
    "    :param parameters: FeatureVector.  The model parameters\n",
    "    :param feature_names: Array of Strings.  The list of features.\n",
    "    :param tagset: Array of Strings.  The list of tags.\n",
    "    :return: Tuple of (prec, rec, f1)\n",
    "    \"\"\"\n",
    "    all_gold_tags = list()\n",
    "    all_predicted_tags = list()\n",
    "    for inputs in tqdm(data, desc=\"Evaluating...\", colour=\"green\"):\n",
    "        all_gold_tags.extend(\n",
    "            inputs[\"gold_tags\"][1:-1]\n",
    "        )  # deletes <START> and <STOP>\n",
    "        input_len = len(inputs[\"tokens\"])\n",
    "        all_predicted_tags.extend(\n",
    "            predict(\n",
    "                inputs,\n",
    "                input_len,\n",
    "                parameters,\n",
    "                feature_names,\n",
    "                tagset,\n",
    "                score_func,\n",
    "            )[1:-1]\n",
    "        )  # deletes <START> and <STOP>\n",
    "    return conllevaluate(all_gold_tags, all_predicted_tags, verbose)\n",
    "\n",
    "\n",
    "def write_reports(reports, filename, columns) -> None:\n",
    "    report_map = dict()\n",
    "    for i, column in enumerate(columns):\n",
    "        values = list()\n",
    "        for report in reports:\n",
    "            value = report[i]\n",
    "            values.append(value)\n",
    "        report_map[column] = values\n",
    "    \n",
    "    reports_dir = \"./reports\"\n",
    "    if not os.path.exists(reports_dir):\n",
    "        os.makedirs(reports_dir)\n",
    "    path = os.path.join(reports_dir, filename)\n",
    "    report_df = pd.DataFrame(data=report_map)\n",
    "    report_df.to_csv(path, index=False)"
   ]
  },
  {
   "cell_type": "code",
   "execution_count": 518,
   "id": "3d7c1dd0",
   "metadata": {
    "papermill": {
     "duration": null,
     "end_time": null,
     "exception": null,
     "start_time": null,
     "status": "completed"
    },
    "tags": []
   },
   "outputs": [],
   "source": [
    "def train(\n",
    "    data,\n",
    "    feature_names,\n",
    "    tagset,\n",
    "    epochs,\n",
    "    optimizer,\n",
    "    score_func=perceptron_score,\n",
    "    step_size=1,\n",
    ") :\n",
    "    \"\"\"\n",
    "    Trains the model on the data and returns the parameters\n",
    "    :param data: Array of dictionaries representing the data.  One dictionary for each data point (as created by the\n",
    "        make_data_point function).\n",
    "    :param feature_names: Array of Strings.  The list of feature names.\n",
    "    :param tagset: Array of Strings.  The list of tags.\n",
    "    :param epochs: Int. The number of epochs to train\n",
    "    :return: FeatureVector. The learned parameters.\n",
    "    \"\"\"\n",
    "\n",
    "    parameters = FeatureVector({})  # creates a zero vector\n",
    "    gradient = get_gradient(\n",
    "        data, feature_names, tagset, parameters, score_func\n",
    "    )\n",
    "\n",
    "    def training_observer(epoch, parameters):\n",
    "        \"\"\"\n",
    "        Evaluates the parameters on the development data, and writes out the parameters to a 'model.iter'+epoch and\n",
    "        the predictions to 'ner.dev.out'+epoch.\n",
    "        :param epoch: int.  The epoch\n",
    "        :param parameters: Feature Vector.  The current parameters\n",
    "        :return: Double. F1 on the development data\n",
    "        \"\"\"\n",
    "        (_, _, f1) = evaluate(\n",
    "            dev_data, parameters, feature_names, tagset, score_func\n",
    "        )\n",
    "\n",
    "        return f1\n",
    "\n",
    "    # return the final parameters\n",
    "    return optimizer(\n",
    "        training_size,\n",
    "        epochs,\n",
    "        gradient,\n",
    "        parameters,\n",
    "        training_observer,\n",
    "        step_size=step_size,\n",
    "    )"
   ]
  },
  {
   "cell_type": "code",
   "execution_count": 519,
   "id": "f1824b25",
   "metadata": {
    "papermill": {
     "duration": null,
     "end_time": null,
     "exception": null,
     "start_time": null,
     "status": "completed"
    },
    "tags": []
   },
   "outputs": [],
   "source": [
    "def evaluate_dev_and_test(parameters, feature_names, score, name) -> None:\n",
    "    report_cols = [\"precision\", \"recall\", \"f1\"]\n",
    "\n",
    "    # generating dev report\n",
    "    report = evaluate(dev_data, parameters, feature_names, tagset, score)\n",
    "    dev_precision, dev_recall, dev_f1 = report\n",
    "    print(f\"DEV SET | Precision: {dev_precision:.4f} | Recall: {dev_recall:.4f} | F-1 Score: {dev_f1:.4f}\")\n",
    "    write_predictions(\n",
    "        f\"{name}.dev.pred\",\n",
    "        dev_data,\n",
    "        parameters,\n",
    "        feature_names,\n",
    "        tagset,\n",
    "        score,\n",
    "    )\n",
    "    write_reports(\n",
    "        [list(report)],\n",
    "        f\"{name}.dev.report\",\n",
    "        report_cols,\n",
    "    )\n",
    "\n",
    "    # generating test report\n",
    "    report = evaluate(test_data, parameters, feature_names, tagset, score)\n",
    "    test_precision, test_recall, test_f1 = report\n",
    "    print(f\"TEST SET | Precision: {test_precision:.4f} | Recall: {test_recall:.4f} | F-1 Score: {test_f1:.4f}\")\n",
    "    write_predictions(\n",
    "        f\"{name}.test.pred\",\n",
    "        test_data,\n",
    "        parameters,\n",
    "        feature_names,\n",
    "        tagset,\n",
    "        score,\n",
    "    )\n",
    "    write_reports(\n",
    "        [list(report)],\n",
    "        f\"{name}.test.report\",\n",
    "        report_cols,\n",
    "    )"
   ]
  },
  {
   "cell_type": "code",
   "execution_count": 520,
   "id": "e16abe9b",
   "metadata": {},
   "outputs": [],
   "source": [
    "def header_printer(name: str) -> None:\n",
    "    print(\"*\" * 100)\n",
    "    print(name)\n",
    "    print(\"*\" * 100)"
   ]
  },
  {
   "cell_type": "code",
   "execution_count": 521,
   "id": "3f51247a",
   "metadata": {},
   "outputs": [],
   "source": [
    "def structured_perceptron(feature_names, name, optimizer, write_params=False) -> None:\n",
    "    header_printer(name)\n",
    "    parameters = train(\n",
    "        train_data,\n",
    "        feature_names,\n",
    "        tagset,\n",
    "        epochs=EPOCHS,\n",
    "        score_func=perceptron_score,\n",
    "        optimizer=optimizer,\n",
    "    )\n",
    "    evaluate_dev_and_test(\n",
    "        parameters, feature_names, perceptron_score, name=name\n",
    "    )\n",
    "    if write_params:\n",
    "        # write parameters\n",
    "        parameters.write_to_file(f\"{name}.parameters\")"
   ]
  },
  {
   "cell_type": "code",
   "execution_count": 522,
   "id": "c8519d20",
   "metadata": {},
   "outputs": [],
   "source": [
    "def structured_svm(cost, feature_names, name) -> None:\n",
    "    header_printer(name)\n",
    "    step_sizes = [10, 50, 100]\n",
    "    l2_lambdas = [0.0001, 0.0005, 0.001]\n",
    "    tunning_columns = [\"step_size\", \"l2_lambda\", \"precision\", \"recall\", \"f1\"]\n",
    "    score = svm_with_cost_func(cost)\n",
    "    max_f1 = float(\"-inf\")\n",
    "    best_parameters = FeatureVector({})\n",
    "    reports = list()\n",
    "    for step_size in step_sizes:\n",
    "        for l2_lambda in l2_lambdas:\n",
    "            print(f\"step: {step_size}, lambda: {l2_lambda}\")\n",
    "            parameters = train(\n",
    "                train_data,\n",
    "                feature_names,\n",
    "                tagset,\n",
    "                epochs=EPOCHS,\n",
    "                step_size=step_size,\n",
    "                score_func=score,\n",
    "                optimizer=optimizer(\n",
    "                    update_func=\"l2_regularizer\", l2_lambda=l2_lambda\n",
    "                ),\n",
    "            )\n",
    "            precision, recall, f1 = evaluate(\n",
    "                dev_data, parameters, feature_names, tagset, score\n",
    "            )\n",
    "            print(\n",
    "                f\"Tuning=> Precision: {precision:.4f} Recall: {recall:.4f} F-1: {f1:.4f}\\n\"\n",
    "            )\n",
    "            reports.append([step_size, l2_lambda, precision, recall, f1])\n",
    "            if f1 > max_f1:\n",
    "                tuned_step_size = step_size\n",
    "                tuned_l2_lambda = l2_lambda\n",
    "                best_parameters = FeatureVector({})\n",
    "                best_parameters.times_plus_equal(1, parameters)\n",
    "                max_f1 = f1\n",
    "    print(f\"\\nBest!! step: {tuned_step_size}, lambda: {tuned_l2_lambda}\\n\")\n",
    "    write_reports(reports, f\"{name}.tuning.report\", tunning_columns)\n",
    "    evaluate_dev_and_test(best_parameters, full_feature_set, score, name=name)"
   ]
  },
  {
   "attachments": {},
   "cell_type": "markdown",
   "id": "3c04d86f",
   "metadata": {},
   "source": [
    "# Limited Feature Set: Perceptron SSGD"
   ]
  },
  {
   "cell_type": "code",
   "execution_count": 523,
   "id": "3354b728",
   "metadata": {
    "papermill": {
     "duration": null,
     "end_time": null,
     "exception": null,
     "start_time": null,
     "status": "completed"
    },
    "tags": []
   },
   "outputs": [
    {
     "name": "stdout",
     "output_type": "stream",
     "text": [
      "****************************************************************************************************\n",
      "lfs_perceptron_ssgd\n",
      "****************************************************************************************************\n"
     ]
    },
    {
     "name": "stderr",
     "output_type": "stream",
     "text": [
      "Training...: 100%|\u001b[31m██████████\u001b[0m| 500/500 [00:01<00:00, 296.10it/s]\n",
      "Evaluating...: 100%|\u001b[32m██████████\u001b[0m| 100/100 [00:00<00:00, 253.07it/s]\n"
     ]
    },
    {
     "name": "stdout",
     "output_type": "stream",
     "text": [
      "Epoch 01 -> F1-Score: 18.3206\n"
     ]
    },
    {
     "name": "stderr",
     "output_type": "stream",
     "text": [
      "Training...: 100%|\u001b[31m██████████\u001b[0m| 500/500 [00:01<00:00, 290.61it/s]\n",
      "Evaluating...: 100%|\u001b[32m██████████\u001b[0m| 100/100 [00:00<00:00, 252.17it/s]\n"
     ]
    },
    {
     "name": "stdout",
     "output_type": "stream",
     "text": [
      "Epoch 02 -> F1-Score: 46.875\n"
     ]
    },
    {
     "name": "stderr",
     "output_type": "stream",
     "text": [
      "Training...: 100%|\u001b[31m██████████\u001b[0m| 500/500 [00:01<00:00, 294.19it/s]\n",
      "Evaluating...: 100%|\u001b[32m██████████\u001b[0m| 100/100 [00:00<00:00, 252.16it/s]\n"
     ]
    },
    {
     "name": "stdout",
     "output_type": "stream",
     "text": [
      "Epoch 03 -> F1-Score: 35.4916\n"
     ]
    },
    {
     "name": "stderr",
     "output_type": "stream",
     "text": [
      "Training...: 100%|\u001b[31m██████████\u001b[0m| 500/500 [00:01<00:00, 298.05it/s]\n",
      "Evaluating...: 100%|\u001b[32m██████████\u001b[0m| 100/100 [00:00<00:00, 256.80it/s]\n"
     ]
    },
    {
     "name": "stdout",
     "output_type": "stream",
     "text": [
      "Epoch 04 -> F1-Score: 57.284\n"
     ]
    },
    {
     "name": "stderr",
     "output_type": "stream",
     "text": [
      "Training...: 100%|\u001b[31m██████████\u001b[0m| 500/500 [00:01<00:00, 298.32it/s]\n",
      "Evaluating...: 100%|\u001b[32m██████████\u001b[0m| 100/100 [00:00<00:00, 252.08it/s]\n"
     ]
    },
    {
     "name": "stdout",
     "output_type": "stream",
     "text": [
      "Epoch 05 -> F1-Score: 46.4548\n"
     ]
    },
    {
     "name": "stderr",
     "output_type": "stream",
     "text": [
      "Evaluating...: 100%|\u001b[32m██████████\u001b[0m| 100/100 [00:00<00:00, 253.21it/s]\n"
     ]
    },
    {
     "name": "stdout",
     "output_type": "stream",
     "text": [
      "DEV SET | Precision: 59.1837 | Recall: 55.5024 | F-1 Score: 57.2840\n"
     ]
    },
    {
     "name": "stderr",
     "output_type": "stream",
     "text": [
      "Evaluating...: 100%|\u001b[32m██████████\u001b[0m| 100/100 [00:00<00:00, 328.67it/s]\n"
     ]
    },
    {
     "name": "stdout",
     "output_type": "stream",
     "text": [
      "TEST SET | Precision: 40.0000 | Recall: 39.2157 | F-1 Score: 39.6040\n",
      "Writing to lfs_perceptron_ssgd.parameters\n"
     ]
    }
   ],
   "source": [
    "structured_perceptron(\n",
    "    feature_names=limited_feature_set,\n",
    "    name=\"lfs_perceptron_ssgd\",\n",
    "    optimizer=optimizer(),\n",
    "    write_params=True\n",
    ")"
   ]
  },
  {
   "attachments": {},
   "cell_type": "markdown",
   "id": "a6865b1b",
   "metadata": {},
   "source": [
    "# Full Feature Set: Perceptron SSGD"
   ]
  },
  {
   "cell_type": "code",
   "execution_count": 524,
   "id": "f4569a44",
   "metadata": {},
   "outputs": [
    {
     "name": "stdout",
     "output_type": "stream",
     "text": [
      "****************************************************************************************************\n",
      "ffs_perceptron_ssgd\n",
      "****************************************************************************************************\n"
     ]
    },
    {
     "name": "stderr",
     "output_type": "stream",
     "text": [
      "Training...: 100%|\u001b[31m██████████\u001b[0m| 500/500 [03:27<00:00,  2.41it/s]\n",
      "Evaluating...: 100%|\u001b[32m██████████\u001b[0m| 100/100 [00:48<00:00,  2.08it/s]\n"
     ]
    },
    {
     "name": "stdout",
     "output_type": "stream",
     "text": [
      "Epoch 01 -> F1-Score: 40.5333\n"
     ]
    },
    {
     "name": "stderr",
     "output_type": "stream",
     "text": [
      "Training...: 100%|\u001b[31m██████████\u001b[0m| 500/500 [03:20<00:00,  2.49it/s]\n",
      "Evaluating...: 100%|\u001b[32m██████████\u001b[0m| 100/100 [00:47<00:00,  2.11it/s]\n"
     ]
    },
    {
     "name": "stdout",
     "output_type": "stream",
     "text": [
      "Epoch 02 -> F1-Score: 52.5581\n"
     ]
    },
    {
     "name": "stderr",
     "output_type": "stream",
     "text": [
      "Training...: 100%|\u001b[31m██████████\u001b[0m| 500/500 [03:19<00:00,  2.50it/s]\n",
      "Evaluating...: 100%|\u001b[32m██████████\u001b[0m| 100/100 [00:47<00:00,  2.12it/s]\n"
     ]
    },
    {
     "name": "stdout",
     "output_type": "stream",
     "text": [
      "Epoch 03 -> F1-Score: 58.1731\n"
     ]
    },
    {
     "name": "stderr",
     "output_type": "stream",
     "text": [
      "Training...: 100%|\u001b[31m██████████\u001b[0m| 500/500 [03:21<00:00,  2.48it/s]\n",
      "Evaluating...: 100%|\u001b[32m██████████\u001b[0m| 100/100 [00:48<00:00,  2.04it/s]\n"
     ]
    },
    {
     "name": "stdout",
     "output_type": "stream",
     "text": [
      "Epoch 04 -> F1-Score: 57.6112\n"
     ]
    },
    {
     "name": "stderr",
     "output_type": "stream",
     "text": [
      "Training...: 100%|\u001b[31m██████████\u001b[0m| 500/500 [03:25<00:00,  2.43it/s]\n",
      "Evaluating...: 100%|\u001b[32m██████████\u001b[0m| 100/100 [00:48<00:00,  2.07it/s]\n"
     ]
    },
    {
     "name": "stdout",
     "output_type": "stream",
     "text": [
      "Epoch 05 -> F1-Score: 58.794\n"
     ]
    },
    {
     "name": "stderr",
     "output_type": "stream",
     "text": [
      "Evaluating...: 100%|\u001b[32m██████████\u001b[0m| 100/100 [00:48<00:00,  2.06it/s]\n"
     ]
    },
    {
     "name": "stdout",
     "output_type": "stream",
     "text": [
      "DEV SET | Precision: 61.9048 | Recall: 55.9809 | F-1 Score: 58.7940\n"
     ]
    },
    {
     "name": "stderr",
     "output_type": "stream",
     "text": [
      "Evaluating...: 100%|\u001b[32m██████████\u001b[0m| 100/100 [00:35<00:00,  2.83it/s]\n"
     ]
    },
    {
     "name": "stdout",
     "output_type": "stream",
     "text": [
      "TEST SET | Precision: 49.2857 | Recall: 45.0980 | F-1 Score: 47.0990\n",
      "Writing to ffs_perceptron_ssgd.parameters\n"
     ]
    }
   ],
   "source": [
    "structured_perceptron(\n",
    "    feature_names=full_feature_set,\n",
    "    name=\"ffs_perceptron_ssgd\",\n",
    "    optimizer=optimizer(),\n",
    "    write_params=True\n",
    ")"
   ]
  },
  {
   "attachments": {},
   "cell_type": "markdown",
   "id": "93b2311e",
   "metadata": {},
   "source": [
    "# Full Feature Set: Perceptron Adagrad"
   ]
  },
  {
   "cell_type": "code",
   "execution_count": 525,
   "id": "27d89a33",
   "metadata": {},
   "outputs": [
    {
     "name": "stdout",
     "output_type": "stream",
     "text": [
      "****************************************************************************************************\n",
      "ffs_perceptron_adagrad\n",
      "****************************************************************************************************\n"
     ]
    },
    {
     "name": "stderr",
     "output_type": "stream",
     "text": [
      "Training...: 100%|\u001b[31m██████████\u001b[0m| 500/500 [03:27<00:00,  2.41it/s]\n",
      "Evaluating...: 100%|\u001b[32m██████████\u001b[0m| 100/100 [00:47<00:00,  2.09it/s]\n"
     ]
    },
    {
     "name": "stdout",
     "output_type": "stream",
     "text": [
      "Epoch 01 -> F1-Score: 56.0\n"
     ]
    },
    {
     "name": "stderr",
     "output_type": "stream",
     "text": [
      "Training...: 100%|\u001b[31m██████████\u001b[0m| 500/500 [03:29<00:00,  2.38it/s]\n",
      "Evaluating...: 100%|\u001b[32m██████████\u001b[0m| 100/100 [00:48<00:00,  2.05it/s]\n"
     ]
    },
    {
     "name": "stdout",
     "output_type": "stream",
     "text": [
      "Epoch 02 -> F1-Score: 61.9855\n"
     ]
    },
    {
     "name": "stderr",
     "output_type": "stream",
     "text": [
      "Training...: 100%|\u001b[31m██████████\u001b[0m| 500/500 [03:32<00:00,  2.35it/s]\n",
      "Evaluating...: 100%|\u001b[32m██████████\u001b[0m| 100/100 [00:48<00:00,  2.07it/s]\n"
     ]
    },
    {
     "name": "stdout",
     "output_type": "stream",
     "text": [
      "Epoch 03 -> F1-Score: 64.4391\n"
     ]
    },
    {
     "name": "stderr",
     "output_type": "stream",
     "text": [
      "Training...: 100%|\u001b[31m██████████\u001b[0m| 500/500 [03:29<00:00,  2.39it/s]\n",
      "Evaluating...: 100%|\u001b[32m██████████\u001b[0m| 100/100 [00:48<00:00,  2.07it/s]\n"
     ]
    },
    {
     "name": "stdout",
     "output_type": "stream",
     "text": [
      "Epoch 04 -> F1-Score: 64.4231\n"
     ]
    },
    {
     "name": "stderr",
     "output_type": "stream",
     "text": [
      "Training...: 100%|\u001b[31m██████████\u001b[0m| 500/500 [03:29<00:00,  2.39it/s]\n",
      "Evaluating...: 100%|\u001b[32m██████████\u001b[0m| 100/100 [00:48<00:00,  2.05it/s]\n"
     ]
    },
    {
     "name": "stdout",
     "output_type": "stream",
     "text": [
      "Epoch 05 -> F1-Score: 63.1325\n"
     ]
    },
    {
     "name": "stderr",
     "output_type": "stream",
     "text": [
      "Evaluating...: 100%|\u001b[32m██████████\u001b[0m| 100/100 [00:48<00:00,  2.07it/s]\n"
     ]
    },
    {
     "name": "stdout",
     "output_type": "stream",
     "text": [
      "DEV SET | Precision: 64.2857 | Recall: 64.5933 | F-1 Score: 64.4391\n"
     ]
    },
    {
     "name": "stderr",
     "output_type": "stream",
     "text": [
      "Evaluating...: 100%|\u001b[32m██████████\u001b[0m| 100/100 [00:35<00:00,  2.82it/s]\n"
     ]
    },
    {
     "name": "stdout",
     "output_type": "stream",
     "text": [
      "TEST SET | Precision: 46.6258 | Recall: 49.6732 | F-1 Score: 48.1013\n"
     ]
    }
   ],
   "source": [
    "structured_perceptron(\n",
    "    feature_names=full_feature_set,\n",
    "    name=\"ffs_perceptron_adagrad\",\n",
    "    optimizer=optimizer(update_func=\"adagrad\")\n",
    ")"
   ]
  },
  {
   "attachments": {},
   "cell_type": "markdown",
   "id": "395f6690",
   "metadata": {},
   "source": [
    "# Full Feature Set: SVM SSGD"
   ]
  },
  {
   "cell_type": "code",
   "execution_count": 526,
   "id": "ed297d83",
   "metadata": {},
   "outputs": [
    {
     "name": "stdout",
     "output_type": "stream",
     "text": [
      "****************************************************************************************************\n",
      "ffs_svm_ssgd\n",
      "****************************************************************************************************\n",
      "step: 10, lambda: 0.0001\n"
     ]
    },
    {
     "name": "stderr",
     "output_type": "stream",
     "text": [
      "Training...: 100%|\u001b[31m██████████\u001b[0m| 500/500 [03:27<00:00,  2.41it/s]\n",
      "Evaluating...: 100%|\u001b[32m██████████\u001b[0m| 100/100 [00:48<00:00,  2.07it/s]\n"
     ]
    },
    {
     "name": "stdout",
     "output_type": "stream",
     "text": [
      "Epoch 01 -> F1-Score: 45.2316\n"
     ]
    },
    {
     "name": "stderr",
     "output_type": "stream",
     "text": [
      "Training...: 100%|\u001b[31m██████████\u001b[0m| 500/500 [03:27<00:00,  2.41it/s]\n",
      "Evaluating...: 100%|\u001b[32m██████████\u001b[0m| 100/100 [00:48<00:00,  2.07it/s]\n"
     ]
    },
    {
     "name": "stdout",
     "output_type": "stream",
     "text": [
      "Epoch 02 -> F1-Score: 48.7685\n"
     ]
    },
    {
     "name": "stderr",
     "output_type": "stream",
     "text": [
      "Training...: 100%|\u001b[31m██████████\u001b[0m| 500/500 [03:36<00:00,  2.31it/s]\n",
      "Evaluating...: 100%|\u001b[32m██████████\u001b[0m| 100/100 [00:50<00:00,  1.98it/s]\n"
     ]
    },
    {
     "name": "stdout",
     "output_type": "stream",
     "text": [
      "Epoch 03 -> F1-Score: 50.4762\n"
     ]
    },
    {
     "name": "stderr",
     "output_type": "stream",
     "text": [
      "Training...: 100%|\u001b[31m██████████\u001b[0m| 500/500 [03:36<00:00,  2.31it/s]\n",
      "Evaluating...: 100%|\u001b[32m██████████\u001b[0m| 100/100 [00:48<00:00,  2.07it/s]\n"
     ]
    },
    {
     "name": "stdout",
     "output_type": "stream",
     "text": [
      "Epoch 04 -> F1-Score: 48.3627\n"
     ]
    },
    {
     "name": "stderr",
     "output_type": "stream",
     "text": [
      "Training...: 100%|\u001b[31m██████████\u001b[0m| 500/500 [03:29<00:00,  2.39it/s]\n",
      "Evaluating...: 100%|\u001b[32m██████████\u001b[0m| 100/100 [00:47<00:00,  2.13it/s]\n"
     ]
    },
    {
     "name": "stdout",
     "output_type": "stream",
     "text": [
      "Epoch 05 -> F1-Score: 49.2823\n"
     ]
    },
    {
     "name": "stderr",
     "output_type": "stream",
     "text": [
      "Evaluating...: 100%|\u001b[32m██████████\u001b[0m| 100/100 [00:46<00:00,  2.15it/s]\n"
     ]
    },
    {
     "name": "stdout",
     "output_type": "stream",
     "text": [
      "Tuning=> Precision: 50.2370 Recall: 50.7177 F-1: 50.4762\n",
      "\n",
      "step: 10, lambda: 0.0005\n"
     ]
    },
    {
     "name": "stderr",
     "output_type": "stream",
     "text": [
      "Training...: 100%|\u001b[31m██████████\u001b[0m| 500/500 [03:18<00:00,  2.51it/s]\n",
      "Evaluating...: 100%|\u001b[32m██████████\u001b[0m| 100/100 [31:49<00:00, 19.09s/it]  \n"
     ]
    },
    {
     "name": "stdout",
     "output_type": "stream",
     "text": [
      "Epoch 01 -> F1-Score: 35.4571\n"
     ]
    },
    {
     "name": "stderr",
     "output_type": "stream",
     "text": [
      "Training...: 100%|\u001b[31m██████████\u001b[0m| 500/500 [28:01<00:00,  3.36s/it]   \n",
      "Evaluating...: 100%|\u001b[32m██████████\u001b[0m| 100/100 [00:47<00:00,  2.09it/s]\n"
     ]
    },
    {
     "name": "stdout",
     "output_type": "stream",
     "text": [
      "Epoch 02 -> F1-Score: 39.3162\n"
     ]
    },
    {
     "name": "stderr",
     "output_type": "stream",
     "text": [
      "Training...: 100%|\u001b[31m██████████\u001b[0m| 500/500 [03:26<00:00,  2.42it/s]\n",
      "Evaluating...: 100%|\u001b[32m██████████\u001b[0m| 100/100 [00:47<00:00,  2.11it/s]\n"
     ]
    },
    {
     "name": "stdout",
     "output_type": "stream",
     "text": [
      "Epoch 03 -> F1-Score: 13.3891\n"
     ]
    },
    {
     "name": "stderr",
     "output_type": "stream",
     "text": [
      "Training...: 100%|\u001b[31m██████████\u001b[0m| 500/500 [03:27<00:00,  2.40it/s]\n",
      "Evaluating...: 100%|\u001b[32m██████████\u001b[0m| 100/100 [00:47<00:00,  2.11it/s]\n"
     ]
    },
    {
     "name": "stdout",
     "output_type": "stream",
     "text": [
      "Epoch 04 -> F1-Score: 33.833\n"
     ]
    },
    {
     "name": "stderr",
     "output_type": "stream",
     "text": [
      "Training...: 100%|\u001b[31m██████████\u001b[0m| 500/500 [03:24<00:00,  2.44it/s]\n",
      "Evaluating...: 100%|\u001b[32m██████████\u001b[0m| 100/100 [00:47<00:00,  2.12it/s]\n"
     ]
    },
    {
     "name": "stdout",
     "output_type": "stream",
     "text": [
      "Epoch 05 -> F1-Score: 38.835\n"
     ]
    },
    {
     "name": "stderr",
     "output_type": "stream",
     "text": [
      "Evaluating...: 100%|\u001b[32m██████████\u001b[0m| 100/100 [00:46<00:00,  2.13it/s]\n"
     ]
    },
    {
     "name": "stdout",
     "output_type": "stream",
     "text": [
      "Tuning=> Precision: 35.5212 Recall: 44.0191 F-1: 39.3162\n",
      "\n",
      "step: 10, lambda: 0.001\n"
     ]
    },
    {
     "name": "stderr",
     "output_type": "stream",
     "text": [
      "Training...: 100%|\u001b[31m██████████\u001b[0m| 500/500 [03:20<00:00,  2.49it/s]\n",
      "Evaluating...: 100%|\u001b[32m██████████\u001b[0m| 100/100 [00:46<00:00,  2.14it/s]\n"
     ]
    },
    {
     "name": "stdout",
     "output_type": "stream",
     "text": [
      "Epoch 01 -> F1-Score: 30.3419\n"
     ]
    },
    {
     "name": "stderr",
     "output_type": "stream",
     "text": [
      "Training...: 100%|\u001b[31m██████████\u001b[0m| 500/500 [03:20<00:00,  2.49it/s]\n",
      "Evaluating...: 100%|\u001b[32m██████████\u001b[0m| 100/100 [00:47<00:00,  2.12it/s]\n"
     ]
    },
    {
     "name": "stdout",
     "output_type": "stream",
     "text": [
      "Epoch 02 -> F1-Score: 5.1282\n"
     ]
    },
    {
     "name": "stderr",
     "output_type": "stream",
     "text": [
      "Training...: 100%|\u001b[31m██████████\u001b[0m| 500/500 [07:21<00:00,  1.13it/s] \n",
      "Evaluating...: 100%|\u001b[32m██████████\u001b[0m| 100/100 [00:47<00:00,  2.09it/s]\n"
     ]
    },
    {
     "name": "stdout",
     "output_type": "stream",
     "text": [
      "Epoch 03 -> F1-Score: 16.5289\n"
     ]
    },
    {
     "name": "stderr",
     "output_type": "stream",
     "text": [
      "Training...: 100%|\u001b[31m██████████\u001b[0m| 500/500 [03:29<00:00,  2.39it/s]\n",
      "Evaluating...: 100%|\u001b[32m██████████\u001b[0m| 100/100 [00:52<00:00,  1.91it/s]\n"
     ]
    },
    {
     "name": "stdout",
     "output_type": "stream",
     "text": [
      "Epoch 04 -> F1-Score: 24.5614\n"
     ]
    },
    {
     "name": "stderr",
     "output_type": "stream",
     "text": [
      "Training...: 100%|\u001b[31m██████████\u001b[0m| 500/500 [03:32<00:00,  2.35it/s]\n",
      "Evaluating...: 100%|\u001b[32m██████████\u001b[0m| 100/100 [00:50<00:00,  2.00it/s]\n"
     ]
    },
    {
     "name": "stdout",
     "output_type": "stream",
     "text": [
      "Epoch 05 -> F1-Score: 25.6131\n"
     ]
    },
    {
     "name": "stderr",
     "output_type": "stream",
     "text": [
      "Evaluating...: 100%|\u001b[32m██████████\u001b[0m| 100/100 [00:49<00:00,  2.03it/s]\n"
     ]
    },
    {
     "name": "stdout",
     "output_type": "stream",
     "text": [
      "Tuning=> Precision: 27.4131 Recall: 33.9713 F-1: 30.3419\n",
      "\n",
      "step: 50, lambda: 0.0001\n"
     ]
    },
    {
     "name": "stderr",
     "output_type": "stream",
     "text": [
      "Training...: 100%|\u001b[31m██████████\u001b[0m| 500/500 [03:28<00:00,  2.39it/s]\n",
      "Evaluating...: 100%|\u001b[32m██████████\u001b[0m| 100/100 [00:48<00:00,  2.06it/s]\n"
     ]
    },
    {
     "name": "stdout",
     "output_type": "stream",
     "text": [
      "Epoch 01 -> F1-Score: 6.5306\n"
     ]
    },
    {
     "name": "stderr",
     "output_type": "stream",
     "text": [
      "Training...: 100%|\u001b[31m██████████\u001b[0m| 500/500 [03:32<00:00,  2.35it/s]\n",
      "Evaluating...: 100%|\u001b[32m██████████\u001b[0m| 100/100 [00:48<00:00,  2.04it/s]\n"
     ]
    },
    {
     "name": "stdout",
     "output_type": "stream",
     "text": [
      "Epoch 02 -> F1-Score: 42.2535\n"
     ]
    },
    {
     "name": "stderr",
     "output_type": "stream",
     "text": [
      "Training...: 100%|\u001b[31m██████████\u001b[0m| 500/500 [03:25<00:00,  2.43it/s]\n",
      "Evaluating...: 100%|\u001b[32m██████████\u001b[0m| 100/100 [00:48<00:00,  2.04it/s]\n"
     ]
    },
    {
     "name": "stdout",
     "output_type": "stream",
     "text": [
      "Epoch 03 -> F1-Score: 21.7252\n"
     ]
    },
    {
     "name": "stderr",
     "output_type": "stream",
     "text": [
      "Training...: 100%|\u001b[31m██████████\u001b[0m| 500/500 [03:30<00:00,  2.37it/s]\n",
      "Evaluating...: 100%|\u001b[32m██████████\u001b[0m| 100/100 [00:47<00:00,  2.11it/s]\n"
     ]
    },
    {
     "name": "stdout",
     "output_type": "stream",
     "text": [
      "Epoch 04 -> F1-Score: 33.6406\n"
     ]
    },
    {
     "name": "stderr",
     "output_type": "stream",
     "text": [
      "Training...: 100%|\u001b[31m██████████\u001b[0m| 500/500 [03:25<00:00,  2.43it/s]\n",
      "Evaluating...: 100%|\u001b[32m██████████\u001b[0m| 100/100 [00:47<00:00,  2.10it/s]\n"
     ]
    },
    {
     "name": "stdout",
     "output_type": "stream",
     "text": [
      "Epoch 05 -> F1-Score: 37.3494\n"
     ]
    },
    {
     "name": "stderr",
     "output_type": "stream",
     "text": [
      "Evaluating...: 100%|\u001b[32m██████████\u001b[0m| 100/100 [00:46<00:00,  2.13it/s]\n"
     ]
    },
    {
     "name": "stdout",
     "output_type": "stream",
     "text": [
      "Tuning=> Precision: 41.4747 Recall: 43.0622 F-1: 42.2535\n",
      "\n",
      "step: 50, lambda: 0.0005\n"
     ]
    },
    {
     "name": "stderr",
     "output_type": "stream",
     "text": [
      "Training...: 100%|\u001b[31m██████████\u001b[0m| 500/500 [03:22<00:00,  2.47it/s]\n",
      "Evaluating...: 100%|\u001b[32m██████████\u001b[0m| 100/100 [00:47<00:00,  2.09it/s]\n"
     ]
    },
    {
     "name": "stdout",
     "output_type": "stream",
     "text": [
      "Epoch 01 -> F1-Score: 5.4299\n"
     ]
    },
    {
     "name": "stderr",
     "output_type": "stream",
     "text": [
      "Training...: 100%|\u001b[31m██████████\u001b[0m| 500/500 [03:31<00:00,  2.37it/s]\n",
      "Evaluating...: 100%|\u001b[32m██████████\u001b[0m| 100/100 [00:48<00:00,  2.04it/s]\n"
     ]
    },
    {
     "name": "stdout",
     "output_type": "stream",
     "text": [
      "Epoch 02 -> F1-Score: 1.8692\n"
     ]
    },
    {
     "name": "stderr",
     "output_type": "stream",
     "text": [
      "Training...: 100%|\u001b[31m██████████\u001b[0m| 500/500 [03:31<00:00,  2.36it/s]\n",
      "Evaluating...: 100%|\u001b[32m██████████\u001b[0m| 100/100 [00:48<00:00,  2.08it/s]\n"
     ]
    },
    {
     "name": "stdout",
     "output_type": "stream",
     "text": [
      "Epoch 03 -> F1-Score: 4.4728\n"
     ]
    },
    {
     "name": "stderr",
     "output_type": "stream",
     "text": [
      "Training...: 100%|\u001b[31m██████████\u001b[0m| 500/500 [03:25<00:00,  2.44it/s]\n",
      "Evaluating...: 100%|\u001b[32m██████████\u001b[0m| 100/100 [00:47<00:00,  2.12it/s]\n"
     ]
    },
    {
     "name": "stdout",
     "output_type": "stream",
     "text": [
      "Epoch 04 -> F1-Score: 11.4943\n"
     ]
    },
    {
     "name": "stderr",
     "output_type": "stream",
     "text": [
      "Training...: 100%|\u001b[31m██████████\u001b[0m| 500/500 [03:23<00:00,  2.45it/s]\n",
      "Evaluating...: 100%|\u001b[32m██████████\u001b[0m| 100/100 [00:47<00:00,  2.11it/s]\n"
     ]
    },
    {
     "name": "stdout",
     "output_type": "stream",
     "text": [
      "Epoch 05 -> F1-Score: 22.6415\n"
     ]
    },
    {
     "name": "stderr",
     "output_type": "stream",
     "text": [
      "Evaluating...: 100%|\u001b[32m██████████\u001b[0m| 100/100 [00:46<00:00,  2.14it/s]\n"
     ]
    },
    {
     "name": "stdout",
     "output_type": "stream",
     "text": [
      "Tuning=> Precision: 22.3256 Recall: 22.9665 F-1: 22.6415\n",
      "\n",
      "step: 50, lambda: 0.001\n"
     ]
    },
    {
     "name": "stderr",
     "output_type": "stream",
     "text": [
      "Training...: 100%|\u001b[31m██████████\u001b[0m| 500/500 [03:24<00:00,  2.44it/s]\n",
      "Evaluating...: 100%|\u001b[32m██████████\u001b[0m| 100/100 [00:49<00:00,  2.02it/s]\n"
     ]
    },
    {
     "name": "stdout",
     "output_type": "stream",
     "text": [
      "Epoch 01 -> F1-Score: 7.7465\n"
     ]
    },
    {
     "name": "stderr",
     "output_type": "stream",
     "text": [
      "Training...: 100%|\u001b[31m██████████\u001b[0m| 500/500 [03:29<00:00,  2.38it/s]\n",
      "Evaluating...: 100%|\u001b[32m██████████\u001b[0m| 100/100 [00:50<00:00,  1.98it/s]\n"
     ]
    },
    {
     "name": "stdout",
     "output_type": "stream",
     "text": [
      "Epoch 02 -> F1-Score: 0\n"
     ]
    },
    {
     "name": "stderr",
     "output_type": "stream",
     "text": [
      "Training...: 100%|\u001b[31m██████████\u001b[0m| 500/500 [03:35<00:00,  2.32it/s]\n",
      "Evaluating...: 100%|\u001b[32m██████████\u001b[0m| 100/100 [00:48<00:00,  2.07it/s]\n"
     ]
    },
    {
     "name": "stdout",
     "output_type": "stream",
     "text": [
      "Epoch 03 -> F1-Score: 3.2922\n"
     ]
    },
    {
     "name": "stderr",
     "output_type": "stream",
     "text": [
      "Training...: 100%|\u001b[31m██████████\u001b[0m| 500/500 [03:41<00:00,  2.25it/s]\n",
      "Evaluating...: 100%|\u001b[32m██████████\u001b[0m| 100/100 [00:50<00:00,  1.97it/s]\n"
     ]
    },
    {
     "name": "stdout",
     "output_type": "stream",
     "text": [
      "Epoch 04 -> F1-Score: 7.0313\n"
     ]
    },
    {
     "name": "stderr",
     "output_type": "stream",
     "text": [
      "Training...: 100%|\u001b[31m██████████\u001b[0m| 500/500 [03:37<00:00,  2.30it/s]\n",
      "Evaluating...: 100%|\u001b[32m██████████\u001b[0m| 100/100 [00:49<00:00,  2.03it/s]\n"
     ]
    },
    {
     "name": "stdout",
     "output_type": "stream",
     "text": [
      "Epoch 05 -> F1-Score: 4.5249\n"
     ]
    },
    {
     "name": "stderr",
     "output_type": "stream",
     "text": [
      "Evaluating...: 100%|\u001b[32m██████████\u001b[0m| 100/100 [00:49<00:00,  2.03it/s]\n"
     ]
    },
    {
     "name": "stdout",
     "output_type": "stream",
     "text": [
      "Tuning=> Precision: 14.6667 Recall: 5.2632 F-1: 7.7465\n",
      "\n",
      "step: 100, lambda: 0.0001\n"
     ]
    },
    {
     "name": "stderr",
     "output_type": "stream",
     "text": [
      "Training...: 100%|\u001b[31m██████████\u001b[0m| 500/500 [03:28<00:00,  2.39it/s]\n",
      "Evaluating...: 100%|\u001b[32m██████████\u001b[0m| 100/100 [00:47<00:00,  2.11it/s]\n"
     ]
    },
    {
     "name": "stdout",
     "output_type": "stream",
     "text": [
      "Epoch 01 -> F1-Score: 22.7451\n"
     ]
    },
    {
     "name": "stderr",
     "output_type": "stream",
     "text": [
      "Training...: 100%|\u001b[31m██████████\u001b[0m| 500/500 [03:23<00:00,  2.45it/s]\n",
      "Evaluating...: 100%|\u001b[32m██████████\u001b[0m| 100/100 [00:47<00:00,  2.12it/s]\n"
     ]
    },
    {
     "name": "stdout",
     "output_type": "stream",
     "text": [
      "Epoch 02 -> F1-Score: 28.9474\n"
     ]
    },
    {
     "name": "stderr",
     "output_type": "stream",
     "text": [
      "Training...: 100%|\u001b[31m██████████\u001b[0m| 500/500 [03:23<00:00,  2.46it/s]\n",
      "Evaluating...: 100%|\u001b[32m██████████\u001b[0m| 100/100 [00:47<00:00,  2.12it/s]\n"
     ]
    },
    {
     "name": "stdout",
     "output_type": "stream",
     "text": [
      "Epoch 03 -> F1-Score: 33.5601\n"
     ]
    },
    {
     "name": "stderr",
     "output_type": "stream",
     "text": [
      "Training...: 100%|\u001b[31m██████████\u001b[0m| 500/500 [03:23<00:00,  2.45it/s]\n",
      "Evaluating...: 100%|\u001b[32m██████████\u001b[0m| 100/100 [00:49<00:00,  2.04it/s]\n"
     ]
    },
    {
     "name": "stdout",
     "output_type": "stream",
     "text": [
      "Epoch 04 -> F1-Score: 17.1429\n"
     ]
    },
    {
     "name": "stderr",
     "output_type": "stream",
     "text": [
      "Training...: 100%|\u001b[31m██████████\u001b[0m| 500/500 [03:31<00:00,  2.36it/s]\n",
      "Evaluating...: 100%|\u001b[32m██████████\u001b[0m| 100/100 [00:48<00:00,  2.06it/s]\n"
     ]
    },
    {
     "name": "stdout",
     "output_type": "stream",
     "text": [
      "Epoch 05 -> F1-Score: 33.5802\n"
     ]
    },
    {
     "name": "stderr",
     "output_type": "stream",
     "text": [
      "Evaluating...: 100%|\u001b[32m██████████\u001b[0m| 100/100 [00:48<00:00,  2.05it/s]\n"
     ]
    },
    {
     "name": "stdout",
     "output_type": "stream",
     "text": [
      "Tuning=> Precision: 34.6939 Recall: 32.5359 F-1: 33.5802\n",
      "\n",
      "step: 100, lambda: 0.0005\n"
     ]
    },
    {
     "name": "stderr",
     "output_type": "stream",
     "text": [
      "Training...: 100%|\u001b[31m██████████\u001b[0m| 500/500 [03:24<00:00,  2.44it/s]\n",
      "Evaluating...: 100%|\u001b[32m██████████\u001b[0m| 100/100 [00:48<00:00,  2.07it/s]\n"
     ]
    },
    {
     "name": "stdout",
     "output_type": "stream",
     "text": [
      "Epoch 01 -> F1-Score: 16.1369\n"
     ]
    },
    {
     "name": "stderr",
     "output_type": "stream",
     "text": [
      "Training...: 100%|\u001b[31m██████████\u001b[0m| 500/500 [03:26<00:00,  2.42it/s]\n",
      "Evaluating...: 100%|\u001b[32m██████████\u001b[0m| 100/100 [00:47<00:00,  2.10it/s]\n"
     ]
    },
    {
     "name": "stdout",
     "output_type": "stream",
     "text": [
      "Epoch 02 -> F1-Score: 2.8302\n"
     ]
    },
    {
     "name": "stderr",
     "output_type": "stream",
     "text": [
      "Training...: 100%|\u001b[31m██████████\u001b[0m| 500/500 [03:26<00:00,  2.42it/s]\n",
      "Evaluating...: 100%|\u001b[32m██████████\u001b[0m| 100/100 [00:47<00:00,  2.09it/s]\n"
     ]
    },
    {
     "name": "stdout",
     "output_type": "stream",
     "text": [
      "Epoch 03 -> F1-Score: 11.0169\n"
     ]
    },
    {
     "name": "stderr",
     "output_type": "stream",
     "text": [
      "Training...: 100%|\u001b[31m██████████\u001b[0m| 500/500 [03:29<00:00,  2.38it/s]\n",
      "Evaluating...: 100%|\u001b[32m██████████\u001b[0m| 100/100 [00:48<00:00,  2.07it/s]\n"
     ]
    },
    {
     "name": "stdout",
     "output_type": "stream",
     "text": [
      "Epoch 04 -> F1-Score: 27.2537\n"
     ]
    },
    {
     "name": "stderr",
     "output_type": "stream",
     "text": [
      "Training...: 100%|\u001b[31m██████████\u001b[0m| 500/500 [03:29<00:00,  2.39it/s]\n",
      "Evaluating...: 100%|\u001b[32m██████████\u001b[0m| 100/100 [00:47<00:00,  2.09it/s]\n"
     ]
    },
    {
     "name": "stdout",
     "output_type": "stream",
     "text": [
      "Epoch 05 -> F1-Score: 15.864\n"
     ]
    },
    {
     "name": "stderr",
     "output_type": "stream",
     "text": [
      "Evaluating...: 100%|\u001b[32m██████████\u001b[0m| 100/100 [00:48<00:00,  2.06it/s]\n"
     ]
    },
    {
     "name": "stdout",
     "output_type": "stream",
     "text": [
      "Tuning=> Precision: 24.2537 Recall: 31.1005 F-1: 27.2537\n",
      "\n",
      "step: 100, lambda: 0.001\n"
     ]
    },
    {
     "name": "stderr",
     "output_type": "stream",
     "text": [
      "Training...: 100%|\u001b[31m██████████\u001b[0m| 500/500 [03:34<00:00,  2.33it/s]\n",
      "Evaluating...: 100%|\u001b[32m██████████\u001b[0m| 100/100 [00:48<00:00,  2.06it/s]\n"
     ]
    },
    {
     "name": "stdout",
     "output_type": "stream",
     "text": [
      "Epoch 01 -> F1-Score: 5.2402\n"
     ]
    },
    {
     "name": "stderr",
     "output_type": "stream",
     "text": [
      "Training...: 100%|\u001b[31m██████████\u001b[0m| 500/500 [03:28<00:00,  2.40it/s]\n",
      "Evaluating...: 100%|\u001b[32m██████████\u001b[0m| 100/100 [00:48<00:00,  2.05it/s]\n"
     ]
    },
    {
     "name": "stdout",
     "output_type": "stream",
     "text": [
      "Epoch 02 -> F1-Score: 8.547\n"
     ]
    },
    {
     "name": "stderr",
     "output_type": "stream",
     "text": [
      "Training...: 100%|\u001b[31m██████████\u001b[0m| 500/500 [03:34<00:00,  2.34it/s]\n",
      "Evaluating...: 100%|\u001b[32m██████████\u001b[0m| 100/100 [00:48<00:00,  2.06it/s]\n"
     ]
    },
    {
     "name": "stdout",
     "output_type": "stream",
     "text": [
      "Epoch 03 -> F1-Score: 6.6421\n"
     ]
    },
    {
     "name": "stderr",
     "output_type": "stream",
     "text": [
      "Training...: 100%|\u001b[31m██████████\u001b[0m| 500/500 [03:30<00:00,  2.37it/s]\n",
      "Evaluating...: 100%|\u001b[32m██████████\u001b[0m| 100/100 [00:47<00:00,  2.11it/s]\n"
     ]
    },
    {
     "name": "stdout",
     "output_type": "stream",
     "text": [
      "Epoch 04 -> F1-Score: 26.3789\n"
     ]
    },
    {
     "name": "stderr",
     "output_type": "stream",
     "text": [
      "Training...: 100%|\u001b[31m██████████\u001b[0m| 500/500 [03:26<00:00,  2.42it/s]\n",
      "Evaluating...: 100%|\u001b[32m██████████\u001b[0m| 100/100 [00:46<00:00,  2.13it/s]\n"
     ]
    },
    {
     "name": "stdout",
     "output_type": "stream",
     "text": [
      "Epoch 05 -> F1-Score: 21.6102\n"
     ]
    },
    {
     "name": "stderr",
     "output_type": "stream",
     "text": [
      "Evaluating...: 100%|\u001b[32m██████████\u001b[0m| 100/100 [00:46<00:00,  2.13it/s]\n"
     ]
    },
    {
     "name": "stdout",
     "output_type": "stream",
     "text": [
      "Tuning=> Precision: 26.4423 Recall: 26.3158 F-1: 26.3789\n",
      "\n",
      "\n",
      "Best!! step: 10, lambda: 0.0001\n",
      "\n"
     ]
    },
    {
     "name": "stderr",
     "output_type": "stream",
     "text": [
      "Evaluating...: 100%|\u001b[32m██████████\u001b[0m| 100/100 [00:46<00:00,  2.13it/s]\n"
     ]
    },
    {
     "name": "stdout",
     "output_type": "stream",
     "text": [
      "DEV SET | Precision: 50.2370 | Recall: 50.7177 | F-1 Score: 50.4762\n"
     ]
    },
    {
     "name": "stderr",
     "output_type": "stream",
     "text": [
      "Evaluating...: 100%|\u001b[32m██████████\u001b[0m| 100/100 [00:34<00:00,  2.91it/s]\n"
     ]
    },
    {
     "name": "stdout",
     "output_type": "stream",
     "text": [
      "TEST SET | Precision: 46.5409 | Recall: 48.3660 | F-1 Score: 47.4359\n"
     ]
    }
   ],
   "source": [
    "structured_svm(\n",
    "    hamming_loss(), \n",
    "    feature_names=full_feature_set, \n",
    "    name=\"ffs_svm_ssgd\"\n",
    ")"
   ]
  },
  {
   "attachments": {},
   "cell_type": "markdown",
   "id": "275ba1ae",
   "metadata": {},
   "source": [
    "# Full Feature Set: Modified SVM SSGD"
   ]
  },
  {
   "cell_type": "code",
   "execution_count": 527,
   "id": "3a2e58a5",
   "metadata": {},
   "outputs": [
    {
     "name": "stdout",
     "output_type": "stream",
     "text": [
      "****************************************************************************************************\n",
      "ffs_modified_svm_ssgd\n",
      "****************************************************************************************************\n",
      "step: 10, lambda: 0.0001\n"
     ]
    },
    {
     "name": "stderr",
     "output_type": "stream",
     "text": [
      "Training...: 100%|\u001b[31m██████████\u001b[0m| 500/500 [03:19<00:00,  2.51it/s]\n",
      "Evaluating...: 100%|\u001b[32m██████████\u001b[0m| 100/100 [00:46<00:00,  2.14it/s]\n"
     ]
    },
    {
     "name": "stdout",
     "output_type": "stream",
     "text": [
      "Epoch 01 -> F1-Score: 39.2473\n"
     ]
    },
    {
     "name": "stderr",
     "output_type": "stream",
     "text": [
      "Training...: 100%|\u001b[31m██████████\u001b[0m| 500/500 [03:20<00:00,  2.49it/s]\n",
      "Evaluating...: 100%|\u001b[32m██████████\u001b[0m| 100/100 [00:46<00:00,  2.14it/s]\n"
     ]
    },
    {
     "name": "stdout",
     "output_type": "stream",
     "text": [
      "Epoch 02 -> F1-Score: 39.0671\n"
     ]
    },
    {
     "name": "stderr",
     "output_type": "stream",
     "text": [
      "Training...: 100%|\u001b[31m██████████\u001b[0m| 500/500 [03:21<00:00,  2.48it/s]\n",
      "Evaluating...: 100%|\u001b[32m██████████\u001b[0m| 100/100 [00:46<00:00,  2.14it/s]\n"
     ]
    },
    {
     "name": "stdout",
     "output_type": "stream",
     "text": [
      "Epoch 03 -> F1-Score: 48.3696\n"
     ]
    },
    {
     "name": "stderr",
     "output_type": "stream",
     "text": [
      "Training...: 100%|\u001b[31m██████████\u001b[0m| 500/500 [03:22<00:00,  2.48it/s]\n",
      "Evaluating...: 100%|\u001b[32m██████████\u001b[0m| 100/100 [00:46<00:00,  2.14it/s]\n"
     ]
    },
    {
     "name": "stdout",
     "output_type": "stream",
     "text": [
      "Epoch 04 -> F1-Score: 34.4444\n"
     ]
    },
    {
     "name": "stderr",
     "output_type": "stream",
     "text": [
      "Training...: 100%|\u001b[31m██████████\u001b[0m| 500/500 [19:14<00:00,  2.31s/it]   \n",
      "Evaluating...: 100%|\u001b[32m██████████\u001b[0m| 100/100 [00:47<00:00,  2.12it/s]\n"
     ]
    },
    {
     "name": "stdout",
     "output_type": "stream",
     "text": [
      "Epoch 05 -> F1-Score: 35.2304\n"
     ]
    },
    {
     "name": "stderr",
     "output_type": "stream",
     "text": [
      "Evaluating...: 100%|\u001b[32m██████████\u001b[0m| 100/100 [00:47<00:00,  2.11it/s]\n"
     ]
    },
    {
     "name": "stdout",
     "output_type": "stream",
     "text": [
      "Tuning=> Precision: 55.9748 Recall: 42.5837 F-1: 48.3696\n",
      "\n",
      "step: 10, lambda: 0.0005\n"
     ]
    },
    {
     "name": "stderr",
     "output_type": "stream",
     "text": [
      "Training...: 100%|\u001b[31m██████████\u001b[0m| 500/500 [03:26<00:00,  2.43it/s]\n",
      "Evaluating...: 100%|\u001b[32m██████████\u001b[0m| 100/100 [00:48<00:00,  2.07it/s]\n"
     ]
    },
    {
     "name": "stdout",
     "output_type": "stream",
     "text": [
      "Epoch 01 -> F1-Score: 18.4438\n"
     ]
    },
    {
     "name": "stderr",
     "output_type": "stream",
     "text": [
      "Training...: 100%|\u001b[31m██████████\u001b[0m| 500/500 [03:27<00:00,  2.41it/s]\n",
      "Evaluating...: 100%|\u001b[32m██████████\u001b[0m| 100/100 [00:47<00:00,  2.10it/s]\n"
     ]
    },
    {
     "name": "stdout",
     "output_type": "stream",
     "text": [
      "Epoch 02 -> F1-Score: 32.5991\n"
     ]
    },
    {
     "name": "stderr",
     "output_type": "stream",
     "text": [
      "Training...: 100%|\u001b[31m██████████\u001b[0m| 500/500 [03:30<00:00,  2.38it/s]\n",
      "Evaluating...: 100%|\u001b[32m██████████\u001b[0m| 100/100 [00:49<00:00,  2.04it/s]\n"
     ]
    },
    {
     "name": "stdout",
     "output_type": "stream",
     "text": [
      "Epoch 03 -> F1-Score: 25.0\n"
     ]
    },
    {
     "name": "stderr",
     "output_type": "stream",
     "text": [
      "Training...: 100%|\u001b[31m██████████\u001b[0m| 500/500 [03:28<00:00,  2.40it/s]\n",
      "Evaluating...: 100%|\u001b[32m██████████\u001b[0m| 100/100 [00:48<00:00,  2.08it/s]\n"
     ]
    },
    {
     "name": "stdout",
     "output_type": "stream",
     "text": [
      "Epoch 04 -> F1-Score: 21.0526\n"
     ]
    },
    {
     "name": "stderr",
     "output_type": "stream",
     "text": [
      "Training...: 100%|\u001b[31m██████████\u001b[0m| 500/500 [03:28<00:00,  2.40it/s]\n",
      "Evaluating...: 100%|\u001b[32m██████████\u001b[0m| 100/100 [00:48<00:00,  2.07it/s]\n"
     ]
    },
    {
     "name": "stdout",
     "output_type": "stream",
     "text": [
      "Epoch 05 -> F1-Score: 19.7279\n"
     ]
    },
    {
     "name": "stderr",
     "output_type": "stream",
     "text": [
      "Evaluating...: 100%|\u001b[32m██████████\u001b[0m| 100/100 [00:47<00:00,  2.10it/s]\n"
     ]
    },
    {
     "name": "stdout",
     "output_type": "stream",
     "text": [
      "Tuning=> Precision: 30.2041 Recall: 35.4067 F-1: 32.5991\n",
      "\n",
      "step: 10, lambda: 0.001\n"
     ]
    },
    {
     "name": "stderr",
     "output_type": "stream",
     "text": [
      "Training...: 100%|\u001b[31m██████████\u001b[0m| 500/500 [03:26<00:00,  2.42it/s]\n",
      "Evaluating...: 100%|\u001b[32m██████████\u001b[0m| 100/100 [00:48<00:00,  2.04it/s]\n"
     ]
    },
    {
     "name": "stdout",
     "output_type": "stream",
     "text": [
      "Epoch 01 -> F1-Score: 18.0879\n"
     ]
    },
    {
     "name": "stderr",
     "output_type": "stream",
     "text": [
      "Training...: 100%|\u001b[31m██████████\u001b[0m| 500/500 [03:27<00:00,  2.41it/s]\n",
      "Evaluating...: 100%|\u001b[32m██████████\u001b[0m| 100/100 [00:48<00:00,  2.08it/s]\n"
     ]
    },
    {
     "name": "stdout",
     "output_type": "stream",
     "text": [
      "Epoch 02 -> F1-Score: 13.3705\n"
     ]
    },
    {
     "name": "stderr",
     "output_type": "stream",
     "text": [
      "Training...: 100%|\u001b[31m██████████\u001b[0m| 500/500 [03:29<00:00,  2.39it/s]\n",
      "Evaluating...: 100%|\u001b[32m██████████\u001b[0m| 100/100 [00:49<00:00,  2.03it/s]\n"
     ]
    },
    {
     "name": "stdout",
     "output_type": "stream",
     "text": [
      "Epoch 03 -> F1-Score: 34.2612\n"
     ]
    },
    {
     "name": "stderr",
     "output_type": "stream",
     "text": [
      "Training...: 100%|\u001b[31m██████████\u001b[0m| 500/500 [03:32<00:00,  2.36it/s]\n",
      "Evaluating...: 100%|\u001b[32m██████████\u001b[0m| 100/100 [00:48<00:00,  2.05it/s]\n"
     ]
    },
    {
     "name": "stdout",
     "output_type": "stream",
     "text": [
      "Epoch 04 -> F1-Score: 26.3736\n"
     ]
    },
    {
     "name": "stderr",
     "output_type": "stream",
     "text": [
      "Training...: 100%|\u001b[31m██████████\u001b[0m| 500/500 [03:33<00:00,  2.34it/s]\n",
      "Evaluating...: 100%|\u001b[32m██████████\u001b[0m| 100/100 [00:49<00:00,  2.04it/s]\n"
     ]
    },
    {
     "name": "stdout",
     "output_type": "stream",
     "text": [
      "Epoch 05 -> F1-Score: 15.8055\n"
     ]
    },
    {
     "name": "stderr",
     "output_type": "stream",
     "text": [
      "Evaluating...: 100%|\u001b[32m██████████\u001b[0m| 100/100 [00:48<00:00,  2.07it/s]\n"
     ]
    },
    {
     "name": "stdout",
     "output_type": "stream",
     "text": [
      "Tuning=> Precision: 31.0078 Recall: 38.2775 F-1: 34.2612\n",
      "\n",
      "step: 50, lambda: 0.0001\n"
     ]
    },
    {
     "name": "stderr",
     "output_type": "stream",
     "text": [
      "Training...: 100%|\u001b[31m██████████\u001b[0m| 500/500 [03:29<00:00,  2.39it/s]\n",
      "Evaluating...: 100%|\u001b[32m██████████\u001b[0m| 100/100 [00:49<00:00,  2.04it/s]\n"
     ]
    },
    {
     "name": "stdout",
     "output_type": "stream",
     "text": [
      "Epoch 01 -> F1-Score: 25.5738\n"
     ]
    },
    {
     "name": "stderr",
     "output_type": "stream",
     "text": [
      "Training...: 100%|\u001b[31m██████████\u001b[0m| 500/500 [03:31<00:00,  2.37it/s]\n",
      "Evaluating...: 100%|\u001b[32m██████████\u001b[0m| 100/100 [00:49<00:00,  2.03it/s]\n"
     ]
    },
    {
     "name": "stdout",
     "output_type": "stream",
     "text": [
      "Epoch 02 -> F1-Score: 9.322\n"
     ]
    },
    {
     "name": "stderr",
     "output_type": "stream",
     "text": [
      "Training...: 100%|\u001b[31m██████████\u001b[0m| 500/500 [03:35<00:00,  2.32it/s]\n",
      "Evaluating...: 100%|\u001b[32m██████████\u001b[0m| 100/100 [00:48<00:00,  2.06it/s]\n"
     ]
    },
    {
     "name": "stdout",
     "output_type": "stream",
     "text": [
      "Epoch 03 -> F1-Score: 35.1585\n"
     ]
    },
    {
     "name": "stderr",
     "output_type": "stream",
     "text": [
      "Training...: 100%|\u001b[31m██████████\u001b[0m| 500/500 [03:30<00:00,  2.38it/s]\n",
      "Evaluating...: 100%|\u001b[32m██████████\u001b[0m| 100/100 [00:48<00:00,  2.05it/s]\n"
     ]
    },
    {
     "name": "stdout",
     "output_type": "stream",
     "text": [
      "Epoch 04 -> F1-Score: 39.3519\n"
     ]
    },
    {
     "name": "stderr",
     "output_type": "stream",
     "text": [
      "Training...: 100%|\u001b[31m██████████\u001b[0m| 500/500 [03:29<00:00,  2.39it/s]\n",
      "Evaluating...: 100%|\u001b[32m██████████\u001b[0m| 100/100 [00:48<00:00,  2.05it/s]\n"
     ]
    },
    {
     "name": "stdout",
     "output_type": "stream",
     "text": [
      "Epoch 05 -> F1-Score: 40.0\n"
     ]
    },
    {
     "name": "stderr",
     "output_type": "stream",
     "text": [
      "Evaluating...: 100%|\u001b[32m██████████\u001b[0m| 100/100 [00:48<00:00,  2.05it/s]\n"
     ]
    },
    {
     "name": "stdout",
     "output_type": "stream",
     "text": [
      "Tuning=> Precision: 44.4444 Recall: 36.3636 F-1: 40.0000\n",
      "\n",
      "step: 50, lambda: 0.0005\n"
     ]
    },
    {
     "name": "stderr",
     "output_type": "stream",
     "text": [
      "Training...: 100%|\u001b[31m██████████\u001b[0m| 500/500 [03:21<00:00,  2.48it/s]\n",
      "Evaluating...: 100%|\u001b[32m██████████\u001b[0m| 100/100 [00:48<00:00,  2.08it/s]\n"
     ]
    },
    {
     "name": "stdout",
     "output_type": "stream",
     "text": [
      "Epoch 01 -> F1-Score: 12.6126\n"
     ]
    },
    {
     "name": "stderr",
     "output_type": "stream",
     "text": [
      "Training...: 100%|\u001b[31m██████████\u001b[0m| 500/500 [03:26<00:00,  2.42it/s]\n",
      "Evaluating...: 100%|\u001b[32m██████████\u001b[0m| 100/100 [00:47<00:00,  2.11it/s]\n"
     ]
    },
    {
     "name": "stdout",
     "output_type": "stream",
     "text": [
      "Epoch 02 -> F1-Score: 8.7649\n"
     ]
    },
    {
     "name": "stderr",
     "output_type": "stream",
     "text": [
      "Training...: 100%|\u001b[31m██████████\u001b[0m| 500/500 [03:27<00:00,  2.41it/s]\n",
      "Evaluating...: 100%|\u001b[32m██████████\u001b[0m| 100/100 [00:48<00:00,  2.08it/s]\n"
     ]
    },
    {
     "name": "stdout",
     "output_type": "stream",
     "text": [
      "Epoch 03 -> F1-Score: 16.0256\n"
     ]
    },
    {
     "name": "stderr",
     "output_type": "stream",
     "text": [
      "Training...: 100%|\u001b[31m██████████\u001b[0m| 500/500 [03:30<00:00,  2.38it/s]\n",
      "Evaluating...: 100%|\u001b[32m██████████\u001b[0m| 100/100 [00:48<00:00,  2.06it/s]\n"
     ]
    },
    {
     "name": "stdout",
     "output_type": "stream",
     "text": [
      "Epoch 04 -> F1-Score: 15.4386\n"
     ]
    },
    {
     "name": "stderr",
     "output_type": "stream",
     "text": [
      "Training...: 100%|\u001b[31m██████████\u001b[0m| 500/500 [03:30<00:00,  2.38it/s]\n",
      "Evaluating...: 100%|\u001b[32m██████████\u001b[0m| 100/100 [00:47<00:00,  2.09it/s]\n"
     ]
    },
    {
     "name": "stdout",
     "output_type": "stream",
     "text": [
      "Epoch 05 -> F1-Score: 6.4\n"
     ]
    },
    {
     "name": "stderr",
     "output_type": "stream",
     "text": [
      "Evaluating...: 100%|\u001b[32m██████████\u001b[0m| 100/100 [00:47<00:00,  2.10it/s]\n"
     ]
    },
    {
     "name": "stdout",
     "output_type": "stream",
     "text": [
      "Tuning=> Precision: 24.2718 Recall: 11.9617 F-1: 16.0256\n",
      "\n",
      "step: 50, lambda: 0.001\n"
     ]
    },
    {
     "name": "stderr",
     "output_type": "stream",
     "text": [
      "Training...: 100%|\u001b[31m██████████\u001b[0m| 500/500 [03:23<00:00,  2.46it/s]\n",
      "Evaluating...: 100%|\u001b[32m██████████\u001b[0m| 100/100 [00:48<00:00,  2.07it/s]\n"
     ]
    },
    {
     "name": "stdout",
     "output_type": "stream",
     "text": [
      "Epoch 01 -> F1-Score: 5.7971\n"
     ]
    },
    {
     "name": "stderr",
     "output_type": "stream",
     "text": [
      "Training...: 100%|\u001b[31m██████████\u001b[0m| 500/500 [03:26<00:00,  2.42it/s]\n",
      "Evaluating...: 100%|\u001b[32m██████████\u001b[0m| 100/100 [00:48<00:00,  2.06it/s]\n"
     ]
    },
    {
     "name": "stdout",
     "output_type": "stream",
     "text": [
      "Epoch 02 -> F1-Score: 5.9322\n"
     ]
    },
    {
     "name": "stderr",
     "output_type": "stream",
     "text": [
      "Training...: 100%|\u001b[31m██████████\u001b[0m| 500/500 [03:27<00:00,  2.41it/s]\n",
      "Evaluating...: 100%|\u001b[32m██████████\u001b[0m| 100/100 [00:47<00:00,  2.12it/s]\n"
     ]
    },
    {
     "name": "stdout",
     "output_type": "stream",
     "text": [
      "Epoch 03 -> F1-Score: 10.2128\n"
     ]
    },
    {
     "name": "stderr",
     "output_type": "stream",
     "text": [
      "Training...: 100%|\u001b[31m██████████\u001b[0m| 500/500 [03:27<00:00,  2.41it/s]\n",
      "Evaluating...: 100%|\u001b[32m██████████\u001b[0m| 100/100 [00:48<00:00,  2.08it/s]\n"
     ]
    },
    {
     "name": "stdout",
     "output_type": "stream",
     "text": [
      "Epoch 04 -> F1-Score: 17.9949\n"
     ]
    },
    {
     "name": "stderr",
     "output_type": "stream",
     "text": [
      "Training...: 100%|\u001b[31m██████████\u001b[0m| 500/500 [03:27<00:00,  2.41it/s]\n",
      "Evaluating...: 100%|\u001b[32m██████████\u001b[0m| 100/100 [00:47<00:00,  2.08it/s]\n"
     ]
    },
    {
     "name": "stdout",
     "output_type": "stream",
     "text": [
      "Epoch 05 -> F1-Score: 14.3198\n"
     ]
    },
    {
     "name": "stderr",
     "output_type": "stream",
     "text": [
      "Evaluating...: 100%|\u001b[32m██████████\u001b[0m| 100/100 [00:48<00:00,  2.08it/s]\n"
     ]
    },
    {
     "name": "stdout",
     "output_type": "stream",
     "text": [
      "Tuning=> Precision: 19.4444 Recall: 16.7464 F-1: 17.9949\n",
      "\n",
      "step: 100, lambda: 0.0001\n"
     ]
    },
    {
     "name": "stderr",
     "output_type": "stream",
     "text": [
      "Training...: 100%|\u001b[31m██████████\u001b[0m| 500/500 [03:23<00:00,  2.45it/s]\n",
      "Evaluating...: 100%|\u001b[32m██████████\u001b[0m| 100/100 [00:47<00:00,  2.09it/s]\n"
     ]
    },
    {
     "name": "stdout",
     "output_type": "stream",
     "text": [
      "Epoch 01 -> F1-Score: 11.1588\n"
     ]
    },
    {
     "name": "stderr",
     "output_type": "stream",
     "text": [
      "Training...: 100%|\u001b[31m██████████\u001b[0m| 500/500 [03:28<00:00,  2.40it/s]\n",
      "Evaluating...: 100%|\u001b[32m██████████\u001b[0m| 100/100 [01:45<00:00,  1.05s/it]\n"
     ]
    },
    {
     "name": "stdout",
     "output_type": "stream",
     "text": [
      "Epoch 02 -> F1-Score: 35.5263\n"
     ]
    },
    {
     "name": "stderr",
     "output_type": "stream",
     "text": [
      "Training...: 100%|\u001b[31m██████████\u001b[0m| 500/500 [03:24<00:00,  2.44it/s]\n",
      "Evaluating...: 100%|\u001b[32m██████████\u001b[0m| 100/100 [00:46<00:00,  2.14it/s]\n"
     ]
    },
    {
     "name": "stdout",
     "output_type": "stream",
     "text": [
      "Epoch 03 -> F1-Score: 21.7391\n"
     ]
    },
    {
     "name": "stderr",
     "output_type": "stream",
     "text": [
      "Training...: 100%|\u001b[31m██████████\u001b[0m| 500/500 [03:24<00:00,  2.45it/s]\n",
      "Evaluating...: 100%|\u001b[32m██████████\u001b[0m| 100/100 [00:47<00:00,  2.11it/s]\n"
     ]
    },
    {
     "name": "stdout",
     "output_type": "stream",
     "text": [
      "Epoch 04 -> F1-Score: 11.2\n"
     ]
    },
    {
     "name": "stderr",
     "output_type": "stream",
     "text": [
      "Training...: 100%|\u001b[31m██████████\u001b[0m| 500/500 [03:27<00:00,  2.41it/s]\n",
      "Evaluating...: 100%|\u001b[32m██████████\u001b[0m| 100/100 [00:48<00:00,  2.06it/s]\n"
     ]
    },
    {
     "name": "stdout",
     "output_type": "stream",
     "text": [
      "Epoch 05 -> F1-Score: 21.25\n"
     ]
    },
    {
     "name": "stderr",
     "output_type": "stream",
     "text": [
      "Evaluating...: 100%|\u001b[32m██████████\u001b[0m| 100/100 [00:47<00:00,  2.13it/s]\n"
     ]
    },
    {
     "name": "stdout",
     "output_type": "stream",
     "text": [
      "Tuning=> Precision: 32.7935 Recall: 38.7560 F-1: 35.5263\n",
      "\n",
      "step: 100, lambda: 0.0005\n"
     ]
    },
    {
     "name": "stderr",
     "output_type": "stream",
     "text": [
      "Training...: 100%|\u001b[31m██████████\u001b[0m| 500/500 [03:23<00:00,  2.46it/s]\n",
      "Evaluating...: 100%|\u001b[32m██████████\u001b[0m| 100/100 [00:47<00:00,  2.09it/s]\n"
     ]
    },
    {
     "name": "stdout",
     "output_type": "stream",
     "text": [
      "Epoch 01 -> F1-Score: 18.4438\n"
     ]
    },
    {
     "name": "stderr",
     "output_type": "stream",
     "text": [
      "Training...: 100%|\u001b[31m██████████\u001b[0m| 500/500 [03:23<00:00,  2.46it/s]\n",
      "Evaluating...: 100%|\u001b[32m██████████\u001b[0m| 100/100 [00:47<00:00,  2.10it/s]\n"
     ]
    },
    {
     "name": "stdout",
     "output_type": "stream",
     "text": [
      "Epoch 02 -> F1-Score: 8.8106\n"
     ]
    },
    {
     "name": "stderr",
     "output_type": "stream",
     "text": [
      "Training...: 100%|\u001b[31m██████████\u001b[0m| 500/500 [03:27<00:00,  2.41it/s]\n",
      "Evaluating...: 100%|\u001b[32m██████████\u001b[0m| 100/100 [00:47<00:00,  2.11it/s]\n"
     ]
    },
    {
     "name": "stdout",
     "output_type": "stream",
     "text": [
      "Epoch 03 -> F1-Score: 23.6264\n"
     ]
    },
    {
     "name": "stderr",
     "output_type": "stream",
     "text": [
      "Training...: 100%|\u001b[31m██████████\u001b[0m| 500/500 [03:27<00:00,  2.41it/s]\n",
      "Evaluating...: 100%|\u001b[32m██████████\u001b[0m| 100/100 [00:47<00:00,  2.10it/s]\n"
     ]
    },
    {
     "name": "stdout",
     "output_type": "stream",
     "text": [
      "Epoch 04 -> F1-Score: 14.4404\n"
     ]
    },
    {
     "name": "stderr",
     "output_type": "stream",
     "text": [
      "Training...: 100%|\u001b[31m██████████\u001b[0m| 500/500 [03:29<00:00,  2.38it/s]\n",
      "Evaluating...: 100%|\u001b[32m██████████\u001b[0m| 100/100 [00:48<00:00,  2.06it/s]\n"
     ]
    },
    {
     "name": "stdout",
     "output_type": "stream",
     "text": [
      "Epoch 05 -> F1-Score: 1.7699\n"
     ]
    },
    {
     "name": "stderr",
     "output_type": "stream",
     "text": [
      "Evaluating...: 100%|\u001b[32m██████████\u001b[0m| 100/100 [00:48<00:00,  2.08it/s]\n"
     ]
    },
    {
     "name": "stdout",
     "output_type": "stream",
     "text": [
      "Tuning=> Precision: 27.7419 Recall: 20.5742 F-1: 23.6264\n",
      "\n",
      "step: 100, lambda: 0.001\n"
     ]
    },
    {
     "name": "stderr",
     "output_type": "stream",
     "text": [
      "Training...: 100%|\u001b[31m██████████\u001b[0m| 500/500 [03:30<00:00,  2.37it/s]\n",
      "Evaluating...: 100%|\u001b[32m██████████\u001b[0m| 100/100 [00:48<00:00,  2.05it/s]\n"
     ]
    },
    {
     "name": "stdout",
     "output_type": "stream",
     "text": [
      "Epoch 01 -> F1-Score: 7.3733\n"
     ]
    },
    {
     "name": "stderr",
     "output_type": "stream",
     "text": [
      "Training...: 100%|\u001b[31m██████████\u001b[0m| 500/500 [03:29<00:00,  2.38it/s]\n",
      "Evaluating...: 100%|\u001b[32m██████████\u001b[0m| 100/100 [00:48<00:00,  2.05it/s]\n"
     ]
    },
    {
     "name": "stdout",
     "output_type": "stream",
     "text": [
      "Epoch 02 -> F1-Score: 9.8765\n"
     ]
    },
    {
     "name": "stderr",
     "output_type": "stream",
     "text": [
      "Training...: 100%|\u001b[31m██████████\u001b[0m| 500/500 [03:33<00:00,  2.35it/s]\n",
      "Evaluating...: 100%|\u001b[32m██████████\u001b[0m| 100/100 [00:49<00:00,  2.02it/s]\n"
     ]
    },
    {
     "name": "stdout",
     "output_type": "stream",
     "text": [
      "Epoch 03 -> F1-Score: 0\n"
     ]
    },
    {
     "name": "stderr",
     "output_type": "stream",
     "text": [
      "Training...: 100%|\u001b[31m██████████\u001b[0m| 500/500 [03:39<00:00,  2.28it/s]\n",
      "Evaluating...: 100%|\u001b[32m██████████\u001b[0m| 100/100 [00:49<00:00,  2.03it/s]\n"
     ]
    },
    {
     "name": "stdout",
     "output_type": "stream",
     "text": [
      "Epoch 04 -> F1-Score: 11.985\n"
     ]
    },
    {
     "name": "stderr",
     "output_type": "stream",
     "text": [
      "Training...: 100%|\u001b[31m██████████\u001b[0m| 500/500 [03:36<00:00,  2.31it/s]\n",
      "Evaluating...: 100%|\u001b[32m██████████\u001b[0m| 100/100 [00:49<00:00,  2.03it/s]\n"
     ]
    },
    {
     "name": "stdout",
     "output_type": "stream",
     "text": [
      "Epoch 05 -> F1-Score: 0\n"
     ]
    },
    {
     "name": "stderr",
     "output_type": "stream",
     "text": [
      "Evaluating...: 100%|\u001b[32m██████████\u001b[0m| 100/100 [00:52<00:00,  1.92it/s]\n"
     ]
    },
    {
     "name": "stdout",
     "output_type": "stream",
     "text": [
      "Tuning=> Precision: 27.5862 Recall: 7.6555 F-1: 11.9850\n",
      "\n",
      "\n",
      "Best!! step: 10, lambda: 0.0001\n",
      "\n"
     ]
    },
    {
     "name": "stderr",
     "output_type": "stream",
     "text": [
      "Evaluating...: 100%|\u001b[32m██████████\u001b[0m| 100/100 [00:51<00:00,  1.95it/s]\n"
     ]
    },
    {
     "name": "stdout",
     "output_type": "stream",
     "text": [
      "DEV SET | Precision: 55.9748 | Recall: 42.5837 | F-1 Score: 48.3696\n"
     ]
    },
    {
     "name": "stderr",
     "output_type": "stream",
     "text": [
      "Evaluating...: 100%|\u001b[32m██████████\u001b[0m| 100/100 [00:36<00:00,  2.72it/s]\n"
     ]
    },
    {
     "name": "stdout",
     "output_type": "stream",
     "text": [
      "TEST SET | Precision: 40.0000 | Recall: 35.2941 | F-1 Score: 37.5000\n"
     ]
    }
   ],
   "source": [
    "structured_svm(\n",
    "    hamming_loss(penalty=30),\n",
    "    feature_names=full_feature_set,\n",
    "    name=\"ffs_modified_svm_ssgd\"\n",
    ")"
   ]
  }
 ],
 "metadata": {
  "kernelspec": {
   "display_name": "pvenv",
   "language": "python",
   "name": "python3"
  },
  "language_info": {
   "codemirror_mode": {
    "name": "ipython",
    "version": 3
   },
   "file_extension": ".py",
   "mimetype": "text/x-python",
   "name": "python",
   "nbconvert_exporter": "python",
   "pygments_lexer": "ipython3",
   "version": "3.10.10"
  },
  "papermill": {
   "default_parameters": {},
   "duration": 10.205706,
   "end_time": "2023-03-08T08:00:56.333603",
   "environment_variables": {},
   "exception": null,
   "input_path": "a3.ipynb",
   "output_path": "a3.ipynb",
   "parameters": {
    "epoch": 5
   },
   "start_time": "2023-03-08T08:00:46.127897",
   "version": "2.4.0"
  }
 },
 "nbformat": 4,
 "nbformat_minor": 5
}
